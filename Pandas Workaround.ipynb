{
 "cells": [
  {
   "cell_type": "code",
   "execution_count": 1,
   "id": "85b252a3",
   "metadata": {},
   "outputs": [],
   "source": [
    "#Thalaiva"
   ]
  },
  {
   "cell_type": "code",
   "execution_count": 2,
   "id": "b0834c9c",
   "metadata": {},
   "outputs": [],
   "source": [
    "import numpy as np"
   ]
  },
  {
   "cell_type": "code",
   "execution_count": 3,
   "id": "adf09dd7",
   "metadata": {},
   "outputs": [],
   "source": [
    "import pandas as pd"
   ]
  },
  {
   "cell_type": "code",
   "execution_count": 4,
   "id": "0874b278",
   "metadata": {},
   "outputs": [],
   "source": [
    "my_data = [1,2,3,4,5,6,7,8]\n",
    "labels = ['One', 'Two', 'Three', 'Four', 'Five', 'Six', 'Seven', 'Eight']\n",
    "numbers_dict = {\n",
    "    1: 'One',\n",
    "    2: 'Two',\n",
    "    3: 'Three',\n",
    "    4: 'Four',\n",
    "    5: 'Five',\n",
    "    6: 'Six',\n",
    "    7: 'Seven',\n",
    "    8: 'Eight'\n",
    "}\n",
    "arr_ex = np.array(my_data)"
   ]
  },
  {
   "cell_type": "code",
   "execution_count": 5,
   "id": "f959c6db",
   "metadata": {},
   "outputs": [
    {
     "data": {
      "text/plain": [
       "[1, 2, 3, 4, 5, 6, 7, 8]"
      ]
     },
     "execution_count": 5,
     "metadata": {},
     "output_type": "execute_result"
    }
   ],
   "source": [
    "my_data"
   ]
  },
  {
   "cell_type": "code",
   "execution_count": 6,
   "id": "54981fc4",
   "metadata": {},
   "outputs": [
    {
     "data": {
      "text/plain": [
       "['One', 'Two', 'Three', 'Four', 'Five', 'Six', 'Seven', 'Eight']"
      ]
     },
     "execution_count": 6,
     "metadata": {},
     "output_type": "execute_result"
    }
   ],
   "source": [
    "labels"
   ]
  },
  {
   "cell_type": "code",
   "execution_count": 7,
   "id": "ef419018",
   "metadata": {},
   "outputs": [
    {
     "data": {
      "text/plain": [
       "{1: 'One',\n",
       " 2: 'Two',\n",
       " 3: 'Three',\n",
       " 4: 'Four',\n",
       " 5: 'Five',\n",
       " 6: 'Six',\n",
       " 7: 'Seven',\n",
       " 8: 'Eight'}"
      ]
     },
     "execution_count": 7,
     "metadata": {},
     "output_type": "execute_result"
    }
   ],
   "source": [
    "numbers_dict"
   ]
  },
  {
   "cell_type": "code",
   "execution_count": 8,
   "id": "608dda44",
   "metadata": {},
   "outputs": [
    {
     "data": {
      "text/plain": [
       "array([1, 2, 3, 4, 5, 6, 7, 8])"
      ]
     },
     "execution_count": 8,
     "metadata": {},
     "output_type": "execute_result"
    }
   ],
   "source": [
    "arr_ex"
   ]
  },
  {
   "cell_type": "code",
   "execution_count": 9,
   "id": "1d23a8f3",
   "metadata": {},
   "outputs": [
    {
     "data": {
      "text/plain": [
       "0    1\n",
       "1    2\n",
       "2    3\n",
       "3    4\n",
       "4    5\n",
       "5    6\n",
       "6    7\n",
       "7    8\n",
       "dtype: int64"
      ]
     },
     "execution_count": 9,
     "metadata": {},
     "output_type": "execute_result"
    }
   ],
   "source": [
    "pd.Series(data= my_data)"
   ]
  },
  {
   "cell_type": "code",
   "execution_count": 10,
   "id": "fe50368c",
   "metadata": {},
   "outputs": [
    {
     "data": {
      "text/plain": [
       "One      1\n",
       "Two      2\n",
       "Three    3\n",
       "Four     4\n",
       "Five     5\n",
       "Six      6\n",
       "Seven    7\n",
       "Eight    8\n",
       "dtype: int64"
      ]
     },
     "execution_count": 10,
     "metadata": {},
     "output_type": "execute_result"
    }
   ],
   "source": [
    "pd.Series(my_data,labels)"
   ]
  },
  {
   "cell_type": "code",
   "execution_count": 11,
   "id": "523f3480",
   "metadata": {},
   "outputs": [
    {
     "data": {
      "text/plain": [
       "One      1\n",
       "Two      2\n",
       "Three    3\n",
       "Four     4\n",
       "Five     5\n",
       "Six      6\n",
       "Seven    7\n",
       "Eight    8\n",
       "dtype: int32"
      ]
     },
     "execution_count": 11,
     "metadata": {},
     "output_type": "execute_result"
    }
   ],
   "source": [
    "pd.Series(arr_ex,index=labels)"
   ]
  },
  {
   "cell_type": "code",
   "execution_count": 12,
   "id": "d09c9929",
   "metadata": {},
   "outputs": [
    {
     "data": {
      "text/plain": [
       "1      One\n",
       "2      Two\n",
       "3    Three\n",
       "4     Four\n",
       "5     Five\n",
       "6      Six\n",
       "7    Seven\n",
       "8    Eight\n",
       "dtype: object"
      ]
     },
     "execution_count": 12,
     "metadata": {},
     "output_type": "execute_result"
    }
   ],
   "source": [
    "pd.Series(numbers_dict)"
   ]
  },
  {
   "cell_type": "code",
   "execution_count": 13,
   "id": "539139bf",
   "metadata": {},
   "outputs": [],
   "source": [
    "# Combining Values"
   ]
  },
  {
   "cell_type": "code",
   "execution_count": 14,
   "id": "b2ab3580",
   "metadata": {},
   "outputs": [],
   "source": [
    "example_ser1 = pd.Series([1,2,3,4,5,6],['United States', 'Canada', 'United Kingdom', 'Australia', 'Germany', 'Japan'])"
   ]
  },
  {
   "cell_type": "code",
   "execution_count": 15,
   "id": "87344e1d",
   "metadata": {},
   "outputs": [
    {
     "data": {
      "text/plain": [
       "United States     1\n",
       "Canada            2\n",
       "United Kingdom    3\n",
       "Australia         4\n",
       "Germany           5\n",
       "Japan             6\n",
       "dtype: int64"
      ]
     },
     "execution_count": 15,
     "metadata": {},
     "output_type": "execute_result"
    }
   ],
   "source": [
    "example_ser1"
   ]
  },
  {
   "cell_type": "code",
   "execution_count": 16,
   "id": "50485306",
   "metadata": {},
   "outputs": [],
   "source": [
    "example_ser2 = pd.Series([1,2,3,4,5,6], ['France', 'Brazil', 'China', 'India', 'Mexico', 'South Africa'])"
   ]
  },
  {
   "cell_type": "code",
   "execution_count": 17,
   "id": "51d644a3",
   "metadata": {},
   "outputs": [
    {
     "data": {
      "text/plain": [
       "France          1\n",
       "Brazil          2\n",
       "China           3\n",
       "India           4\n",
       "Mexico          5\n",
       "South Africa    6\n",
       "dtype: int64"
      ]
     },
     "execution_count": 17,
     "metadata": {},
     "output_type": "execute_result"
    }
   ],
   "source": [
    "example_ser2"
   ]
  },
  {
   "cell_type": "code",
   "execution_count": 18,
   "id": "b7f491ad",
   "metadata": {},
   "outputs": [
    {
     "data": {
      "text/plain": [
       "Australia        NaN\n",
       "Brazil           NaN\n",
       "Canada           NaN\n",
       "China            NaN\n",
       "France           NaN\n",
       "Germany          NaN\n",
       "India            NaN\n",
       "Japan            NaN\n",
       "Mexico           NaN\n",
       "South Africa     NaN\n",
       "United Kingdom   NaN\n",
       "United States    NaN\n",
       "dtype: float64"
      ]
     },
     "execution_count": 18,
     "metadata": {},
     "output_type": "execute_result"
    }
   ],
   "source": [
    "example_ser1 + example_ser2"
   ]
  },
  {
   "cell_type": "code",
   "execution_count": 19,
   "id": "8fe25a57",
   "metadata": {},
   "outputs": [],
   "source": [
    "example_ser3 = example_ser1"
   ]
  },
  {
   "cell_type": "code",
   "execution_count": 20,
   "id": "6b4b64ec",
   "metadata": {},
   "outputs": [
    {
     "data": {
      "text/plain": [
       "United States      2\n",
       "Canada             4\n",
       "United Kingdom     6\n",
       "Australia          8\n",
       "Germany           10\n",
       "Japan             12\n",
       "dtype: int64"
      ]
     },
     "execution_count": 20,
     "metadata": {},
     "output_type": "execute_result"
    }
   ],
   "source": [
    "example_ser1 + example_ser3"
   ]
  },
  {
   "cell_type": "code",
   "execution_count": 21,
   "id": "99b75f22",
   "metadata": {},
   "outputs": [],
   "source": [
    "example_ser4 = pd.Series([99,2,3,4,0,6],['United States', 'Canada', 'United Kingdom', 'Australia', 'Germany', 'Japan'])"
   ]
  },
  {
   "cell_type": "code",
   "execution_count": 22,
   "id": "7f097d13",
   "metadata": {},
   "outputs": [
    {
     "data": {
      "text/plain": [
       "United States     100\n",
       "Canada              4\n",
       "United Kingdom      6\n",
       "Australia           8\n",
       "Germany             5\n",
       "Japan              12\n",
       "dtype: int64"
      ]
     },
     "execution_count": 22,
     "metadata": {},
     "output_type": "execute_result"
    }
   ],
   "source": [
    "example_ser1 + example_ser4"
   ]
  },
  {
   "cell_type": "code",
   "execution_count": 23,
   "id": "4edbd940",
   "metadata": {},
   "outputs": [],
   "source": [
    "example_ser5 = pd.Series([99,2,3,4,0,6],['India', 'Canada', 'United Kingdom', 'Australia', 'Germany', 'Japan'])"
   ]
  },
  {
   "cell_type": "code",
   "execution_count": 24,
   "id": "32c9d3b3",
   "metadata": {},
   "outputs": [
    {
     "data": {
      "text/plain": [
       "Australia          8.0\n",
       "Canada             4.0\n",
       "Germany            5.0\n",
       "India              NaN\n",
       "Japan             12.0\n",
       "United Kingdom     6.0\n",
       "United States      NaN\n",
       "dtype: float64"
      ]
     },
     "execution_count": 24,
     "metadata": {},
     "output_type": "execute_result"
    }
   ],
   "source": [
    "example_ser1 + example_ser5"
   ]
  },
  {
   "cell_type": "code",
   "execution_count": 25,
   "id": "723ecd4e",
   "metadata": {},
   "outputs": [],
   "source": [
    "# These are some operations that we can do"
   ]
  },
  {
   "cell_type": "code",
   "execution_count": 26,
   "id": "d1c7a604",
   "metadata": {},
   "outputs": [
    {
     "data": {
      "text/plain": [
       "Australia         0.0\n",
       "Canada            0.0\n",
       "Germany           5.0\n",
       "India             NaN\n",
       "Japan             0.0\n",
       "United Kingdom    0.0\n",
       "United States     NaN\n",
       "dtype: float64"
      ]
     },
     "execution_count": 26,
     "metadata": {},
     "output_type": "execute_result"
    }
   ],
   "source": [
    "example_ser1 - example_ser5"
   ]
  },
  {
   "cell_type": "code",
   "execution_count": 27,
   "id": "037d234b",
   "metadata": {},
   "outputs": [
    {
     "data": {
      "text/plain": [
       "United States     99\n",
       "Canada             4\n",
       "United Kingdom     9\n",
       "Australia         16\n",
       "Germany            0\n",
       "Japan             36\n",
       "dtype: int64"
      ]
     },
     "execution_count": 27,
     "metadata": {},
     "output_type": "execute_result"
    }
   ],
   "source": [
    "example_ser1 * example_ser4"
   ]
  },
  {
   "cell_type": "code",
   "execution_count": 28,
   "id": "fc2a2250",
   "metadata": {},
   "outputs": [
    {
     "data": {
      "text/plain": [
       "United States     0.010101\n",
       "Canada            1.000000\n",
       "United Kingdom    1.000000\n",
       "Australia         1.000000\n",
       "Germany                inf\n",
       "Japan             1.000000\n",
       "dtype: float64"
      ]
     },
     "execution_count": 28,
     "metadata": {},
     "output_type": "execute_result"
    }
   ],
   "source": [
    "example_ser1 / example_ser4"
   ]
  },
  {
   "cell_type": "code",
   "execution_count": 29,
   "id": "f18d1d57",
   "metadata": {},
   "outputs": [
    {
     "data": {
      "text/plain": [
       "United States     98\n",
       "Canada             0\n",
       "United Kingdom     0\n",
       "Australia          0\n",
       "Germany            5\n",
       "Japan              0\n",
       "dtype: int64"
      ]
     },
     "execution_count": 29,
     "metadata": {},
     "output_type": "execute_result"
    }
   ],
   "source": [
    "example_ser1 ^ example_ser4"
   ]
  },
  {
   "cell_type": "code",
   "execution_count": 30,
   "id": "030e13bd",
   "metadata": {},
   "outputs": [
    {
     "data": {
      "text/plain": [
       "United States     1\n",
       "Canada            2\n",
       "United Kingdom    3\n",
       "Australia         4\n",
       "Germany           0\n",
       "Japan             6\n",
       "dtype: int64"
      ]
     },
     "execution_count": 30,
     "metadata": {},
     "output_type": "execute_result"
    }
   ],
   "source": [
    "example_ser1 & example_ser4"
   ]
  },
  {
   "cell_type": "code",
   "execution_count": 31,
   "id": "5bb7fc2b",
   "metadata": {},
   "outputs": [
    {
     "data": {
      "text/plain": [
       "United States     1.0\n",
       "Canada            0.0\n",
       "United Kingdom    0.0\n",
       "Australia         0.0\n",
       "Germany           NaN\n",
       "Japan             0.0\n",
       "dtype: float64"
      ]
     },
     "execution_count": 31,
     "metadata": {},
     "output_type": "execute_result"
    }
   ],
   "source": [
    "example_ser1 % example_ser4"
   ]
  },
  {
   "cell_type": "markdown",
   "id": "5d75bd7f",
   "metadata": {},
   "source": [
    "These are some examples"
   ]
  },
  {
   "cell_type": "code",
   "execution_count": 32,
   "id": "dabe2ece",
   "metadata": {},
   "outputs": [],
   "source": [
    "from numpy.random import randn\n",
    "np.random.seed(101)"
   ]
  },
  {
   "cell_type": "code",
   "execution_count": 33,
   "id": "4eb66d9c",
   "metadata": {},
   "outputs": [],
   "source": [
    "food_names = ['Spaghetti Bolognese', 'Chicken Tikka Masala', 'Caprese Salad', 'Mango Sticky Rice', 'Grilled Salmon']\n",
    "food_countries = ['United States', 'Canada', 'United Kingdom', 'Australia', 'Japan']"
   ]
  },
  {
   "cell_type": "code",
   "execution_count": 34,
   "id": "076ecda1",
   "metadata": {},
   "outputs": [],
   "source": [
    "food_values = pd.DataFrame(randn(5,5),food_names,food_countries)"
   ]
  },
  {
   "cell_type": "code",
   "execution_count": 35,
   "id": "911cb6b1",
   "metadata": {},
   "outputs": [
    {
     "data": {
      "text/html": [
       "<div>\n",
       "<style scoped>\n",
       "    .dataframe tbody tr th:only-of-type {\n",
       "        vertical-align: middle;\n",
       "    }\n",
       "\n",
       "    .dataframe tbody tr th {\n",
       "        vertical-align: top;\n",
       "    }\n",
       "\n",
       "    .dataframe thead th {\n",
       "        text-align: right;\n",
       "    }\n",
       "</style>\n",
       "<table border=\"1\" class=\"dataframe\">\n",
       "  <thead>\n",
       "    <tr style=\"text-align: right;\">\n",
       "      <th></th>\n",
       "      <th>United States</th>\n",
       "      <th>Canada</th>\n",
       "      <th>United Kingdom</th>\n",
       "      <th>Australia</th>\n",
       "      <th>Japan</th>\n",
       "    </tr>\n",
       "  </thead>\n",
       "  <tbody>\n",
       "    <tr>\n",
       "      <th>Spaghetti Bolognese</th>\n",
       "      <td>2.706850</td>\n",
       "      <td>0.628133</td>\n",
       "      <td>0.907969</td>\n",
       "      <td>0.503826</td>\n",
       "      <td>0.651118</td>\n",
       "    </tr>\n",
       "    <tr>\n",
       "      <th>Chicken Tikka Masala</th>\n",
       "      <td>-0.319318</td>\n",
       "      <td>-0.848077</td>\n",
       "      <td>0.605965</td>\n",
       "      <td>-2.018168</td>\n",
       "      <td>0.740122</td>\n",
       "    </tr>\n",
       "    <tr>\n",
       "      <th>Caprese Salad</th>\n",
       "      <td>0.528813</td>\n",
       "      <td>-0.589001</td>\n",
       "      <td>0.188695</td>\n",
       "      <td>-0.758872</td>\n",
       "      <td>-0.933237</td>\n",
       "    </tr>\n",
       "    <tr>\n",
       "      <th>Mango Sticky Rice</th>\n",
       "      <td>0.955057</td>\n",
       "      <td>0.190794</td>\n",
       "      <td>1.978757</td>\n",
       "      <td>2.605967</td>\n",
       "      <td>0.683509</td>\n",
       "    </tr>\n",
       "    <tr>\n",
       "      <th>Grilled Salmon</th>\n",
       "      <td>0.302665</td>\n",
       "      <td>1.693723</td>\n",
       "      <td>-1.706086</td>\n",
       "      <td>-1.159119</td>\n",
       "      <td>-0.134841</td>\n",
       "    </tr>\n",
       "  </tbody>\n",
       "</table>\n",
       "</div>"
      ],
      "text/plain": [
       "                      United States    Canada  United Kingdom  Australia  \\\n",
       "Spaghetti Bolognese        2.706850  0.628133        0.907969   0.503826   \n",
       "Chicken Tikka Masala      -0.319318 -0.848077        0.605965  -2.018168   \n",
       "Caprese Salad              0.528813 -0.589001        0.188695  -0.758872   \n",
       "Mango Sticky Rice          0.955057  0.190794        1.978757   2.605967   \n",
       "Grilled Salmon             0.302665  1.693723       -1.706086  -1.159119   \n",
       "\n",
       "                         Japan  \n",
       "Spaghetti Bolognese   0.651118  \n",
       "Chicken Tikka Masala  0.740122  \n",
       "Caprese Salad        -0.933237  \n",
       "Mango Sticky Rice     0.683509  \n",
       "Grilled Salmon       -0.134841  "
      ]
     },
     "execution_count": 35,
     "metadata": {},
     "output_type": "execute_result"
    }
   ],
   "source": [
    "food_values"
   ]
  },
  {
   "cell_type": "code",
   "execution_count": 36,
   "id": "642af865",
   "metadata": {},
   "outputs": [],
   "source": [
    "#food_values.loc['Panner Butter Masala'] = pd.DataFrame(randn(1,5),index= [\"Panner Butter Masala\"],columns= food_countries)"
   ]
  },
  {
   "cell_type": "code",
   "execution_count": 37,
   "id": "461339aa",
   "metadata": {},
   "outputs": [
    {
     "data": {
      "text/plain": [
       "array([[0.39052784, 0.16690464, 0.18450186, 0.80770591, 0.07295968]])"
      ]
     },
     "execution_count": 37,
     "metadata": {},
     "output_type": "execute_result"
    }
   ],
   "source": [
    "randn(1,5)"
   ]
  },
  {
   "cell_type": "code",
   "execution_count": 38,
   "id": "e4d6c052",
   "metadata": {},
   "outputs": [],
   "source": [
    "food_values2 = pd.DataFrame(randn(5,5),food_names,food_countries)"
   ]
  },
  {
   "cell_type": "code",
   "execution_count": 39,
   "id": "5af0165c",
   "metadata": {},
   "outputs": [
    {
     "data": {
      "text/html": [
       "<div>\n",
       "<style scoped>\n",
       "    .dataframe tbody tr th:only-of-type {\n",
       "        vertical-align: middle;\n",
       "    }\n",
       "\n",
       "    .dataframe tbody tr th {\n",
       "        vertical-align: top;\n",
       "    }\n",
       "\n",
       "    .dataframe thead th {\n",
       "        text-align: right;\n",
       "    }\n",
       "</style>\n",
       "<table border=\"1\" class=\"dataframe\">\n",
       "  <thead>\n",
       "    <tr style=\"text-align: right;\">\n",
       "      <th></th>\n",
       "      <th>United States</th>\n",
       "      <th>Canada</th>\n",
       "      <th>United Kingdom</th>\n",
       "      <th>Australia</th>\n",
       "      <th>Japan</th>\n",
       "    </tr>\n",
       "  </thead>\n",
       "  <tbody>\n",
       "    <tr>\n",
       "      <th>Spaghetti Bolognese</th>\n",
       "      <td>1.663597</td>\n",
       "      <td>1.354457</td>\n",
       "      <td>0.527706</td>\n",
       "      <td>0.270741</td>\n",
       "      <td>0.081404</td>\n",
       "    </tr>\n",
       "    <tr>\n",
       "      <th>Chicken Tikka Masala</th>\n",
       "      <td>-0.441123</td>\n",
       "      <td>-1.042648</td>\n",
       "      <td>0.975881</td>\n",
       "      <td>-0.687747</td>\n",
       "      <td>1.070778</td>\n",
       "    </tr>\n",
       "    <tr>\n",
       "      <th>Caprese Salad</th>\n",
       "      <td>0.869601</td>\n",
       "      <td>2.059664</td>\n",
       "      <td>0.726220</td>\n",
       "      <td>1.863231</td>\n",
       "      <td>2.888848</td>\n",
       "    </tr>\n",
       "    <tr>\n",
       "      <th>Mango Sticky Rice</th>\n",
       "      <td>-1.290415</td>\n",
       "      <td>-1.165396</td>\n",
       "      <td>-0.483991</td>\n",
       "      <td>1.021029</td>\n",
       "      <td>-1.744076</td>\n",
       "    </tr>\n",
       "    <tr>\n",
       "      <th>Grilled Salmon</th>\n",
       "      <td>-0.144847</td>\n",
       "      <td>0.264059</td>\n",
       "      <td>0.757505</td>\n",
       "      <td>0.131030</td>\n",
       "      <td>1.169247</td>\n",
       "    </tr>\n",
       "  </tbody>\n",
       "</table>\n",
       "</div>"
      ],
      "text/plain": [
       "                      United States    Canada  United Kingdom  Australia  \\\n",
       "Spaghetti Bolognese        1.663597  1.354457        0.527706   0.270741   \n",
       "Chicken Tikka Masala      -0.441123 -1.042648        0.975881  -0.687747   \n",
       "Caprese Salad              0.869601  2.059664        0.726220   1.863231   \n",
       "Mango Sticky Rice         -1.290415 -1.165396       -0.483991   1.021029   \n",
       "Grilled Salmon            -0.144847  0.264059        0.757505   0.131030   \n",
       "\n",
       "                         Japan  \n",
       "Spaghetti Bolognese   0.081404  \n",
       "Chicken Tikka Masala  1.070778  \n",
       "Caprese Salad         2.888848  \n",
       "Mango Sticky Rice    -1.744076  \n",
       "Grilled Salmon        1.169247  "
      ]
     },
     "execution_count": 39,
     "metadata": {},
     "output_type": "execute_result"
    }
   ],
   "source": [
    "food_values2.add(randn(1,5),axis = 0)"
   ]
  },
  {
   "cell_type": "code",
   "execution_count": 40,
   "id": "155fa10f",
   "metadata": {},
   "outputs": [],
   "source": [
    "#food_values.loc['Panner Butter Masala'] = food_values.add(randn(1,5))"
   ]
  },
  {
   "cell_type": "code",
   "execution_count": 41,
   "id": "569e8f53",
   "metadata": {},
   "outputs": [
    {
     "data": {
      "text/html": [
       "<div>\n",
       "<style scoped>\n",
       "    .dataframe tbody tr th:only-of-type {\n",
       "        vertical-align: middle;\n",
       "    }\n",
       "\n",
       "    .dataframe tbody tr th {\n",
       "        vertical-align: top;\n",
       "    }\n",
       "\n",
       "    .dataframe thead th {\n",
       "        text-align: right;\n",
       "    }\n",
       "</style>\n",
       "<table border=\"1\" class=\"dataframe\">\n",
       "  <thead>\n",
       "    <tr style=\"text-align: right;\">\n",
       "      <th></th>\n",
       "      <th>United States</th>\n",
       "      <th>Canada</th>\n",
       "      <th>United Kingdom</th>\n",
       "      <th>Australia</th>\n",
       "      <th>Japan</th>\n",
       "    </tr>\n",
       "  </thead>\n",
       "  <tbody>\n",
       "    <tr>\n",
       "      <th>Spaghetti Bolognese</th>\n",
       "      <td>2.706850</td>\n",
       "      <td>0.628133</td>\n",
       "      <td>0.907969</td>\n",
       "      <td>0.503826</td>\n",
       "      <td>0.651118</td>\n",
       "    </tr>\n",
       "    <tr>\n",
       "      <th>Chicken Tikka Masala</th>\n",
       "      <td>-0.319318</td>\n",
       "      <td>-0.848077</td>\n",
       "      <td>0.605965</td>\n",
       "      <td>-2.018168</td>\n",
       "      <td>0.740122</td>\n",
       "    </tr>\n",
       "    <tr>\n",
       "      <th>Caprese Salad</th>\n",
       "      <td>0.528813</td>\n",
       "      <td>-0.589001</td>\n",
       "      <td>0.188695</td>\n",
       "      <td>-0.758872</td>\n",
       "      <td>-0.933237</td>\n",
       "    </tr>\n",
       "    <tr>\n",
       "      <th>Mango Sticky Rice</th>\n",
       "      <td>0.955057</td>\n",
       "      <td>0.190794</td>\n",
       "      <td>1.978757</td>\n",
       "      <td>2.605967</td>\n",
       "      <td>0.683509</td>\n",
       "    </tr>\n",
       "    <tr>\n",
       "      <th>Grilled Salmon</th>\n",
       "      <td>0.302665</td>\n",
       "      <td>1.693723</td>\n",
       "      <td>-1.706086</td>\n",
       "      <td>-1.159119</td>\n",
       "      <td>-0.134841</td>\n",
       "    </tr>\n",
       "  </tbody>\n",
       "</table>\n",
       "</div>"
      ],
      "text/plain": [
       "                      United States    Canada  United Kingdom  Australia  \\\n",
       "Spaghetti Bolognese        2.706850  0.628133        0.907969   0.503826   \n",
       "Chicken Tikka Masala      -0.319318 -0.848077        0.605965  -2.018168   \n",
       "Caprese Salad              0.528813 -0.589001        0.188695  -0.758872   \n",
       "Mango Sticky Rice          0.955057  0.190794        1.978757   2.605967   \n",
       "Grilled Salmon             0.302665  1.693723       -1.706086  -1.159119   \n",
       "\n",
       "                         Japan  \n",
       "Spaghetti Bolognese   0.651118  \n",
       "Chicken Tikka Masala  0.740122  \n",
       "Caprese Salad        -0.933237  \n",
       "Mango Sticky Rice     0.683509  \n",
       "Grilled Salmon       -0.134841  "
      ]
     },
     "execution_count": 41,
     "metadata": {},
     "output_type": "execute_result"
    }
   ],
   "source": [
    "food_values"
   ]
  },
  {
   "cell_type": "code",
   "execution_count": 42,
   "id": "0e52f1a1",
   "metadata": {},
   "outputs": [],
   "source": [
    "food_values['India'] = food_values['United States'] + food_values['United Kingdom']"
   ]
  },
  {
   "cell_type": "code",
   "execution_count": 43,
   "id": "b1dd4f94",
   "metadata": {},
   "outputs": [
    {
     "data": {
      "text/html": [
       "<div>\n",
       "<style scoped>\n",
       "    .dataframe tbody tr th:only-of-type {\n",
       "        vertical-align: middle;\n",
       "    }\n",
       "\n",
       "    .dataframe tbody tr th {\n",
       "        vertical-align: top;\n",
       "    }\n",
       "\n",
       "    .dataframe thead th {\n",
       "        text-align: right;\n",
       "    }\n",
       "</style>\n",
       "<table border=\"1\" class=\"dataframe\">\n",
       "  <thead>\n",
       "    <tr style=\"text-align: right;\">\n",
       "      <th></th>\n",
       "      <th>United States</th>\n",
       "      <th>Canada</th>\n",
       "      <th>United Kingdom</th>\n",
       "      <th>Australia</th>\n",
       "      <th>Japan</th>\n",
       "      <th>India</th>\n",
       "    </tr>\n",
       "  </thead>\n",
       "  <tbody>\n",
       "    <tr>\n",
       "      <th>Spaghetti Bolognese</th>\n",
       "      <td>2.706850</td>\n",
       "      <td>0.628133</td>\n",
       "      <td>0.907969</td>\n",
       "      <td>0.503826</td>\n",
       "      <td>0.651118</td>\n",
       "      <td>3.614819</td>\n",
       "    </tr>\n",
       "    <tr>\n",
       "      <th>Chicken Tikka Masala</th>\n",
       "      <td>-0.319318</td>\n",
       "      <td>-0.848077</td>\n",
       "      <td>0.605965</td>\n",
       "      <td>-2.018168</td>\n",
       "      <td>0.740122</td>\n",
       "      <td>0.286647</td>\n",
       "    </tr>\n",
       "    <tr>\n",
       "      <th>Caprese Salad</th>\n",
       "      <td>0.528813</td>\n",
       "      <td>-0.589001</td>\n",
       "      <td>0.188695</td>\n",
       "      <td>-0.758872</td>\n",
       "      <td>-0.933237</td>\n",
       "      <td>0.717509</td>\n",
       "    </tr>\n",
       "    <tr>\n",
       "      <th>Mango Sticky Rice</th>\n",
       "      <td>0.955057</td>\n",
       "      <td>0.190794</td>\n",
       "      <td>1.978757</td>\n",
       "      <td>2.605967</td>\n",
       "      <td>0.683509</td>\n",
       "      <td>2.933814</td>\n",
       "    </tr>\n",
       "    <tr>\n",
       "      <th>Grilled Salmon</th>\n",
       "      <td>0.302665</td>\n",
       "      <td>1.693723</td>\n",
       "      <td>-1.706086</td>\n",
       "      <td>-1.159119</td>\n",
       "      <td>-0.134841</td>\n",
       "      <td>-1.403420</td>\n",
       "    </tr>\n",
       "  </tbody>\n",
       "</table>\n",
       "</div>"
      ],
      "text/plain": [
       "                      United States    Canada  United Kingdom  Australia  \\\n",
       "Spaghetti Bolognese        2.706850  0.628133        0.907969   0.503826   \n",
       "Chicken Tikka Masala      -0.319318 -0.848077        0.605965  -2.018168   \n",
       "Caprese Salad              0.528813 -0.589001        0.188695  -0.758872   \n",
       "Mango Sticky Rice          0.955057  0.190794        1.978757   2.605967   \n",
       "Grilled Salmon             0.302665  1.693723       -1.706086  -1.159119   \n",
       "\n",
       "                         Japan     India  \n",
       "Spaghetti Bolognese   0.651118  3.614819  \n",
       "Chicken Tikka Masala  0.740122  0.286647  \n",
       "Caprese Salad        -0.933237  0.717509  \n",
       "Mango Sticky Rice     0.683509  2.933814  \n",
       "Grilled Salmon       -0.134841 -1.403420  "
      ]
     },
     "execution_count": 43,
     "metadata": {},
     "output_type": "execute_result"
    }
   ],
   "source": [
    "food_values"
   ]
  },
  {
   "cell_type": "code",
   "execution_count": 44,
   "id": "56c41670",
   "metadata": {},
   "outputs": [],
   "source": [
    "#food_values['Total'] = sum(food_values,axis = 1)"
   ]
  },
  {
   "cell_type": "code",
   "execution_count": 45,
   "id": "6e68fdbb",
   "metadata": {},
   "outputs": [],
   "source": [
    "new_row = pd.DataFrame(randn(1,5))"
   ]
  },
  {
   "cell_type": "code",
   "execution_count": 46,
   "id": "ad87e493",
   "metadata": {},
   "outputs": [
    {
     "data": {
      "text/html": [
       "<div>\n",
       "<style scoped>\n",
       "    .dataframe tbody tr th:only-of-type {\n",
       "        vertical-align: middle;\n",
       "    }\n",
       "\n",
       "    .dataframe tbody tr th {\n",
       "        vertical-align: top;\n",
       "    }\n",
       "\n",
       "    .dataframe thead th {\n",
       "        text-align: right;\n",
       "    }\n",
       "</style>\n",
       "<table border=\"1\" class=\"dataframe\">\n",
       "  <thead>\n",
       "    <tr style=\"text-align: right;\">\n",
       "      <th></th>\n",
       "      <th>0</th>\n",
       "      <th>1</th>\n",
       "      <th>2</th>\n",
       "      <th>3</th>\n",
       "      <th>4</th>\n",
       "    </tr>\n",
       "  </thead>\n",
       "  <tbody>\n",
       "    <tr>\n",
       "      <th>0</th>\n",
       "      <td>0.38603</td>\n",
       "      <td>2.084019</td>\n",
       "      <td>-0.376519</td>\n",
       "      <td>0.230336</td>\n",
       "      <td>0.681209</td>\n",
       "    </tr>\n",
       "  </tbody>\n",
       "</table>\n",
       "</div>"
      ],
      "text/plain": [
       "         0         1         2         3         4\n",
       "0  0.38603  2.084019 -0.376519  0.230336  0.681209"
      ]
     },
     "execution_count": 46,
     "metadata": {},
     "output_type": "execute_result"
    }
   ],
   "source": [
    "new_row"
   ]
  },
  {
   "cell_type": "code",
   "execution_count": 47,
   "id": "f2cd5310",
   "metadata": {},
   "outputs": [],
   "source": [
    "#food_values.loc['Panner Butter Masala'] = [12.3,455,6777,888,999]"
   ]
  },
  {
   "cell_type": "code",
   "execution_count": 48,
   "id": "84d5ab1b",
   "metadata": {},
   "outputs": [],
   "source": [
    "#food_values.append(new_row)"
   ]
  },
  {
   "cell_type": "code",
   "execution_count": 49,
   "id": "8c09bec1",
   "metadata": {},
   "outputs": [
    {
     "data": {
      "text/html": [
       "<div>\n",
       "<style scoped>\n",
       "    .dataframe tbody tr th:only-of-type {\n",
       "        vertical-align: middle;\n",
       "    }\n",
       "\n",
       "    .dataframe tbody tr th {\n",
       "        vertical-align: top;\n",
       "    }\n",
       "\n",
       "    .dataframe thead th {\n",
       "        text-align: right;\n",
       "    }\n",
       "</style>\n",
       "<table border=\"1\" class=\"dataframe\">\n",
       "  <thead>\n",
       "    <tr style=\"text-align: right;\">\n",
       "      <th></th>\n",
       "      <th>United States</th>\n",
       "      <th>Canada</th>\n",
       "      <th>United Kingdom</th>\n",
       "      <th>Australia</th>\n",
       "      <th>Japan</th>\n",
       "    </tr>\n",
       "  </thead>\n",
       "  <tbody>\n",
       "    <tr>\n",
       "      <th>Spaghetti Bolognese</th>\n",
       "      <td>2.706850</td>\n",
       "      <td>0.628133</td>\n",
       "      <td>0.907969</td>\n",
       "      <td>0.503826</td>\n",
       "      <td>0.651118</td>\n",
       "    </tr>\n",
       "    <tr>\n",
       "      <th>Chicken Tikka Masala</th>\n",
       "      <td>-0.319318</td>\n",
       "      <td>-0.848077</td>\n",
       "      <td>0.605965</td>\n",
       "      <td>-2.018168</td>\n",
       "      <td>0.740122</td>\n",
       "    </tr>\n",
       "    <tr>\n",
       "      <th>Caprese Salad</th>\n",
       "      <td>0.528813</td>\n",
       "      <td>-0.589001</td>\n",
       "      <td>0.188695</td>\n",
       "      <td>-0.758872</td>\n",
       "      <td>-0.933237</td>\n",
       "    </tr>\n",
       "    <tr>\n",
       "      <th>Mango Sticky Rice</th>\n",
       "      <td>0.955057</td>\n",
       "      <td>0.190794</td>\n",
       "      <td>1.978757</td>\n",
       "      <td>2.605967</td>\n",
       "      <td>0.683509</td>\n",
       "    </tr>\n",
       "    <tr>\n",
       "      <th>Grilled Salmon</th>\n",
       "      <td>0.302665</td>\n",
       "      <td>1.693723</td>\n",
       "      <td>-1.706086</td>\n",
       "      <td>-1.159119</td>\n",
       "      <td>-0.134841</td>\n",
       "    </tr>\n",
       "  </tbody>\n",
       "</table>\n",
       "</div>"
      ],
      "text/plain": [
       "                      United States    Canada  United Kingdom  Australia  \\\n",
       "Spaghetti Bolognese        2.706850  0.628133        0.907969   0.503826   \n",
       "Chicken Tikka Masala      -0.319318 -0.848077        0.605965  -2.018168   \n",
       "Caprese Salad              0.528813 -0.589001        0.188695  -0.758872   \n",
       "Mango Sticky Rice          0.955057  0.190794        1.978757   2.605967   \n",
       "Grilled Salmon             0.302665  1.693723       -1.706086  -1.159119   \n",
       "\n",
       "                         Japan  \n",
       "Spaghetti Bolognese   0.651118  \n",
       "Chicken Tikka Masala  0.740122  \n",
       "Caprese Salad        -0.933237  \n",
       "Mango Sticky Rice     0.683509  \n",
       "Grilled Salmon       -0.134841  "
      ]
     },
     "execution_count": 49,
     "metadata": {},
     "output_type": "execute_result"
    }
   ],
   "source": [
    "food_values.drop('India',axis= 1)"
   ]
  },
  {
   "cell_type": "code",
   "execution_count": 50,
   "id": "161a9a25",
   "metadata": {},
   "outputs": [
    {
     "data": {
      "text/html": [
       "<div>\n",
       "<style scoped>\n",
       "    .dataframe tbody tr th:only-of-type {\n",
       "        vertical-align: middle;\n",
       "    }\n",
       "\n",
       "    .dataframe tbody tr th {\n",
       "        vertical-align: top;\n",
       "    }\n",
       "\n",
       "    .dataframe thead th {\n",
       "        text-align: right;\n",
       "    }\n",
       "</style>\n",
       "<table border=\"1\" class=\"dataframe\">\n",
       "  <thead>\n",
       "    <tr style=\"text-align: right;\">\n",
       "      <th></th>\n",
       "      <th>United States</th>\n",
       "      <th>Canada</th>\n",
       "      <th>United Kingdom</th>\n",
       "      <th>Australia</th>\n",
       "      <th>Japan</th>\n",
       "      <th>India</th>\n",
       "    </tr>\n",
       "  </thead>\n",
       "  <tbody>\n",
       "    <tr>\n",
       "      <th>Spaghetti Bolognese</th>\n",
       "      <td>2.706850</td>\n",
       "      <td>0.628133</td>\n",
       "      <td>0.907969</td>\n",
       "      <td>0.503826</td>\n",
       "      <td>0.651118</td>\n",
       "      <td>3.614819</td>\n",
       "    </tr>\n",
       "    <tr>\n",
       "      <th>Chicken Tikka Masala</th>\n",
       "      <td>-0.319318</td>\n",
       "      <td>-0.848077</td>\n",
       "      <td>0.605965</td>\n",
       "      <td>-2.018168</td>\n",
       "      <td>0.740122</td>\n",
       "      <td>0.286647</td>\n",
       "    </tr>\n",
       "    <tr>\n",
       "      <th>Caprese Salad</th>\n",
       "      <td>0.528813</td>\n",
       "      <td>-0.589001</td>\n",
       "      <td>0.188695</td>\n",
       "      <td>-0.758872</td>\n",
       "      <td>-0.933237</td>\n",
       "      <td>0.717509</td>\n",
       "    </tr>\n",
       "    <tr>\n",
       "      <th>Mango Sticky Rice</th>\n",
       "      <td>0.955057</td>\n",
       "      <td>0.190794</td>\n",
       "      <td>1.978757</td>\n",
       "      <td>2.605967</td>\n",
       "      <td>0.683509</td>\n",
       "      <td>2.933814</td>\n",
       "    </tr>\n",
       "    <tr>\n",
       "      <th>Grilled Salmon</th>\n",
       "      <td>0.302665</td>\n",
       "      <td>1.693723</td>\n",
       "      <td>-1.706086</td>\n",
       "      <td>-1.159119</td>\n",
       "      <td>-0.134841</td>\n",
       "      <td>-1.403420</td>\n",
       "    </tr>\n",
       "  </tbody>\n",
       "</table>\n",
       "</div>"
      ],
      "text/plain": [
       "                      United States    Canada  United Kingdom  Australia  \\\n",
       "Spaghetti Bolognese        2.706850  0.628133        0.907969   0.503826   \n",
       "Chicken Tikka Masala      -0.319318 -0.848077        0.605965  -2.018168   \n",
       "Caprese Salad              0.528813 -0.589001        0.188695  -0.758872   \n",
       "Mango Sticky Rice          0.955057  0.190794        1.978757   2.605967   \n",
       "Grilled Salmon             0.302665  1.693723       -1.706086  -1.159119   \n",
       "\n",
       "                         Japan     India  \n",
       "Spaghetti Bolognese   0.651118  3.614819  \n",
       "Chicken Tikka Masala  0.740122  0.286647  \n",
       "Caprese Salad        -0.933237  0.717509  \n",
       "Mango Sticky Rice     0.683509  2.933814  \n",
       "Grilled Salmon       -0.134841 -1.403420  "
      ]
     },
     "execution_count": 50,
     "metadata": {},
     "output_type": "execute_result"
    }
   ],
   "source": [
    "food_values"
   ]
  },
  {
   "cell_type": "code",
   "execution_count": 51,
   "id": "8bfd20b7",
   "metadata": {},
   "outputs": [],
   "source": [
    "food_values2.drop('Japan',axis = 1,inplace = True)"
   ]
  },
  {
   "cell_type": "code",
   "execution_count": 52,
   "id": "e13d5107",
   "metadata": {},
   "outputs": [
    {
     "data": {
      "text/html": [
       "<div>\n",
       "<style scoped>\n",
       "    .dataframe tbody tr th:only-of-type {\n",
       "        vertical-align: middle;\n",
       "    }\n",
       "\n",
       "    .dataframe tbody tr th {\n",
       "        vertical-align: top;\n",
       "    }\n",
       "\n",
       "    .dataframe thead th {\n",
       "        text-align: right;\n",
       "    }\n",
       "</style>\n",
       "<table border=\"1\" class=\"dataframe\">\n",
       "  <thead>\n",
       "    <tr style=\"text-align: right;\">\n",
       "      <th></th>\n",
       "      <th>United States</th>\n",
       "      <th>Canada</th>\n",
       "      <th>United Kingdom</th>\n",
       "      <th>Australia</th>\n",
       "    </tr>\n",
       "  </thead>\n",
       "  <tbody>\n",
       "    <tr>\n",
       "      <th>Spaghetti Bolognese</th>\n",
       "      <td>0.638787</td>\n",
       "      <td>0.329646</td>\n",
       "      <td>-0.497104</td>\n",
       "      <td>-0.754070</td>\n",
       "    </tr>\n",
       "    <tr>\n",
       "      <th>Chicken Tikka Masala</th>\n",
       "      <td>0.484752</td>\n",
       "      <td>-0.116773</td>\n",
       "      <td>1.901755</td>\n",
       "      <td>0.238127</td>\n",
       "    </tr>\n",
       "    <tr>\n",
       "      <th>Caprese Salad</th>\n",
       "      <td>-0.993263</td>\n",
       "      <td>0.196800</td>\n",
       "      <td>-1.136645</td>\n",
       "      <td>0.000366</td>\n",
       "    </tr>\n",
       "    <tr>\n",
       "      <th>Mango Sticky Rice</th>\n",
       "      <td>-0.156598</td>\n",
       "      <td>-0.031579</td>\n",
       "      <td>0.649826</td>\n",
       "      <td>2.154846</td>\n",
       "    </tr>\n",
       "    <tr>\n",
       "      <th>Grilled Salmon</th>\n",
       "      <td>-0.755325</td>\n",
       "      <td>-0.346419</td>\n",
       "      <td>0.147027</td>\n",
       "      <td>-0.479448</td>\n",
       "    </tr>\n",
       "  </tbody>\n",
       "</table>\n",
       "</div>"
      ],
      "text/plain": [
       "                      United States    Canada  United Kingdom  Australia\n",
       "Spaghetti Bolognese        0.638787  0.329646       -0.497104  -0.754070\n",
       "Chicken Tikka Masala       0.484752 -0.116773        1.901755   0.238127\n",
       "Caprese Salad             -0.993263  0.196800       -1.136645   0.000366\n",
       "Mango Sticky Rice         -0.156598 -0.031579        0.649826   2.154846\n",
       "Grilled Salmon            -0.755325 -0.346419        0.147027  -0.479448"
      ]
     },
     "execution_count": 52,
     "metadata": {},
     "output_type": "execute_result"
    }
   ],
   "source": [
    "food_values2"
   ]
  },
  {
   "cell_type": "code",
   "execution_count": 53,
   "id": "e500c9ca",
   "metadata": {},
   "outputs": [],
   "source": [
    "food_values2.drop('Grilled Salmon',inplace = True)"
   ]
  },
  {
   "cell_type": "code",
   "execution_count": 54,
   "id": "66713538",
   "metadata": {},
   "outputs": [
    {
     "data": {
      "text/html": [
       "<div>\n",
       "<style scoped>\n",
       "    .dataframe tbody tr th:only-of-type {\n",
       "        vertical-align: middle;\n",
       "    }\n",
       "\n",
       "    .dataframe tbody tr th {\n",
       "        vertical-align: top;\n",
       "    }\n",
       "\n",
       "    .dataframe thead th {\n",
       "        text-align: right;\n",
       "    }\n",
       "</style>\n",
       "<table border=\"1\" class=\"dataframe\">\n",
       "  <thead>\n",
       "    <tr style=\"text-align: right;\">\n",
       "      <th></th>\n",
       "      <th>United States</th>\n",
       "      <th>Canada</th>\n",
       "      <th>United Kingdom</th>\n",
       "      <th>Australia</th>\n",
       "    </tr>\n",
       "  </thead>\n",
       "  <tbody>\n",
       "    <tr>\n",
       "      <th>Spaghetti Bolognese</th>\n",
       "      <td>0.638787</td>\n",
       "      <td>0.329646</td>\n",
       "      <td>-0.497104</td>\n",
       "      <td>-0.754070</td>\n",
       "    </tr>\n",
       "    <tr>\n",
       "      <th>Chicken Tikka Masala</th>\n",
       "      <td>0.484752</td>\n",
       "      <td>-0.116773</td>\n",
       "      <td>1.901755</td>\n",
       "      <td>0.238127</td>\n",
       "    </tr>\n",
       "    <tr>\n",
       "      <th>Caprese Salad</th>\n",
       "      <td>-0.993263</td>\n",
       "      <td>0.196800</td>\n",
       "      <td>-1.136645</td>\n",
       "      <td>0.000366</td>\n",
       "    </tr>\n",
       "    <tr>\n",
       "      <th>Mango Sticky Rice</th>\n",
       "      <td>-0.156598</td>\n",
       "      <td>-0.031579</td>\n",
       "      <td>0.649826</td>\n",
       "      <td>2.154846</td>\n",
       "    </tr>\n",
       "  </tbody>\n",
       "</table>\n",
       "</div>"
      ],
      "text/plain": [
       "                      United States    Canada  United Kingdom  Australia\n",
       "Spaghetti Bolognese        0.638787  0.329646       -0.497104  -0.754070\n",
       "Chicken Tikka Masala       0.484752 -0.116773        1.901755   0.238127\n",
       "Caprese Salad             -0.993263  0.196800       -1.136645   0.000366\n",
       "Mango Sticky Rice         -0.156598 -0.031579        0.649826   2.154846"
      ]
     },
     "execution_count": 54,
     "metadata": {},
     "output_type": "execute_result"
    }
   ],
   "source": [
    "food_values2"
   ]
  },
  {
   "cell_type": "code",
   "execution_count": 55,
   "id": "c962d2ca",
   "metadata": {},
   "outputs": [
    {
     "data": {
      "text/plain": [
       "Spaghetti Bolognese     2.706850\n",
       "Chicken Tikka Masala   -0.319318\n",
       "Caprese Salad           0.528813\n",
       "Mango Sticky Rice       0.955057\n",
       "Grilled Salmon          0.302665\n",
       "Name: United States, dtype: float64"
      ]
     },
     "execution_count": 55,
     "metadata": {},
     "output_type": "execute_result"
    }
   ],
   "source": [
    "food_values['United States']"
   ]
  },
  {
   "cell_type": "code",
   "execution_count": 56,
   "id": "5f1aa81a",
   "metadata": {},
   "outputs": [
    {
     "data": {
      "text/plain": [
       "United States     0.955057\n",
       "Canada            0.190794\n",
       "United Kingdom    1.978757\n",
       "Australia         2.605967\n",
       "Japan             0.683509\n",
       "India             2.933814\n",
       "Name: Mango Sticky Rice, dtype: float64"
      ]
     },
     "execution_count": 56,
     "metadata": {},
     "output_type": "execute_result"
    }
   ],
   "source": [
    "food_values.loc['Mango Sticky Rice']"
   ]
  },
  {
   "cell_type": "code",
   "execution_count": 57,
   "id": "dda2f145",
   "metadata": {},
   "outputs": [
    {
     "data": {
      "text/plain": [
       "United States     0.955057\n",
       "Canada            0.190794\n",
       "United Kingdom    1.978757\n",
       "Australia         2.605967\n",
       "Japan             0.683509\n",
       "India             2.933814\n",
       "Name: Mango Sticky Rice, dtype: float64"
      ]
     },
     "execution_count": 57,
     "metadata": {},
     "output_type": "execute_result"
    }
   ],
   "source": [
    "food_values.iloc[3]"
   ]
  },
  {
   "cell_type": "code",
   "execution_count": 58,
   "id": "ceaf01b4",
   "metadata": {},
   "outputs": [
    {
     "data": {
      "text/html": [
       "<div>\n",
       "<style scoped>\n",
       "    .dataframe tbody tr th:only-of-type {\n",
       "        vertical-align: middle;\n",
       "    }\n",
       "\n",
       "    .dataframe tbody tr th {\n",
       "        vertical-align: top;\n",
       "    }\n",
       "\n",
       "    .dataframe thead th {\n",
       "        text-align: right;\n",
       "    }\n",
       "</style>\n",
       "<table border=\"1\" class=\"dataframe\">\n",
       "  <thead>\n",
       "    <tr style=\"text-align: right;\">\n",
       "      <th></th>\n",
       "      <th>India</th>\n",
       "    </tr>\n",
       "  </thead>\n",
       "  <tbody>\n",
       "    <tr>\n",
       "      <th>Chicken Tikka Masala</th>\n",
       "      <td>0.286647</td>\n",
       "    </tr>\n",
       "  </tbody>\n",
       "</table>\n",
       "</div>"
      ],
      "text/plain": [
       "                         India\n",
       "Chicken Tikka Masala  0.286647"
      ]
     },
     "execution_count": 58,
     "metadata": {},
     "output_type": "execute_result"
    }
   ],
   "source": [
    "food_values.loc[['Chicken Tikka Masala'],['India']]"
   ]
  },
  {
   "cell_type": "code",
   "execution_count": 59,
   "id": "6a512c89",
   "metadata": {},
   "outputs": [
    {
     "data": {
      "text/html": [
       "<div>\n",
       "<style scoped>\n",
       "    .dataframe tbody tr th:only-of-type {\n",
       "        vertical-align: middle;\n",
       "    }\n",
       "\n",
       "    .dataframe tbody tr th {\n",
       "        vertical-align: top;\n",
       "    }\n",
       "\n",
       "    .dataframe thead th {\n",
       "        text-align: right;\n",
       "    }\n",
       "</style>\n",
       "<table border=\"1\" class=\"dataframe\">\n",
       "  <thead>\n",
       "    <tr style=\"text-align: right;\">\n",
       "      <th></th>\n",
       "      <th>India</th>\n",
       "      <th>Canada</th>\n",
       "    </tr>\n",
       "  </thead>\n",
       "  <tbody>\n",
       "    <tr>\n",
       "      <th>Chicken Tikka Masala</th>\n",
       "      <td>0.286647</td>\n",
       "      <td>-0.848077</td>\n",
       "    </tr>\n",
       "    <tr>\n",
       "      <th>Grilled Salmon</th>\n",
       "      <td>-1.403420</td>\n",
       "      <td>1.693723</td>\n",
       "    </tr>\n",
       "  </tbody>\n",
       "</table>\n",
       "</div>"
      ],
      "text/plain": [
       "                         India    Canada\n",
       "Chicken Tikka Masala  0.286647 -0.848077\n",
       "Grilled Salmon       -1.403420  1.693723"
      ]
     },
     "execution_count": 59,
     "metadata": {},
     "output_type": "execute_result"
    }
   ],
   "source": [
    "food_values.loc[['Chicken Tikka Masala',\"Grilled Salmon\"],['India',\"Canada\"]]"
   ]
  },
  {
   "cell_type": "code",
   "execution_count": 60,
   "id": "11f02523",
   "metadata": {},
   "outputs": [
    {
     "data": {
      "text/html": [
       "<div>\n",
       "<style scoped>\n",
       "    .dataframe tbody tr th:only-of-type {\n",
       "        vertical-align: middle;\n",
       "    }\n",
       "\n",
       "    .dataframe tbody tr th {\n",
       "        vertical-align: top;\n",
       "    }\n",
       "\n",
       "    .dataframe thead th {\n",
       "        text-align: right;\n",
       "    }\n",
       "</style>\n",
       "<table border=\"1\" class=\"dataframe\">\n",
       "  <thead>\n",
       "    <tr style=\"text-align: right;\">\n",
       "      <th></th>\n",
       "      <th>United States</th>\n",
       "      <th>Canada</th>\n",
       "      <th>United Kingdom</th>\n",
       "      <th>Australia</th>\n",
       "      <th>Japan</th>\n",
       "      <th>India</th>\n",
       "    </tr>\n",
       "  </thead>\n",
       "  <tbody>\n",
       "    <tr>\n",
       "      <th>Spaghetti Bolognese</th>\n",
       "      <td>2.706850</td>\n",
       "      <td>0.628133</td>\n",
       "      <td>0.907969</td>\n",
       "      <td>0.503826</td>\n",
       "      <td>0.651118</td>\n",
       "      <td>3.614819</td>\n",
       "    </tr>\n",
       "    <tr>\n",
       "      <th>Chicken Tikka Masala</th>\n",
       "      <td>-0.319318</td>\n",
       "      <td>-0.848077</td>\n",
       "      <td>0.605965</td>\n",
       "      <td>-2.018168</td>\n",
       "      <td>0.740122</td>\n",
       "      <td>0.286647</td>\n",
       "    </tr>\n",
       "    <tr>\n",
       "      <th>Caprese Salad</th>\n",
       "      <td>0.528813</td>\n",
       "      <td>-0.589001</td>\n",
       "      <td>0.188695</td>\n",
       "      <td>-0.758872</td>\n",
       "      <td>-0.933237</td>\n",
       "      <td>0.717509</td>\n",
       "    </tr>\n",
       "    <tr>\n",
       "      <th>Mango Sticky Rice</th>\n",
       "      <td>0.955057</td>\n",
       "      <td>0.190794</td>\n",
       "      <td>1.978757</td>\n",
       "      <td>2.605967</td>\n",
       "      <td>0.683509</td>\n",
       "      <td>2.933814</td>\n",
       "    </tr>\n",
       "    <tr>\n",
       "      <th>Grilled Salmon</th>\n",
       "      <td>0.302665</td>\n",
       "      <td>1.693723</td>\n",
       "      <td>-1.706086</td>\n",
       "      <td>-1.159119</td>\n",
       "      <td>-0.134841</td>\n",
       "      <td>-1.403420</td>\n",
       "    </tr>\n",
       "  </tbody>\n",
       "</table>\n",
       "</div>"
      ],
      "text/plain": [
       "                      United States    Canada  United Kingdom  Australia  \\\n",
       "Spaghetti Bolognese        2.706850  0.628133        0.907969   0.503826   \n",
       "Chicken Tikka Masala      -0.319318 -0.848077        0.605965  -2.018168   \n",
       "Caprese Salad              0.528813 -0.589001        0.188695  -0.758872   \n",
       "Mango Sticky Rice          0.955057  0.190794        1.978757   2.605967   \n",
       "Grilled Salmon             0.302665  1.693723       -1.706086  -1.159119   \n",
       "\n",
       "                         Japan     India  \n",
       "Spaghetti Bolognese   0.651118  3.614819  \n",
       "Chicken Tikka Masala  0.740122  0.286647  \n",
       "Caprese Salad        -0.933237  0.717509  \n",
       "Mango Sticky Rice     0.683509  2.933814  \n",
       "Grilled Salmon       -0.134841 -1.403420  "
      ]
     },
     "execution_count": 60,
     "metadata": {},
     "output_type": "execute_result"
    }
   ],
   "source": [
    "food_values"
   ]
  },
  {
   "cell_type": "code",
   "execution_count": 61,
   "id": "fd4d65dc",
   "metadata": {},
   "outputs": [
    {
     "data": {
      "text/html": [
       "<div>\n",
       "<style scoped>\n",
       "    .dataframe tbody tr th:only-of-type {\n",
       "        vertical-align: middle;\n",
       "    }\n",
       "\n",
       "    .dataframe tbody tr th {\n",
       "        vertical-align: top;\n",
       "    }\n",
       "\n",
       "    .dataframe thead th {\n",
       "        text-align: right;\n",
       "    }\n",
       "</style>\n",
       "<table border=\"1\" class=\"dataframe\">\n",
       "  <thead>\n",
       "    <tr style=\"text-align: right;\">\n",
       "      <th></th>\n",
       "      <th>United Kingdom</th>\n",
       "      <th>Australia</th>\n",
       "    </tr>\n",
       "  </thead>\n",
       "  <tbody>\n",
       "    <tr>\n",
       "      <th>Mango Sticky Rice</th>\n",
       "      <td>1.978757</td>\n",
       "      <td>2.605967</td>\n",
       "    </tr>\n",
       "    <tr>\n",
       "      <th>Chicken Tikka Masala</th>\n",
       "      <td>0.605965</td>\n",
       "      <td>-2.018168</td>\n",
       "    </tr>\n",
       "  </tbody>\n",
       "</table>\n",
       "</div>"
      ],
      "text/plain": [
       "                      United Kingdom  Australia\n",
       "Mango Sticky Rice           1.978757   2.605967\n",
       "Chicken Tikka Masala        0.605965  -2.018168"
      ]
     },
     "execution_count": 61,
     "metadata": {},
     "output_type": "execute_result"
    }
   ],
   "source": [
    "food_values.iloc[[3,1],[2,3]]"
   ]
  },
  {
   "cell_type": "code",
   "execution_count": 62,
   "id": "aa69093c",
   "metadata": {},
   "outputs": [],
   "source": [
    "from random import randint"
   ]
  },
  {
   "cell_type": "code",
   "execution_count": 63,
   "id": "adbfcf54",
   "metadata": {},
   "outputs": [],
   "source": [
    "# New DF"
   ]
  },
  {
   "cell_type": "code",
   "execution_count": 64,
   "id": "bd4033dd",
   "metadata": {},
   "outputs": [],
   "source": [
    "well_known_indian_it_companies = [\n",
    "    \"InfosysTech Solutions\",\n",
    "    \"WiproInnovate IT\",\n",
    "    \"TataTech Dynamics\",\n",
    "    \"HCLInnovations Hub\",\n",
    "    \"TechMahindra Systems\"\n",
    "]\n",
    "indian_cities = [\"Mumbai\", \"Delhi\", \"Bangalore\", \"Hyderabad\", \"Chennai\"]\n"
   ]
  },
  {
   "cell_type": "code",
   "execution_count": 65,
   "id": "61b0c8b5",
   "metadata": {},
   "outputs": [],
   "source": [
    "data_frame_new = pd.DataFrame((randn(5,5)*100),well_known_indian_it_companies, indian_cities)"
   ]
  },
  {
   "cell_type": "code",
   "execution_count": 66,
   "id": "e8cc29ac",
   "metadata": {},
   "outputs": [
    {
     "data": {
      "text/html": [
       "<div>\n",
       "<style scoped>\n",
       "    .dataframe tbody tr th:only-of-type {\n",
       "        vertical-align: middle;\n",
       "    }\n",
       "\n",
       "    .dataframe tbody tr th {\n",
       "        vertical-align: top;\n",
       "    }\n",
       "\n",
       "    .dataframe thead th {\n",
       "        text-align: right;\n",
       "    }\n",
       "</style>\n",
       "<table border=\"1\" class=\"dataframe\">\n",
       "  <thead>\n",
       "    <tr style=\"text-align: right;\">\n",
       "      <th></th>\n",
       "      <th>Mumbai</th>\n",
       "      <th>Delhi</th>\n",
       "      <th>Bangalore</th>\n",
       "      <th>Hyderabad</th>\n",
       "      <th>Chennai</th>\n",
       "    </tr>\n",
       "  </thead>\n",
       "  <tbody>\n",
       "    <tr>\n",
       "      <th>InfosysTech Solutions</th>\n",
       "      <td>103.512507</td>\n",
       "      <td>-3.116048</td>\n",
       "      <td>193.993231</td>\n",
       "      <td>-100.518692</td>\n",
       "      <td>-74.178970</td>\n",
       "    </tr>\n",
       "    <tr>\n",
       "      <th>WiproInnovate IT</th>\n",
       "      <td>18.712452</td>\n",
       "      <td>-73.284515</td>\n",
       "      <td>-138.292010</td>\n",
       "      <td>148.249550</td>\n",
       "      <td>96.145816</td>\n",
       "    </tr>\n",
       "    <tr>\n",
       "      <th>TataTech Dynamics</th>\n",
       "      <td>-214.121229</td>\n",
       "      <td>99.257345</td>\n",
       "      <td>119.224064</td>\n",
       "      <td>-104.677954</td>\n",
       "      <td>129.276458</td>\n",
       "    </tr>\n",
       "    <tr>\n",
       "      <th>HCLInnovations Hub</th>\n",
       "      <td>-146.751402</td>\n",
       "      <td>-49.409536</td>\n",
       "      <td>-16.253473</td>\n",
       "      <td>48.580874</td>\n",
       "      <td>39.248881</td>\n",
       "    </tr>\n",
       "    <tr>\n",
       "      <th>TechMahindra Systems</th>\n",
       "      <td>22.149069</td>\n",
       "      <td>-85.519604</td>\n",
       "      <td>154.199041</td>\n",
       "      <td>66.631932</td>\n",
       "      <td>-53.823463</td>\n",
       "    </tr>\n",
       "  </tbody>\n",
       "</table>\n",
       "</div>"
      ],
      "text/plain": [
       "                           Mumbai      Delhi   Bangalore   Hyderabad  \\\n",
       "InfosysTech Solutions  103.512507  -3.116048  193.993231 -100.518692   \n",
       "WiproInnovate IT        18.712452 -73.284515 -138.292010  148.249550   \n",
       "TataTech Dynamics     -214.121229  99.257345  119.224064 -104.677954   \n",
       "HCLInnovations Hub    -146.751402 -49.409536  -16.253473   48.580874   \n",
       "TechMahindra Systems    22.149069 -85.519604  154.199041   66.631932   \n",
       "\n",
       "                          Chennai  \n",
       "InfosysTech Solutions  -74.178970  \n",
       "WiproInnovate IT        96.145816  \n",
       "TataTech Dynamics      129.276458  \n",
       "HCLInnovations Hub      39.248881  \n",
       "TechMahindra Systems   -53.823463  "
      ]
     },
     "execution_count": 66,
     "metadata": {},
     "output_type": "execute_result"
    }
   ],
   "source": [
    "data_frame_new"
   ]
  },
  {
   "cell_type": "code",
   "execution_count": 67,
   "id": "cf57f4c3",
   "metadata": {},
   "outputs": [
    {
     "data": {
      "text/html": [
       "<div>\n",
       "<style scoped>\n",
       "    .dataframe tbody tr th:only-of-type {\n",
       "        vertical-align: middle;\n",
       "    }\n",
       "\n",
       "    .dataframe tbody tr th {\n",
       "        vertical-align: top;\n",
       "    }\n",
       "\n",
       "    .dataframe thead th {\n",
       "        text-align: right;\n",
       "    }\n",
       "</style>\n",
       "<table border=\"1\" class=\"dataframe\">\n",
       "  <thead>\n",
       "    <tr style=\"text-align: right;\">\n",
       "      <th></th>\n",
       "      <th>Mumbai</th>\n",
       "      <th>Delhi</th>\n",
       "      <th>Bangalore</th>\n",
       "      <th>Hyderabad</th>\n",
       "      <th>Chennai</th>\n",
       "    </tr>\n",
       "  </thead>\n",
       "  <tbody>\n",
       "    <tr>\n",
       "      <th>InfosysTech Solutions</th>\n",
       "      <td>True</td>\n",
       "      <td>False</td>\n",
       "      <td>True</td>\n",
       "      <td>False</td>\n",
       "      <td>False</td>\n",
       "    </tr>\n",
       "    <tr>\n",
       "      <th>WiproInnovate IT</th>\n",
       "      <td>True</td>\n",
       "      <td>False</td>\n",
       "      <td>False</td>\n",
       "      <td>True</td>\n",
       "      <td>True</td>\n",
       "    </tr>\n",
       "    <tr>\n",
       "      <th>TataTech Dynamics</th>\n",
       "      <td>False</td>\n",
       "      <td>True</td>\n",
       "      <td>True</td>\n",
       "      <td>False</td>\n",
       "      <td>True</td>\n",
       "    </tr>\n",
       "    <tr>\n",
       "      <th>HCLInnovations Hub</th>\n",
       "      <td>False</td>\n",
       "      <td>False</td>\n",
       "      <td>False</td>\n",
       "      <td>True</td>\n",
       "      <td>True</td>\n",
       "    </tr>\n",
       "    <tr>\n",
       "      <th>TechMahindra Systems</th>\n",
       "      <td>True</td>\n",
       "      <td>False</td>\n",
       "      <td>True</td>\n",
       "      <td>True</td>\n",
       "      <td>False</td>\n",
       "    </tr>\n",
       "  </tbody>\n",
       "</table>\n",
       "</div>"
      ],
      "text/plain": [
       "                       Mumbai  Delhi  Bangalore  Hyderabad  Chennai\n",
       "InfosysTech Solutions    True  False       True      False    False\n",
       "WiproInnovate IT         True  False      False       True     True\n",
       "TataTech Dynamics       False   True       True      False     True\n",
       "HCLInnovations Hub      False  False      False       True     True\n",
       "TechMahindra Systems     True  False       True       True    False"
      ]
     },
     "execution_count": 67,
     "metadata": {},
     "output_type": "execute_result"
    }
   ],
   "source": [
    "data_frame_new > 0"
   ]
  },
  {
   "cell_type": "code",
   "execution_count": 68,
   "id": "2049f81d",
   "metadata": {},
   "outputs": [
    {
     "data": {
      "text/html": [
       "<div>\n",
       "<style scoped>\n",
       "    .dataframe tbody tr th:only-of-type {\n",
       "        vertical-align: middle;\n",
       "    }\n",
       "\n",
       "    .dataframe tbody tr th {\n",
       "        vertical-align: top;\n",
       "    }\n",
       "\n",
       "    .dataframe thead th {\n",
       "        text-align: right;\n",
       "    }\n",
       "</style>\n",
       "<table border=\"1\" class=\"dataframe\">\n",
       "  <thead>\n",
       "    <tr style=\"text-align: right;\">\n",
       "      <th></th>\n",
       "      <th>Mumbai</th>\n",
       "      <th>Delhi</th>\n",
       "      <th>Bangalore</th>\n",
       "      <th>Hyderabad</th>\n",
       "      <th>Chennai</th>\n",
       "    </tr>\n",
       "  </thead>\n",
       "  <tbody>\n",
       "    <tr>\n",
       "      <th>InfosysTech Solutions</th>\n",
       "      <td>103.512507</td>\n",
       "      <td>NaN</td>\n",
       "      <td>193.993231</td>\n",
       "      <td>NaN</td>\n",
       "      <td>NaN</td>\n",
       "    </tr>\n",
       "    <tr>\n",
       "      <th>WiproInnovate IT</th>\n",
       "      <td>18.712452</td>\n",
       "      <td>NaN</td>\n",
       "      <td>NaN</td>\n",
       "      <td>148.249550</td>\n",
       "      <td>96.145816</td>\n",
       "    </tr>\n",
       "    <tr>\n",
       "      <th>TataTech Dynamics</th>\n",
       "      <td>NaN</td>\n",
       "      <td>99.257345</td>\n",
       "      <td>119.224064</td>\n",
       "      <td>NaN</td>\n",
       "      <td>129.276458</td>\n",
       "    </tr>\n",
       "    <tr>\n",
       "      <th>HCLInnovations Hub</th>\n",
       "      <td>NaN</td>\n",
       "      <td>NaN</td>\n",
       "      <td>NaN</td>\n",
       "      <td>48.580874</td>\n",
       "      <td>39.248881</td>\n",
       "    </tr>\n",
       "    <tr>\n",
       "      <th>TechMahindra Systems</th>\n",
       "      <td>22.149069</td>\n",
       "      <td>NaN</td>\n",
       "      <td>154.199041</td>\n",
       "      <td>66.631932</td>\n",
       "      <td>NaN</td>\n",
       "    </tr>\n",
       "  </tbody>\n",
       "</table>\n",
       "</div>"
      ],
      "text/plain": [
       "                           Mumbai      Delhi   Bangalore   Hyderabad  \\\n",
       "InfosysTech Solutions  103.512507        NaN  193.993231         NaN   \n",
       "WiproInnovate IT        18.712452        NaN         NaN  148.249550   \n",
       "TataTech Dynamics             NaN  99.257345  119.224064         NaN   \n",
       "HCLInnovations Hub            NaN        NaN         NaN   48.580874   \n",
       "TechMahindra Systems    22.149069        NaN  154.199041   66.631932   \n",
       "\n",
       "                          Chennai  \n",
       "InfosysTech Solutions         NaN  \n",
       "WiproInnovate IT        96.145816  \n",
       "TataTech Dynamics      129.276458  \n",
       "HCLInnovations Hub      39.248881  \n",
       "TechMahindra Systems          NaN  "
      ]
     },
     "execution_count": 68,
     "metadata": {},
     "output_type": "execute_result"
    }
   ],
   "source": [
    "data_frame_new[data_frame_new>0]"
   ]
  },
  {
   "cell_type": "code",
   "execution_count": 69,
   "id": "a3c079cc",
   "metadata": {},
   "outputs": [],
   "source": [
    "#data_frame_new[data_frame_new.loc[\"WiproInnovate IT\"] > 0] #\"-----------------------> ERROR!!!\""
   ]
  },
  {
   "cell_type": "code",
   "execution_count": 70,
   "id": "d81b8175",
   "metadata": {},
   "outputs": [
    {
     "data": {
      "text/plain": [
       "[Mumbai        True\n",
       " Delhi        False\n",
       " Bangalore    False\n",
       " Hyderabad     True\n",
       " Chennai       True\n",
       " Name: WiproInnovate IT, dtype: bool]"
      ]
     },
     "execution_count": 70,
     "metadata": {},
     "output_type": "execute_result"
    }
   ],
   "source": [
    "[data_frame_new.loc[\"WiproInnovate IT\"] > 0]"
   ]
  },
  {
   "cell_type": "code",
   "execution_count": 71,
   "id": "ec2d3e11",
   "metadata": {},
   "outputs": [
    {
     "data": {
      "text/html": [
       "<div>\n",
       "<style scoped>\n",
       "    .dataframe tbody tr th:only-of-type {\n",
       "        vertical-align: middle;\n",
       "    }\n",
       "\n",
       "    .dataframe tbody tr th {\n",
       "        vertical-align: top;\n",
       "    }\n",
       "\n",
       "    .dataframe thead th {\n",
       "        text-align: right;\n",
       "    }\n",
       "</style>\n",
       "<table border=\"1\" class=\"dataframe\">\n",
       "  <thead>\n",
       "    <tr style=\"text-align: right;\">\n",
       "      <th></th>\n",
       "      <th>Mumbai</th>\n",
       "      <th>Delhi</th>\n",
       "      <th>Bangalore</th>\n",
       "      <th>Hyderabad</th>\n",
       "      <th>Chennai</th>\n",
       "    </tr>\n",
       "  </thead>\n",
       "  <tbody>\n",
       "    <tr>\n",
       "      <th>TataTech Dynamics</th>\n",
       "      <td>-214.121229</td>\n",
       "      <td>99.257345</td>\n",
       "      <td>119.224064</td>\n",
       "      <td>-104.677954</td>\n",
       "      <td>129.276458</td>\n",
       "    </tr>\n",
       "  </tbody>\n",
       "</table>\n",
       "</div>"
      ],
      "text/plain": [
       "                       Mumbai      Delhi   Bangalore   Hyderabad     Chennai\n",
       "TataTech Dynamics -214.121229  99.257345  119.224064 -104.677954  129.276458"
      ]
     },
     "execution_count": 71,
     "metadata": {},
     "output_type": "execute_result"
    }
   ],
   "source": [
    "data_frame_new[ data_frame_new[\"Delhi\"] > 0 ]"
   ]
  },
  {
   "cell_type": "code",
   "execution_count": 72,
   "id": "f52b19b7",
   "metadata": {},
   "outputs": [],
   "source": [
    "#data_frame_new[ data_frame_new[\"Delhi\"] > 0 and data_frame_new[\"Bangalore\"] < 0 ]  # ERROR OF AND!!!"
   ]
  },
  {
   "cell_type": "code",
   "execution_count": 73,
   "id": "72b20cdd",
   "metadata": {},
   "outputs": [
    {
     "data": {
      "text/html": [
       "<div>\n",
       "<style scoped>\n",
       "    .dataframe tbody tr th:only-of-type {\n",
       "        vertical-align: middle;\n",
       "    }\n",
       "\n",
       "    .dataframe tbody tr th {\n",
       "        vertical-align: top;\n",
       "    }\n",
       "\n",
       "    .dataframe thead th {\n",
       "        text-align: right;\n",
       "    }\n",
       "</style>\n",
       "<table border=\"1\" class=\"dataframe\">\n",
       "  <thead>\n",
       "    <tr style=\"text-align: right;\">\n",
       "      <th></th>\n",
       "      <th>Mumbai</th>\n",
       "      <th>Delhi</th>\n",
       "      <th>Bangalore</th>\n",
       "      <th>Hyderabad</th>\n",
       "      <th>Chennai</th>\n",
       "    </tr>\n",
       "  </thead>\n",
       "  <tbody>\n",
       "  </tbody>\n",
       "</table>\n",
       "</div>"
      ],
      "text/plain": [
       "Empty DataFrame\n",
       "Columns: [Mumbai, Delhi, Bangalore, Hyderabad, Chennai]\n",
       "Index: []"
      ]
     },
     "execution_count": 73,
     "metadata": {},
     "output_type": "execute_result"
    }
   ],
   "source": [
    "data_frame_new[ (data_frame_new[\"Delhi\"] > 0) & (data_frame_new[\"Bangalore\"] < 0) ] "
   ]
  },
  {
   "cell_type": "code",
   "execution_count": 74,
   "id": "0813caf2",
   "metadata": {
    "scrolled": true
   },
   "outputs": [
    {
     "data": {
      "text/html": [
       "<div>\n",
       "<style scoped>\n",
       "    .dataframe tbody tr th:only-of-type {\n",
       "        vertical-align: middle;\n",
       "    }\n",
       "\n",
       "    .dataframe tbody tr th {\n",
       "        vertical-align: top;\n",
       "    }\n",
       "\n",
       "    .dataframe thead th {\n",
       "        text-align: right;\n",
       "    }\n",
       "</style>\n",
       "<table border=\"1\" class=\"dataframe\">\n",
       "  <thead>\n",
       "    <tr style=\"text-align: right;\">\n",
       "      <th></th>\n",
       "      <th>Mumbai</th>\n",
       "      <th>Delhi</th>\n",
       "      <th>Bangalore</th>\n",
       "      <th>Hyderabad</th>\n",
       "      <th>Chennai</th>\n",
       "    </tr>\n",
       "  </thead>\n",
       "  <tbody>\n",
       "    <tr>\n",
       "      <th>WiproInnovate IT</th>\n",
       "      <td>18.712452</td>\n",
       "      <td>-73.284515</td>\n",
       "      <td>-138.292010</td>\n",
       "      <td>148.249550</td>\n",
       "      <td>96.145816</td>\n",
       "    </tr>\n",
       "    <tr>\n",
       "      <th>TataTech Dynamics</th>\n",
       "      <td>-214.121229</td>\n",
       "      <td>99.257345</td>\n",
       "      <td>119.224064</td>\n",
       "      <td>-104.677954</td>\n",
       "      <td>129.276458</td>\n",
       "    </tr>\n",
       "    <tr>\n",
       "      <th>HCLInnovations Hub</th>\n",
       "      <td>-146.751402</td>\n",
       "      <td>-49.409536</td>\n",
       "      <td>-16.253473</td>\n",
       "      <td>48.580874</td>\n",
       "      <td>39.248881</td>\n",
       "    </tr>\n",
       "  </tbody>\n",
       "</table>\n",
       "</div>"
      ],
      "text/plain": [
       "                        Mumbai      Delhi   Bangalore   Hyderabad     Chennai\n",
       "WiproInnovate IT     18.712452 -73.284515 -138.292010  148.249550   96.145816\n",
       "TataTech Dynamics  -214.121229  99.257345  119.224064 -104.677954  129.276458\n",
       "HCLInnovations Hub -146.751402 -49.409536  -16.253473   48.580874   39.248881"
      ]
     },
     "execution_count": 74,
     "metadata": {},
     "output_type": "execute_result"
    }
   ],
   "source": [
    "data_frame_new[ (data_frame_new[\"Delhi\"] > 0) | (data_frame_new[\"Bangalore\"] < 0) ] "
   ]
  },
  {
   "cell_type": "code",
   "execution_count": 75,
   "id": "aaf720d3",
   "metadata": {
    "scrolled": true
   },
   "outputs": [],
   "source": [
    "#data_frame_new[ (data_frame_new[\"Delhi\"] > 0) or (data_frame_new[\"Bangalore\"] < 0) ]  # ERROR for OR!!!"
   ]
  },
  {
   "cell_type": "code",
   "execution_count": 76,
   "id": "04bbe543",
   "metadata": {},
   "outputs": [
    {
     "data": {
      "text/html": [
       "<div>\n",
       "<style scoped>\n",
       "    .dataframe tbody tr th:only-of-type {\n",
       "        vertical-align: middle;\n",
       "    }\n",
       "\n",
       "    .dataframe tbody tr th {\n",
       "        vertical-align: top;\n",
       "    }\n",
       "\n",
       "    .dataframe thead th {\n",
       "        text-align: right;\n",
       "    }\n",
       "</style>\n",
       "<table border=\"1\" class=\"dataframe\">\n",
       "  <thead>\n",
       "    <tr style=\"text-align: right;\">\n",
       "      <th></th>\n",
       "      <th>Mumbai</th>\n",
       "      <th>Delhi</th>\n",
       "      <th>Bangalore</th>\n",
       "      <th>Hyderabad</th>\n",
       "      <th>Chennai</th>\n",
       "    </tr>\n",
       "  </thead>\n",
       "  <tbody>\n",
       "    <tr>\n",
       "      <th>InfosysTech Solutions</th>\n",
       "      <td>103.512507</td>\n",
       "      <td>-3.116048</td>\n",
       "      <td>193.993231</td>\n",
       "      <td>-100.518692</td>\n",
       "      <td>-74.178970</td>\n",
       "    </tr>\n",
       "    <tr>\n",
       "      <th>WiproInnovate IT</th>\n",
       "      <td>18.712452</td>\n",
       "      <td>-73.284515</td>\n",
       "      <td>-138.292010</td>\n",
       "      <td>148.249550</td>\n",
       "      <td>96.145816</td>\n",
       "    </tr>\n",
       "    <tr>\n",
       "      <th>TataTech Dynamics</th>\n",
       "      <td>-214.121229</td>\n",
       "      <td>99.257345</td>\n",
       "      <td>119.224064</td>\n",
       "      <td>-104.677954</td>\n",
       "      <td>129.276458</td>\n",
       "    </tr>\n",
       "    <tr>\n",
       "      <th>HCLInnovations Hub</th>\n",
       "      <td>-146.751402</td>\n",
       "      <td>-49.409536</td>\n",
       "      <td>-16.253473</td>\n",
       "      <td>48.580874</td>\n",
       "      <td>39.248881</td>\n",
       "    </tr>\n",
       "    <tr>\n",
       "      <th>TechMahindra Systems</th>\n",
       "      <td>22.149069</td>\n",
       "      <td>-85.519604</td>\n",
       "      <td>154.199041</td>\n",
       "      <td>66.631932</td>\n",
       "      <td>-53.823463</td>\n",
       "    </tr>\n",
       "  </tbody>\n",
       "</table>\n",
       "</div>"
      ],
      "text/plain": [
       "                           Mumbai      Delhi   Bangalore   Hyderabad  \\\n",
       "InfosysTech Solutions  103.512507  -3.116048  193.993231 -100.518692   \n",
       "WiproInnovate IT        18.712452 -73.284515 -138.292010  148.249550   \n",
       "TataTech Dynamics     -214.121229  99.257345  119.224064 -104.677954   \n",
       "HCLInnovations Hub    -146.751402 -49.409536  -16.253473   48.580874   \n",
       "TechMahindra Systems    22.149069 -85.519604  154.199041   66.631932   \n",
       "\n",
       "                          Chennai  \n",
       "InfosysTech Solutions  -74.178970  \n",
       "WiproInnovate IT        96.145816  \n",
       "TataTech Dynamics      129.276458  \n",
       "HCLInnovations Hub      39.248881  \n",
       "TechMahindra Systems   -53.823463  "
      ]
     },
     "execution_count": 76,
     "metadata": {},
     "output_type": "execute_result"
    }
   ],
   "source": [
    "data_frame_new[(data_frame_new[\"Delhi\"] < 0) | (data_frame_new[\"Chennai\"] >=0) | (data_frame_new[\"Hyderabad\"] < 0) ]"
   ]
  },
  {
   "cell_type": "code",
   "execution_count": 77,
   "id": "dfbecc1d",
   "metadata": {},
   "outputs": [],
   "source": [
    "# Indexs"
   ]
  },
  {
   "cell_type": "code",
   "execution_count": 78,
   "id": "570eb5f9",
   "metadata": {},
   "outputs": [],
   "source": [
    "New_index = \"GUJ TN PJ HYD BNG\".split()"
   ]
  },
  {
   "cell_type": "code",
   "execution_count": 79,
   "id": "f0244737",
   "metadata": {},
   "outputs": [
    {
     "data": {
      "text/html": [
       "<div>\n",
       "<style scoped>\n",
       "    .dataframe tbody tr th:only-of-type {\n",
       "        vertical-align: middle;\n",
       "    }\n",
       "\n",
       "    .dataframe tbody tr th {\n",
       "        vertical-align: top;\n",
       "    }\n",
       "\n",
       "    .dataframe thead th {\n",
       "        text-align: right;\n",
       "    }\n",
       "</style>\n",
       "<table border=\"1\" class=\"dataframe\">\n",
       "  <thead>\n",
       "    <tr style=\"text-align: right;\">\n",
       "      <th></th>\n",
       "      <th>index</th>\n",
       "      <th>Mumbai</th>\n",
       "      <th>Delhi</th>\n",
       "      <th>Bangalore</th>\n",
       "      <th>Hyderabad</th>\n",
       "      <th>Chennai</th>\n",
       "    </tr>\n",
       "  </thead>\n",
       "  <tbody>\n",
       "    <tr>\n",
       "      <th>0</th>\n",
       "      <td>InfosysTech Solutions</td>\n",
       "      <td>103.512507</td>\n",
       "      <td>-3.116048</td>\n",
       "      <td>193.993231</td>\n",
       "      <td>-100.518692</td>\n",
       "      <td>-74.178970</td>\n",
       "    </tr>\n",
       "    <tr>\n",
       "      <th>1</th>\n",
       "      <td>WiproInnovate IT</td>\n",
       "      <td>18.712452</td>\n",
       "      <td>-73.284515</td>\n",
       "      <td>-138.292010</td>\n",
       "      <td>148.249550</td>\n",
       "      <td>96.145816</td>\n",
       "    </tr>\n",
       "    <tr>\n",
       "      <th>2</th>\n",
       "      <td>TataTech Dynamics</td>\n",
       "      <td>-214.121229</td>\n",
       "      <td>99.257345</td>\n",
       "      <td>119.224064</td>\n",
       "      <td>-104.677954</td>\n",
       "      <td>129.276458</td>\n",
       "    </tr>\n",
       "    <tr>\n",
       "      <th>3</th>\n",
       "      <td>HCLInnovations Hub</td>\n",
       "      <td>-146.751402</td>\n",
       "      <td>-49.409536</td>\n",
       "      <td>-16.253473</td>\n",
       "      <td>48.580874</td>\n",
       "      <td>39.248881</td>\n",
       "    </tr>\n",
       "    <tr>\n",
       "      <th>4</th>\n",
       "      <td>TechMahindra Systems</td>\n",
       "      <td>22.149069</td>\n",
       "      <td>-85.519604</td>\n",
       "      <td>154.199041</td>\n",
       "      <td>66.631932</td>\n",
       "      <td>-53.823463</td>\n",
       "    </tr>\n",
       "  </tbody>\n",
       "</table>\n",
       "</div>"
      ],
      "text/plain": [
       "                   index      Mumbai      Delhi   Bangalore   Hyderabad  \\\n",
       "0  InfosysTech Solutions  103.512507  -3.116048  193.993231 -100.518692   \n",
       "1       WiproInnovate IT   18.712452 -73.284515 -138.292010  148.249550   \n",
       "2      TataTech Dynamics -214.121229  99.257345  119.224064 -104.677954   \n",
       "3     HCLInnovations Hub -146.751402 -49.409536  -16.253473   48.580874   \n",
       "4   TechMahindra Systems   22.149069 -85.519604  154.199041   66.631932   \n",
       "\n",
       "      Chennai  \n",
       "0  -74.178970  \n",
       "1   96.145816  \n",
       "2  129.276458  \n",
       "3   39.248881  \n",
       "4  -53.823463  "
      ]
     },
     "execution_count": 79,
     "metadata": {},
     "output_type": "execute_result"
    }
   ],
   "source": [
    "data_frame_new.reset_index()"
   ]
  },
  {
   "cell_type": "code",
   "execution_count": 80,
   "id": "b06c6c86",
   "metadata": {},
   "outputs": [],
   "source": [
    "data_frame_new[\"States\"] = New_index"
   ]
  },
  {
   "cell_type": "code",
   "execution_count": 81,
   "id": "544361e4",
   "metadata": {},
   "outputs": [
    {
     "data": {
      "text/html": [
       "<div>\n",
       "<style scoped>\n",
       "    .dataframe tbody tr th:only-of-type {\n",
       "        vertical-align: middle;\n",
       "    }\n",
       "\n",
       "    .dataframe tbody tr th {\n",
       "        vertical-align: top;\n",
       "    }\n",
       "\n",
       "    .dataframe thead th {\n",
       "        text-align: right;\n",
       "    }\n",
       "</style>\n",
       "<table border=\"1\" class=\"dataframe\">\n",
       "  <thead>\n",
       "    <tr style=\"text-align: right;\">\n",
       "      <th></th>\n",
       "      <th>Mumbai</th>\n",
       "      <th>Delhi</th>\n",
       "      <th>Bangalore</th>\n",
       "      <th>Hyderabad</th>\n",
       "      <th>Chennai</th>\n",
       "      <th>States</th>\n",
       "    </tr>\n",
       "  </thead>\n",
       "  <tbody>\n",
       "    <tr>\n",
       "      <th>InfosysTech Solutions</th>\n",
       "      <td>103.512507</td>\n",
       "      <td>-3.116048</td>\n",
       "      <td>193.993231</td>\n",
       "      <td>-100.518692</td>\n",
       "      <td>-74.178970</td>\n",
       "      <td>GUJ</td>\n",
       "    </tr>\n",
       "    <tr>\n",
       "      <th>WiproInnovate IT</th>\n",
       "      <td>18.712452</td>\n",
       "      <td>-73.284515</td>\n",
       "      <td>-138.292010</td>\n",
       "      <td>148.249550</td>\n",
       "      <td>96.145816</td>\n",
       "      <td>TN</td>\n",
       "    </tr>\n",
       "    <tr>\n",
       "      <th>TataTech Dynamics</th>\n",
       "      <td>-214.121229</td>\n",
       "      <td>99.257345</td>\n",
       "      <td>119.224064</td>\n",
       "      <td>-104.677954</td>\n",
       "      <td>129.276458</td>\n",
       "      <td>PJ</td>\n",
       "    </tr>\n",
       "    <tr>\n",
       "      <th>HCLInnovations Hub</th>\n",
       "      <td>-146.751402</td>\n",
       "      <td>-49.409536</td>\n",
       "      <td>-16.253473</td>\n",
       "      <td>48.580874</td>\n",
       "      <td>39.248881</td>\n",
       "      <td>HYD</td>\n",
       "    </tr>\n",
       "    <tr>\n",
       "      <th>TechMahindra Systems</th>\n",
       "      <td>22.149069</td>\n",
       "      <td>-85.519604</td>\n",
       "      <td>154.199041</td>\n",
       "      <td>66.631932</td>\n",
       "      <td>-53.823463</td>\n",
       "      <td>BNG</td>\n",
       "    </tr>\n",
       "  </tbody>\n",
       "</table>\n",
       "</div>"
      ],
      "text/plain": [
       "                           Mumbai      Delhi   Bangalore   Hyderabad  \\\n",
       "InfosysTech Solutions  103.512507  -3.116048  193.993231 -100.518692   \n",
       "WiproInnovate IT        18.712452 -73.284515 -138.292010  148.249550   \n",
       "TataTech Dynamics     -214.121229  99.257345  119.224064 -104.677954   \n",
       "HCLInnovations Hub    -146.751402 -49.409536  -16.253473   48.580874   \n",
       "TechMahindra Systems    22.149069 -85.519604  154.199041   66.631932   \n",
       "\n",
       "                          Chennai States  \n",
       "InfosysTech Solutions  -74.178970    GUJ  \n",
       "WiproInnovate IT        96.145816     TN  \n",
       "TataTech Dynamics      129.276458     PJ  \n",
       "HCLInnovations Hub      39.248881    HYD  \n",
       "TechMahindra Systems   -53.823463    BNG  "
      ]
     },
     "execution_count": 81,
     "metadata": {},
     "output_type": "execute_result"
    }
   ],
   "source": [
    "data_frame_new"
   ]
  },
  {
   "cell_type": "code",
   "execution_count": 82,
   "id": "1574a2d4",
   "metadata": {},
   "outputs": [
    {
     "data": {
      "text/html": [
       "<div>\n",
       "<style scoped>\n",
       "    .dataframe tbody tr th:only-of-type {\n",
       "        vertical-align: middle;\n",
       "    }\n",
       "\n",
       "    .dataframe tbody tr th {\n",
       "        vertical-align: top;\n",
       "    }\n",
       "\n",
       "    .dataframe thead th {\n",
       "        text-align: right;\n",
       "    }\n",
       "</style>\n",
       "<table border=\"1\" class=\"dataframe\">\n",
       "  <thead>\n",
       "    <tr style=\"text-align: right;\">\n",
       "      <th></th>\n",
       "      <th>index</th>\n",
       "      <th>Mumbai</th>\n",
       "      <th>Delhi</th>\n",
       "      <th>Bangalore</th>\n",
       "      <th>Hyderabad</th>\n",
       "      <th>Chennai</th>\n",
       "      <th>States</th>\n",
       "    </tr>\n",
       "  </thead>\n",
       "  <tbody>\n",
       "    <tr>\n",
       "      <th>0</th>\n",
       "      <td>InfosysTech Solutions</td>\n",
       "      <td>103.512507</td>\n",
       "      <td>-3.116048</td>\n",
       "      <td>193.993231</td>\n",
       "      <td>-100.518692</td>\n",
       "      <td>-74.178970</td>\n",
       "      <td>GUJ</td>\n",
       "    </tr>\n",
       "    <tr>\n",
       "      <th>1</th>\n",
       "      <td>WiproInnovate IT</td>\n",
       "      <td>18.712452</td>\n",
       "      <td>-73.284515</td>\n",
       "      <td>-138.292010</td>\n",
       "      <td>148.249550</td>\n",
       "      <td>96.145816</td>\n",
       "      <td>TN</td>\n",
       "    </tr>\n",
       "    <tr>\n",
       "      <th>2</th>\n",
       "      <td>TataTech Dynamics</td>\n",
       "      <td>-214.121229</td>\n",
       "      <td>99.257345</td>\n",
       "      <td>119.224064</td>\n",
       "      <td>-104.677954</td>\n",
       "      <td>129.276458</td>\n",
       "      <td>PJ</td>\n",
       "    </tr>\n",
       "    <tr>\n",
       "      <th>3</th>\n",
       "      <td>HCLInnovations Hub</td>\n",
       "      <td>-146.751402</td>\n",
       "      <td>-49.409536</td>\n",
       "      <td>-16.253473</td>\n",
       "      <td>48.580874</td>\n",
       "      <td>39.248881</td>\n",
       "      <td>HYD</td>\n",
       "    </tr>\n",
       "    <tr>\n",
       "      <th>4</th>\n",
       "      <td>TechMahindra Systems</td>\n",
       "      <td>22.149069</td>\n",
       "      <td>-85.519604</td>\n",
       "      <td>154.199041</td>\n",
       "      <td>66.631932</td>\n",
       "      <td>-53.823463</td>\n",
       "      <td>BNG</td>\n",
       "    </tr>\n",
       "  </tbody>\n",
       "</table>\n",
       "</div>"
      ],
      "text/plain": [
       "                   index      Mumbai      Delhi   Bangalore   Hyderabad  \\\n",
       "0  InfosysTech Solutions  103.512507  -3.116048  193.993231 -100.518692   \n",
       "1       WiproInnovate IT   18.712452 -73.284515 -138.292010  148.249550   \n",
       "2      TataTech Dynamics -214.121229  99.257345  119.224064 -104.677954   \n",
       "3     HCLInnovations Hub -146.751402 -49.409536  -16.253473   48.580874   \n",
       "4   TechMahindra Systems   22.149069 -85.519604  154.199041   66.631932   \n",
       "\n",
       "      Chennai States  \n",
       "0  -74.178970    GUJ  \n",
       "1   96.145816     TN  \n",
       "2  129.276458     PJ  \n",
       "3   39.248881    HYD  \n",
       "4  -53.823463    BNG  "
      ]
     },
     "execution_count": 82,
     "metadata": {},
     "output_type": "execute_result"
    }
   ],
   "source": [
    "data_frame_new.reset_index()"
   ]
  },
  {
   "cell_type": "code",
   "execution_count": 83,
   "id": "cf3c88e3",
   "metadata": {},
   "outputs": [
    {
     "data": {
      "text/html": [
       "<div>\n",
       "<style scoped>\n",
       "    .dataframe tbody tr th:only-of-type {\n",
       "        vertical-align: middle;\n",
       "    }\n",
       "\n",
       "    .dataframe tbody tr th {\n",
       "        vertical-align: top;\n",
       "    }\n",
       "\n",
       "    .dataframe thead th {\n",
       "        text-align: right;\n",
       "    }\n",
       "</style>\n",
       "<table border=\"1\" class=\"dataframe\">\n",
       "  <thead>\n",
       "    <tr style=\"text-align: right;\">\n",
       "      <th></th>\n",
       "      <th>Mumbai</th>\n",
       "      <th>Delhi</th>\n",
       "      <th>Bangalore</th>\n",
       "      <th>Hyderabad</th>\n",
       "      <th>Chennai</th>\n",
       "    </tr>\n",
       "    <tr>\n",
       "      <th>States</th>\n",
       "      <th></th>\n",
       "      <th></th>\n",
       "      <th></th>\n",
       "      <th></th>\n",
       "      <th></th>\n",
       "    </tr>\n",
       "  </thead>\n",
       "  <tbody>\n",
       "    <tr>\n",
       "      <th>GUJ</th>\n",
       "      <td>103.512507</td>\n",
       "      <td>-3.116048</td>\n",
       "      <td>193.993231</td>\n",
       "      <td>-100.518692</td>\n",
       "      <td>-74.178970</td>\n",
       "    </tr>\n",
       "    <tr>\n",
       "      <th>TN</th>\n",
       "      <td>18.712452</td>\n",
       "      <td>-73.284515</td>\n",
       "      <td>-138.292010</td>\n",
       "      <td>148.249550</td>\n",
       "      <td>96.145816</td>\n",
       "    </tr>\n",
       "    <tr>\n",
       "      <th>PJ</th>\n",
       "      <td>-214.121229</td>\n",
       "      <td>99.257345</td>\n",
       "      <td>119.224064</td>\n",
       "      <td>-104.677954</td>\n",
       "      <td>129.276458</td>\n",
       "    </tr>\n",
       "    <tr>\n",
       "      <th>HYD</th>\n",
       "      <td>-146.751402</td>\n",
       "      <td>-49.409536</td>\n",
       "      <td>-16.253473</td>\n",
       "      <td>48.580874</td>\n",
       "      <td>39.248881</td>\n",
       "    </tr>\n",
       "    <tr>\n",
       "      <th>BNG</th>\n",
       "      <td>22.149069</td>\n",
       "      <td>-85.519604</td>\n",
       "      <td>154.199041</td>\n",
       "      <td>66.631932</td>\n",
       "      <td>-53.823463</td>\n",
       "    </tr>\n",
       "  </tbody>\n",
       "</table>\n",
       "</div>"
      ],
      "text/plain": [
       "            Mumbai      Delhi   Bangalore   Hyderabad     Chennai\n",
       "States                                                           \n",
       "GUJ     103.512507  -3.116048  193.993231 -100.518692  -74.178970\n",
       "TN       18.712452 -73.284515 -138.292010  148.249550   96.145816\n",
       "PJ     -214.121229  99.257345  119.224064 -104.677954  129.276458\n",
       "HYD    -146.751402 -49.409536  -16.253473   48.580874   39.248881\n",
       "BNG      22.149069 -85.519604  154.199041   66.631932  -53.823463"
      ]
     },
     "execution_count": 83,
     "metadata": {},
     "output_type": "execute_result"
    }
   ],
   "source": [
    "data_frame_new.set_index(\"States\")"
   ]
  },
  {
   "cell_type": "code",
   "execution_count": 84,
   "id": "6dc858e3",
   "metadata": {},
   "outputs": [
    {
     "data": {
      "text/html": [
       "<div>\n",
       "<style scoped>\n",
       "    .dataframe tbody tr th:only-of-type {\n",
       "        vertical-align: middle;\n",
       "    }\n",
       "\n",
       "    .dataframe tbody tr th {\n",
       "        vertical-align: top;\n",
       "    }\n",
       "\n",
       "    .dataframe thead th {\n",
       "        text-align: right;\n",
       "    }\n",
       "</style>\n",
       "<table border=\"1\" class=\"dataframe\">\n",
       "  <thead>\n",
       "    <tr style=\"text-align: right;\">\n",
       "      <th></th>\n",
       "      <th>Mumbai</th>\n",
       "      <th>Delhi</th>\n",
       "      <th>Bangalore</th>\n",
       "      <th>Hyderabad</th>\n",
       "      <th>Chennai</th>\n",
       "      <th>States</th>\n",
       "    </tr>\n",
       "  </thead>\n",
       "  <tbody>\n",
       "    <tr>\n",
       "      <th>InfosysTech Solutions</th>\n",
       "      <td>103.512507</td>\n",
       "      <td>-3.116048</td>\n",
       "      <td>193.993231</td>\n",
       "      <td>-100.518692</td>\n",
       "      <td>-74.178970</td>\n",
       "      <td>GUJ</td>\n",
       "    </tr>\n",
       "    <tr>\n",
       "      <th>WiproInnovate IT</th>\n",
       "      <td>18.712452</td>\n",
       "      <td>-73.284515</td>\n",
       "      <td>-138.292010</td>\n",
       "      <td>148.249550</td>\n",
       "      <td>96.145816</td>\n",
       "      <td>TN</td>\n",
       "    </tr>\n",
       "    <tr>\n",
       "      <th>TataTech Dynamics</th>\n",
       "      <td>-214.121229</td>\n",
       "      <td>99.257345</td>\n",
       "      <td>119.224064</td>\n",
       "      <td>-104.677954</td>\n",
       "      <td>129.276458</td>\n",
       "      <td>PJ</td>\n",
       "    </tr>\n",
       "    <tr>\n",
       "      <th>HCLInnovations Hub</th>\n",
       "      <td>-146.751402</td>\n",
       "      <td>-49.409536</td>\n",
       "      <td>-16.253473</td>\n",
       "      <td>48.580874</td>\n",
       "      <td>39.248881</td>\n",
       "      <td>HYD</td>\n",
       "    </tr>\n",
       "    <tr>\n",
       "      <th>TechMahindra Systems</th>\n",
       "      <td>22.149069</td>\n",
       "      <td>-85.519604</td>\n",
       "      <td>154.199041</td>\n",
       "      <td>66.631932</td>\n",
       "      <td>-53.823463</td>\n",
       "      <td>BNG</td>\n",
       "    </tr>\n",
       "  </tbody>\n",
       "</table>\n",
       "</div>"
      ],
      "text/plain": [
       "                           Mumbai      Delhi   Bangalore   Hyderabad  \\\n",
       "InfosysTech Solutions  103.512507  -3.116048  193.993231 -100.518692   \n",
       "WiproInnovate IT        18.712452 -73.284515 -138.292010  148.249550   \n",
       "TataTech Dynamics     -214.121229  99.257345  119.224064 -104.677954   \n",
       "HCLInnovations Hub    -146.751402 -49.409536  -16.253473   48.580874   \n",
       "TechMahindra Systems    22.149069 -85.519604  154.199041   66.631932   \n",
       "\n",
       "                          Chennai States  \n",
       "InfosysTech Solutions  -74.178970    GUJ  \n",
       "WiproInnovate IT        96.145816     TN  \n",
       "TataTech Dynamics      129.276458     PJ  \n",
       "HCLInnovations Hub      39.248881    HYD  \n",
       "TechMahindra Systems   -53.823463    BNG  "
      ]
     },
     "execution_count": 84,
     "metadata": {},
     "output_type": "execute_result"
    }
   ],
   "source": [
    "data_frame_new"
   ]
  },
  {
   "cell_type": "code",
   "execution_count": 85,
   "id": "2501ef76",
   "metadata": {},
   "outputs": [],
   "source": [
    "data_frame_new.reset_index(inplace= True)"
   ]
  },
  {
   "cell_type": "code",
   "execution_count": 86,
   "id": "c37fbe42",
   "metadata": {},
   "outputs": [],
   "source": [
    "data_frame_new.set_index(\"States\",inplace=True)"
   ]
  },
  {
   "cell_type": "code",
   "execution_count": 87,
   "id": "3bb5b0db",
   "metadata": {},
   "outputs": [
    {
     "data": {
      "text/html": [
       "<div>\n",
       "<style scoped>\n",
       "    .dataframe tbody tr th:only-of-type {\n",
       "        vertical-align: middle;\n",
       "    }\n",
       "\n",
       "    .dataframe tbody tr th {\n",
       "        vertical-align: top;\n",
       "    }\n",
       "\n",
       "    .dataframe thead th {\n",
       "        text-align: right;\n",
       "    }\n",
       "</style>\n",
       "<table border=\"1\" class=\"dataframe\">\n",
       "  <thead>\n",
       "    <tr style=\"text-align: right;\">\n",
       "      <th></th>\n",
       "      <th>index</th>\n",
       "      <th>Mumbai</th>\n",
       "      <th>Delhi</th>\n",
       "      <th>Bangalore</th>\n",
       "      <th>Hyderabad</th>\n",
       "      <th>Chennai</th>\n",
       "    </tr>\n",
       "    <tr>\n",
       "      <th>States</th>\n",
       "      <th></th>\n",
       "      <th></th>\n",
       "      <th></th>\n",
       "      <th></th>\n",
       "      <th></th>\n",
       "      <th></th>\n",
       "    </tr>\n",
       "  </thead>\n",
       "  <tbody>\n",
       "    <tr>\n",
       "      <th>GUJ</th>\n",
       "      <td>InfosysTech Solutions</td>\n",
       "      <td>103.512507</td>\n",
       "      <td>-3.116048</td>\n",
       "      <td>193.993231</td>\n",
       "      <td>-100.518692</td>\n",
       "      <td>-74.178970</td>\n",
       "    </tr>\n",
       "    <tr>\n",
       "      <th>TN</th>\n",
       "      <td>WiproInnovate IT</td>\n",
       "      <td>18.712452</td>\n",
       "      <td>-73.284515</td>\n",
       "      <td>-138.292010</td>\n",
       "      <td>148.249550</td>\n",
       "      <td>96.145816</td>\n",
       "    </tr>\n",
       "    <tr>\n",
       "      <th>PJ</th>\n",
       "      <td>TataTech Dynamics</td>\n",
       "      <td>-214.121229</td>\n",
       "      <td>99.257345</td>\n",
       "      <td>119.224064</td>\n",
       "      <td>-104.677954</td>\n",
       "      <td>129.276458</td>\n",
       "    </tr>\n",
       "    <tr>\n",
       "      <th>HYD</th>\n",
       "      <td>HCLInnovations Hub</td>\n",
       "      <td>-146.751402</td>\n",
       "      <td>-49.409536</td>\n",
       "      <td>-16.253473</td>\n",
       "      <td>48.580874</td>\n",
       "      <td>39.248881</td>\n",
       "    </tr>\n",
       "    <tr>\n",
       "      <th>BNG</th>\n",
       "      <td>TechMahindra Systems</td>\n",
       "      <td>22.149069</td>\n",
       "      <td>-85.519604</td>\n",
       "      <td>154.199041</td>\n",
       "      <td>66.631932</td>\n",
       "      <td>-53.823463</td>\n",
       "    </tr>\n",
       "  </tbody>\n",
       "</table>\n",
       "</div>"
      ],
      "text/plain": [
       "                        index      Mumbai      Delhi   Bangalore   Hyderabad  \\\n",
       "States                                                                         \n",
       "GUJ     InfosysTech Solutions  103.512507  -3.116048  193.993231 -100.518692   \n",
       "TN           WiproInnovate IT   18.712452 -73.284515 -138.292010  148.249550   \n",
       "PJ          TataTech Dynamics -214.121229  99.257345  119.224064 -104.677954   \n",
       "HYD        HCLInnovations Hub -146.751402 -49.409536  -16.253473   48.580874   \n",
       "BNG      TechMahindra Systems   22.149069 -85.519604  154.199041   66.631932   \n",
       "\n",
       "           Chennai  \n",
       "States              \n",
       "GUJ     -74.178970  \n",
       "TN       96.145816  \n",
       "PJ      129.276458  \n",
       "HYD      39.248881  \n",
       "BNG     -53.823463  "
      ]
     },
     "execution_count": 87,
     "metadata": {},
     "output_type": "execute_result"
    }
   ],
   "source": [
    "data_frame_new"
   ]
  },
  {
   "cell_type": "code",
   "execution_count": 88,
   "id": "eda9623a",
   "metadata": {},
   "outputs": [],
   "source": [
    "# Multi Indexing "
   ]
  },
  {
   "cell_type": "code",
   "execution_count": 89,
   "id": "be75bd07",
   "metadata": {},
   "outputs": [],
   "source": [
    "# Basic"
   ]
  },
  {
   "cell_type": "code",
   "execution_count": 90,
   "id": "24993b6a",
   "metadata": {},
   "outputs": [],
   "source": [
    "# Index Levels\n",
    "outside = ['G1','G1','G1','G2','G2','G2']\n",
    "inside = [1,2,3,1,2,3]\n",
    "hier_index = list(zip(outside,inside))\n",
    "hier_index = pd.MultiIndex.from_tuples(hier_index)"
   ]
  },
  {
   "cell_type": "code",
   "execution_count": 91,
   "id": "5af701cf",
   "metadata": {},
   "outputs": [
    {
     "data": {
      "text/plain": [
       "MultiIndex([('G1', 1),\n",
       "            ('G1', 2),\n",
       "            ('G1', 3),\n",
       "            ('G2', 1),\n",
       "            ('G2', 2),\n",
       "            ('G2', 3)],\n",
       "           )"
      ]
     },
     "execution_count": 91,
     "metadata": {},
     "output_type": "execute_result"
    }
   ],
   "source": [
    "hier_index"
   ]
  },
  {
   "cell_type": "code",
   "execution_count": 92,
   "id": "1d3a39f4",
   "metadata": {},
   "outputs": [],
   "source": [
    "#df = pd.MultiIndex.from_tuples(randn(6,2),hier_index, [\"A\",\"B\"]) # Wrong"
   ]
  },
  {
   "cell_type": "code",
   "execution_count": 93,
   "id": "01f96224",
   "metadata": {},
   "outputs": [],
   "source": [
    "multi_level_df = pd.DataFrame(randn(6,3),index= hier_index,columns=\"A B C\".split())"
   ]
  },
  {
   "cell_type": "code",
   "execution_count": 94,
   "id": "22a2155b",
   "metadata": {},
   "outputs": [
    {
     "data": {
      "text/html": [
       "<div>\n",
       "<style scoped>\n",
       "    .dataframe tbody tr th:only-of-type {\n",
       "        vertical-align: middle;\n",
       "    }\n",
       "\n",
       "    .dataframe tbody tr th {\n",
       "        vertical-align: top;\n",
       "    }\n",
       "\n",
       "    .dataframe thead th {\n",
       "        text-align: right;\n",
       "    }\n",
       "</style>\n",
       "<table border=\"1\" class=\"dataframe\">\n",
       "  <thead>\n",
       "    <tr style=\"text-align: right;\">\n",
       "      <th></th>\n",
       "      <th></th>\n",
       "      <th>A</th>\n",
       "      <th>B</th>\n",
       "      <th>C</th>\n",
       "    </tr>\n",
       "  </thead>\n",
       "  <tbody>\n",
       "    <tr>\n",
       "      <th rowspan=\"3\" valign=\"top\">G1</th>\n",
       "      <th>1</th>\n",
       "      <td>-0.568581</td>\n",
       "      <td>1.407338</td>\n",
       "      <td>0.641806</td>\n",
       "    </tr>\n",
       "    <tr>\n",
       "      <th>2</th>\n",
       "      <td>-0.905100</td>\n",
       "      <td>-0.391157</td>\n",
       "      <td>1.028293</td>\n",
       "    </tr>\n",
       "    <tr>\n",
       "      <th>3</th>\n",
       "      <td>-1.972605</td>\n",
       "      <td>-0.866885</td>\n",
       "      <td>0.720788</td>\n",
       "    </tr>\n",
       "    <tr>\n",
       "      <th rowspan=\"3\" valign=\"top\">G2</th>\n",
       "      <th>1</th>\n",
       "      <td>-1.223082</td>\n",
       "      <td>1.606780</td>\n",
       "      <td>-1.115710</td>\n",
       "    </tr>\n",
       "    <tr>\n",
       "      <th>2</th>\n",
       "      <td>-1.385379</td>\n",
       "      <td>-1.329660</td>\n",
       "      <td>0.041460</td>\n",
       "    </tr>\n",
       "    <tr>\n",
       "      <th>3</th>\n",
       "      <td>-0.411055</td>\n",
       "      <td>-0.771329</td>\n",
       "      <td>0.110477</td>\n",
       "    </tr>\n",
       "  </tbody>\n",
       "</table>\n",
       "</div>"
      ],
      "text/plain": [
       "             A         B         C\n",
       "G1 1 -0.568581  1.407338  0.641806\n",
       "   2 -0.905100 -0.391157  1.028293\n",
       "   3 -1.972605 -0.866885  0.720788\n",
       "G2 1 -1.223082  1.606780 -1.115710\n",
       "   2 -1.385379 -1.329660  0.041460\n",
       "   3 -0.411055 -0.771329  0.110477"
      ]
     },
     "execution_count": 94,
     "metadata": {},
     "output_type": "execute_result"
    }
   ],
   "source": [
    "multi_level_df"
   ]
  },
  {
   "cell_type": "code",
   "execution_count": 95,
   "id": "a1e6c4ec",
   "metadata": {},
   "outputs": [],
   "source": [
    "# Grabing"
   ]
  },
  {
   "cell_type": "code",
   "execution_count": 96,
   "id": "d8ba1dff",
   "metadata": {},
   "outputs": [
    {
     "data": {
      "text/plain": [
       "-0.5685813606701186"
      ]
     },
     "execution_count": 96,
     "metadata": {},
     "output_type": "execute_result"
    }
   ],
   "source": [
    "multi_level_df.loc['G1'].loc[1][\"A\"]"
   ]
  },
  {
   "cell_type": "code",
   "execution_count": 97,
   "id": "13892d70",
   "metadata": {},
   "outputs": [],
   "source": [
    "if multi_level_df.loc['G1'].loc[1][\"A\"] > 0 :\n",
    "    print(multi_level_df)\n",
    "    print(\"\\n\\nData Frame is big\")"
   ]
  },
  {
   "cell_type": "code",
   "execution_count": 98,
   "id": "09eacc46",
   "metadata": {},
   "outputs": [
    {
     "data": {
      "text/plain": [
       "FrozenList([None, None])"
      ]
     },
     "execution_count": 98,
     "metadata": {},
     "output_type": "execute_result"
    }
   ],
   "source": [
    "multi_level_df.index.names"
   ]
  },
  {
   "cell_type": "code",
   "execution_count": 99,
   "id": "c7fab9d2",
   "metadata": {},
   "outputs": [],
   "source": [
    "multi_level_df.index.names = [\"Groups\",\"Section\"]"
   ]
  },
  {
   "cell_type": "code",
   "execution_count": 100,
   "id": "4975543d",
   "metadata": {},
   "outputs": [
    {
     "data": {
      "text/html": [
       "<div>\n",
       "<style scoped>\n",
       "    .dataframe tbody tr th:only-of-type {\n",
       "        vertical-align: middle;\n",
       "    }\n",
       "\n",
       "    .dataframe tbody tr th {\n",
       "        vertical-align: top;\n",
       "    }\n",
       "\n",
       "    .dataframe thead th {\n",
       "        text-align: right;\n",
       "    }\n",
       "</style>\n",
       "<table border=\"1\" class=\"dataframe\">\n",
       "  <thead>\n",
       "    <tr style=\"text-align: right;\">\n",
       "      <th></th>\n",
       "      <th></th>\n",
       "      <th>A</th>\n",
       "      <th>B</th>\n",
       "      <th>C</th>\n",
       "    </tr>\n",
       "    <tr>\n",
       "      <th>Groups</th>\n",
       "      <th>Section</th>\n",
       "      <th></th>\n",
       "      <th></th>\n",
       "      <th></th>\n",
       "    </tr>\n",
       "  </thead>\n",
       "  <tbody>\n",
       "    <tr>\n",
       "      <th rowspan=\"3\" valign=\"top\">G1</th>\n",
       "      <th>1</th>\n",
       "      <td>-0.568581</td>\n",
       "      <td>1.407338</td>\n",
       "      <td>0.641806</td>\n",
       "    </tr>\n",
       "    <tr>\n",
       "      <th>2</th>\n",
       "      <td>-0.905100</td>\n",
       "      <td>-0.391157</td>\n",
       "      <td>1.028293</td>\n",
       "    </tr>\n",
       "    <tr>\n",
       "      <th>3</th>\n",
       "      <td>-1.972605</td>\n",
       "      <td>-0.866885</td>\n",
       "      <td>0.720788</td>\n",
       "    </tr>\n",
       "    <tr>\n",
       "      <th rowspan=\"3\" valign=\"top\">G2</th>\n",
       "      <th>1</th>\n",
       "      <td>-1.223082</td>\n",
       "      <td>1.606780</td>\n",
       "      <td>-1.115710</td>\n",
       "    </tr>\n",
       "    <tr>\n",
       "      <th>2</th>\n",
       "      <td>-1.385379</td>\n",
       "      <td>-1.329660</td>\n",
       "      <td>0.041460</td>\n",
       "    </tr>\n",
       "    <tr>\n",
       "      <th>3</th>\n",
       "      <td>-0.411055</td>\n",
       "      <td>-0.771329</td>\n",
       "      <td>0.110477</td>\n",
       "    </tr>\n",
       "  </tbody>\n",
       "</table>\n",
       "</div>"
      ],
      "text/plain": [
       "                       A         B         C\n",
       "Groups Section                              \n",
       "G1     1       -0.568581  1.407338  0.641806\n",
       "       2       -0.905100 -0.391157  1.028293\n",
       "       3       -1.972605 -0.866885  0.720788\n",
       "G2     1       -1.223082  1.606780 -1.115710\n",
       "       2       -1.385379 -1.329660  0.041460\n",
       "       3       -0.411055 -0.771329  0.110477"
      ]
     },
     "execution_count": 100,
     "metadata": {},
     "output_type": "execute_result"
    }
   ],
   "source": [
    "multi_level_df"
   ]
  },
  {
   "cell_type": "code",
   "execution_count": 101,
   "id": "660e27ea",
   "metadata": {},
   "outputs": [],
   "source": [
    "#multi_level_df.xs('G1',1)"
   ]
  },
  {
   "cell_type": "code",
   "execution_count": 102,
   "id": "eefd3075",
   "metadata": {},
   "outputs": [
    {
     "data": {
      "text/html": [
       "<div>\n",
       "<style scoped>\n",
       "    .dataframe tbody tr th:only-of-type {\n",
       "        vertical-align: middle;\n",
       "    }\n",
       "\n",
       "    .dataframe tbody tr th {\n",
       "        vertical-align: top;\n",
       "    }\n",
       "\n",
       "    .dataframe thead th {\n",
       "        text-align: right;\n",
       "    }\n",
       "</style>\n",
       "<table border=\"1\" class=\"dataframe\">\n",
       "  <thead>\n",
       "    <tr style=\"text-align: right;\">\n",
       "      <th></th>\n",
       "      <th>A</th>\n",
       "      <th>B</th>\n",
       "      <th>C</th>\n",
       "    </tr>\n",
       "    <tr>\n",
       "      <th>Groups</th>\n",
       "      <th></th>\n",
       "      <th></th>\n",
       "      <th></th>\n",
       "    </tr>\n",
       "  </thead>\n",
       "  <tbody>\n",
       "    <tr>\n",
       "      <th>G1</th>\n",
       "      <td>-0.568581</td>\n",
       "      <td>1.407338</td>\n",
       "      <td>0.641806</td>\n",
       "    </tr>\n",
       "    <tr>\n",
       "      <th>G2</th>\n",
       "      <td>-1.223082</td>\n",
       "      <td>1.606780</td>\n",
       "      <td>-1.115710</td>\n",
       "    </tr>\n",
       "  </tbody>\n",
       "</table>\n",
       "</div>"
      ],
      "text/plain": [
       "               A         B         C\n",
       "Groups                              \n",
       "G1     -0.568581  1.407338  0.641806\n",
       "G2     -1.223082  1.606780 -1.115710"
      ]
     },
     "execution_count": 102,
     "metadata": {},
     "output_type": "execute_result"
    }
   ],
   "source": [
    "multi_level_df.xs(1,level='Section')"
   ]
  },
  {
   "cell_type": "code",
   "execution_count": 103,
   "id": "84ad46f5",
   "metadata": {},
   "outputs": [
    {
     "data": {
      "text/html": [
       "<div>\n",
       "<style scoped>\n",
       "    .dataframe tbody tr th:only-of-type {\n",
       "        vertical-align: middle;\n",
       "    }\n",
       "\n",
       "    .dataframe tbody tr th {\n",
       "        vertical-align: top;\n",
       "    }\n",
       "\n",
       "    .dataframe thead th {\n",
       "        text-align: right;\n",
       "    }\n",
       "</style>\n",
       "<table border=\"1\" class=\"dataframe\">\n",
       "  <thead>\n",
       "    <tr style=\"text-align: right;\">\n",
       "      <th></th>\n",
       "      <th>A</th>\n",
       "      <th>B</th>\n",
       "      <th>C</th>\n",
       "    </tr>\n",
       "    <tr>\n",
       "      <th>Groups</th>\n",
       "      <th></th>\n",
       "      <th></th>\n",
       "      <th></th>\n",
       "    </tr>\n",
       "  </thead>\n",
       "  <tbody>\n",
       "    <tr>\n",
       "      <th>G1</th>\n",
       "      <td>-0.905100</td>\n",
       "      <td>-0.391157</td>\n",
       "      <td>1.028293</td>\n",
       "    </tr>\n",
       "    <tr>\n",
       "      <th>G2</th>\n",
       "      <td>-1.385379</td>\n",
       "      <td>-1.329660</td>\n",
       "      <td>0.041460</td>\n",
       "    </tr>\n",
       "  </tbody>\n",
       "</table>\n",
       "</div>"
      ],
      "text/plain": [
       "               A         B         C\n",
       "Groups                              \n",
       "G1     -0.905100 -0.391157  1.028293\n",
       "G2     -1.385379 -1.329660  0.041460"
      ]
     },
     "execution_count": 103,
     "metadata": {},
     "output_type": "execute_result"
    }
   ],
   "source": [
    "multi_level_df.xs(2,level='Section')"
   ]
  },
  {
   "cell_type": "code",
   "execution_count": 104,
   "id": "54679a89",
   "metadata": {},
   "outputs": [],
   "source": [
    "# Missing Data "
   ]
  },
  {
   "cell_type": "code",
   "execution_count": 105,
   "id": "df04dca3",
   "metadata": {},
   "outputs": [],
   "source": [
    "nil = np.nan"
   ]
  },
  {
   "cell_type": "code",
   "execution_count": 106,
   "id": "9ef8c68b",
   "metadata": {},
   "outputs": [
    {
     "name": "stdout",
     "output_type": "stream",
     "text": [
      "{'A': [1, 2, 3, 4, nan, 6], 'B': [nan, 8, 9, nan, 11, 12], 'C': [13, 14, 15, nan, 17, nan], 'D': [19, 20, 21, 22, 23, 24]}\n"
     ]
    }
   ],
   "source": [
    "my_dict = {\n",
    "    'A': [1, 2, 3, 4, nil, 6],\n",
    "    'B': [nil, 8, 9, nil, 11, 12],\n",
    "    'C': [13, 14, 15, nil, 17, nil],\n",
    "    'D': [19, 20, 21, 22, 23, 24]\n",
    "}\n",
    "\n",
    "print(my_dict)\n"
   ]
  },
  {
   "cell_type": "code",
   "execution_count": 107,
   "id": "5bca2e8b",
   "metadata": {},
   "outputs": [],
   "source": [
    "missing_df = pd.DataFrame(my_dict)"
   ]
  },
  {
   "cell_type": "code",
   "execution_count": 108,
   "id": "6974848e",
   "metadata": {},
   "outputs": [
    {
     "data": {
      "text/html": [
       "<div>\n",
       "<style scoped>\n",
       "    .dataframe tbody tr th:only-of-type {\n",
       "        vertical-align: middle;\n",
       "    }\n",
       "\n",
       "    .dataframe tbody tr th {\n",
       "        vertical-align: top;\n",
       "    }\n",
       "\n",
       "    .dataframe thead th {\n",
       "        text-align: right;\n",
       "    }\n",
       "</style>\n",
       "<table border=\"1\" class=\"dataframe\">\n",
       "  <thead>\n",
       "    <tr style=\"text-align: right;\">\n",
       "      <th></th>\n",
       "      <th>A</th>\n",
       "      <th>B</th>\n",
       "      <th>C</th>\n",
       "      <th>D</th>\n",
       "    </tr>\n",
       "  </thead>\n",
       "  <tbody>\n",
       "    <tr>\n",
       "      <th>0</th>\n",
       "      <td>1.0</td>\n",
       "      <td>NaN</td>\n",
       "      <td>13.0</td>\n",
       "      <td>19</td>\n",
       "    </tr>\n",
       "    <tr>\n",
       "      <th>1</th>\n",
       "      <td>2.0</td>\n",
       "      <td>8.0</td>\n",
       "      <td>14.0</td>\n",
       "      <td>20</td>\n",
       "    </tr>\n",
       "    <tr>\n",
       "      <th>2</th>\n",
       "      <td>3.0</td>\n",
       "      <td>9.0</td>\n",
       "      <td>15.0</td>\n",
       "      <td>21</td>\n",
       "    </tr>\n",
       "    <tr>\n",
       "      <th>3</th>\n",
       "      <td>4.0</td>\n",
       "      <td>NaN</td>\n",
       "      <td>NaN</td>\n",
       "      <td>22</td>\n",
       "    </tr>\n",
       "    <tr>\n",
       "      <th>4</th>\n",
       "      <td>NaN</td>\n",
       "      <td>11.0</td>\n",
       "      <td>17.0</td>\n",
       "      <td>23</td>\n",
       "    </tr>\n",
       "    <tr>\n",
       "      <th>5</th>\n",
       "      <td>6.0</td>\n",
       "      <td>12.0</td>\n",
       "      <td>NaN</td>\n",
       "      <td>24</td>\n",
       "    </tr>\n",
       "  </tbody>\n",
       "</table>\n",
       "</div>"
      ],
      "text/plain": [
       "     A     B     C   D\n",
       "0  1.0   NaN  13.0  19\n",
       "1  2.0   8.0  14.0  20\n",
       "2  3.0   9.0  15.0  21\n",
       "3  4.0   NaN   NaN  22\n",
       "4  NaN  11.0  17.0  23\n",
       "5  6.0  12.0   NaN  24"
      ]
     },
     "execution_count": 108,
     "metadata": {},
     "output_type": "execute_result"
    }
   ],
   "source": [
    "missing_df"
   ]
  },
  {
   "cell_type": "code",
   "execution_count": 109,
   "id": "8350323e",
   "metadata": {},
   "outputs": [
    {
     "data": {
      "text/html": [
       "<div>\n",
       "<style scoped>\n",
       "    .dataframe tbody tr th:only-of-type {\n",
       "        vertical-align: middle;\n",
       "    }\n",
       "\n",
       "    .dataframe tbody tr th {\n",
       "        vertical-align: top;\n",
       "    }\n",
       "\n",
       "    .dataframe thead th {\n",
       "        text-align: right;\n",
       "    }\n",
       "</style>\n",
       "<table border=\"1\" class=\"dataframe\">\n",
       "  <thead>\n",
       "    <tr style=\"text-align: right;\">\n",
       "      <th></th>\n",
       "      <th>A</th>\n",
       "      <th>B</th>\n",
       "      <th>C</th>\n",
       "      <th>D</th>\n",
       "    </tr>\n",
       "  </thead>\n",
       "  <tbody>\n",
       "    <tr>\n",
       "      <th>1</th>\n",
       "      <td>2.0</td>\n",
       "      <td>8.0</td>\n",
       "      <td>14.0</td>\n",
       "      <td>20</td>\n",
       "    </tr>\n",
       "    <tr>\n",
       "      <th>2</th>\n",
       "      <td>3.0</td>\n",
       "      <td>9.0</td>\n",
       "      <td>15.0</td>\n",
       "      <td>21</td>\n",
       "    </tr>\n",
       "  </tbody>\n",
       "</table>\n",
       "</div>"
      ],
      "text/plain": [
       "     A    B     C   D\n",
       "1  2.0  8.0  14.0  20\n",
       "2  3.0  9.0  15.0  21"
      ]
     },
     "execution_count": 109,
     "metadata": {},
     "output_type": "execute_result"
    }
   ],
   "source": [
    "missing_df.dropna()"
   ]
  },
  {
   "cell_type": "code",
   "execution_count": 110,
   "id": "4fbf772b",
   "metadata": {},
   "outputs": [
    {
     "data": {
      "text/html": [
       "<div>\n",
       "<style scoped>\n",
       "    .dataframe tbody tr th:only-of-type {\n",
       "        vertical-align: middle;\n",
       "    }\n",
       "\n",
       "    .dataframe tbody tr th {\n",
       "        vertical-align: top;\n",
       "    }\n",
       "\n",
       "    .dataframe thead th {\n",
       "        text-align: right;\n",
       "    }\n",
       "</style>\n",
       "<table border=\"1\" class=\"dataframe\">\n",
       "  <thead>\n",
       "    <tr style=\"text-align: right;\">\n",
       "      <th></th>\n",
       "      <th>D</th>\n",
       "    </tr>\n",
       "  </thead>\n",
       "  <tbody>\n",
       "    <tr>\n",
       "      <th>0</th>\n",
       "      <td>19</td>\n",
       "    </tr>\n",
       "    <tr>\n",
       "      <th>1</th>\n",
       "      <td>20</td>\n",
       "    </tr>\n",
       "    <tr>\n",
       "      <th>2</th>\n",
       "      <td>21</td>\n",
       "    </tr>\n",
       "    <tr>\n",
       "      <th>3</th>\n",
       "      <td>22</td>\n",
       "    </tr>\n",
       "    <tr>\n",
       "      <th>4</th>\n",
       "      <td>23</td>\n",
       "    </tr>\n",
       "    <tr>\n",
       "      <th>5</th>\n",
       "      <td>24</td>\n",
       "    </tr>\n",
       "  </tbody>\n",
       "</table>\n",
       "</div>"
      ],
      "text/plain": [
       "    D\n",
       "0  19\n",
       "1  20\n",
       "2  21\n",
       "3  22\n",
       "4  23\n",
       "5  24"
      ]
     },
     "execution_count": 110,
     "metadata": {},
     "output_type": "execute_result"
    }
   ],
   "source": [
    "missing_df.dropna(axis = 1)"
   ]
  },
  {
   "cell_type": "code",
   "execution_count": 111,
   "id": "93e87f3f",
   "metadata": {},
   "outputs": [
    {
     "data": {
      "text/html": [
       "<div>\n",
       "<style scoped>\n",
       "    .dataframe tbody tr th:only-of-type {\n",
       "        vertical-align: middle;\n",
       "    }\n",
       "\n",
       "    .dataframe tbody tr th {\n",
       "        vertical-align: top;\n",
       "    }\n",
       "\n",
       "    .dataframe thead th {\n",
       "        text-align: right;\n",
       "    }\n",
       "</style>\n",
       "<table border=\"1\" class=\"dataframe\">\n",
       "  <thead>\n",
       "    <tr style=\"text-align: right;\">\n",
       "      <th></th>\n",
       "      <th>A</th>\n",
       "      <th>B</th>\n",
       "      <th>C</th>\n",
       "      <th>D</th>\n",
       "    </tr>\n",
       "  </thead>\n",
       "  <tbody>\n",
       "    <tr>\n",
       "      <th>0</th>\n",
       "      <td>1.0</td>\n",
       "      <td>NaN</td>\n",
       "      <td>13.0</td>\n",
       "      <td>19</td>\n",
       "    </tr>\n",
       "    <tr>\n",
       "      <th>1</th>\n",
       "      <td>2.0</td>\n",
       "      <td>8.0</td>\n",
       "      <td>14.0</td>\n",
       "      <td>20</td>\n",
       "    </tr>\n",
       "    <tr>\n",
       "      <th>2</th>\n",
       "      <td>3.0</td>\n",
       "      <td>9.0</td>\n",
       "      <td>15.0</td>\n",
       "      <td>21</td>\n",
       "    </tr>\n",
       "    <tr>\n",
       "      <th>4</th>\n",
       "      <td>NaN</td>\n",
       "      <td>11.0</td>\n",
       "      <td>17.0</td>\n",
       "      <td>23</td>\n",
       "    </tr>\n",
       "    <tr>\n",
       "      <th>5</th>\n",
       "      <td>6.0</td>\n",
       "      <td>12.0</td>\n",
       "      <td>NaN</td>\n",
       "      <td>24</td>\n",
       "    </tr>\n",
       "  </tbody>\n",
       "</table>\n",
       "</div>"
      ],
      "text/plain": [
       "     A     B     C   D\n",
       "0  1.0   NaN  13.0  19\n",
       "1  2.0   8.0  14.0  20\n",
       "2  3.0   9.0  15.0  21\n",
       "4  NaN  11.0  17.0  23\n",
       "5  6.0  12.0   NaN  24"
      ]
     },
     "execution_count": 111,
     "metadata": {},
     "output_type": "execute_result"
    }
   ],
   "source": [
    "missing_df.dropna(thresh= 3)"
   ]
  },
  {
   "cell_type": "code",
   "execution_count": 112,
   "id": "78b655e2",
   "metadata": {},
   "outputs": [
    {
     "data": {
      "text/html": [
       "<div>\n",
       "<style scoped>\n",
       "    .dataframe tbody tr th:only-of-type {\n",
       "        vertical-align: middle;\n",
       "    }\n",
       "\n",
       "    .dataframe tbody tr th {\n",
       "        vertical-align: top;\n",
       "    }\n",
       "\n",
       "    .dataframe thead th {\n",
       "        text-align: right;\n",
       "    }\n",
       "</style>\n",
       "<table border=\"1\" class=\"dataframe\">\n",
       "  <thead>\n",
       "    <tr style=\"text-align: right;\">\n",
       "      <th></th>\n",
       "      <th>A</th>\n",
       "      <th>B</th>\n",
       "      <th>C</th>\n",
       "      <th>D</th>\n",
       "    </tr>\n",
       "  </thead>\n",
       "  <tbody>\n",
       "    <tr>\n",
       "      <th>1</th>\n",
       "      <td>2.0</td>\n",
       "      <td>8.0</td>\n",
       "      <td>14.0</td>\n",
       "      <td>20</td>\n",
       "    </tr>\n",
       "    <tr>\n",
       "      <th>2</th>\n",
       "      <td>3.0</td>\n",
       "      <td>9.0</td>\n",
       "      <td>15.0</td>\n",
       "      <td>21</td>\n",
       "    </tr>\n",
       "  </tbody>\n",
       "</table>\n",
       "</div>"
      ],
      "text/plain": [
       "     A    B     C   D\n",
       "1  2.0  8.0  14.0  20\n",
       "2  3.0  9.0  15.0  21"
      ]
     },
     "execution_count": 112,
     "metadata": {},
     "output_type": "execute_result"
    }
   ],
   "source": [
    "missing_df.dropna(thresh= 4)"
   ]
  },
  {
   "cell_type": "code",
   "execution_count": 113,
   "id": "44fb3111",
   "metadata": {},
   "outputs": [
    {
     "data": {
      "text/html": [
       "<div>\n",
       "<style scoped>\n",
       "    .dataframe tbody tr th:only-of-type {\n",
       "        vertical-align: middle;\n",
       "    }\n",
       "\n",
       "    .dataframe tbody tr th {\n",
       "        vertical-align: top;\n",
       "    }\n",
       "\n",
       "    .dataframe thead th {\n",
       "        text-align: right;\n",
       "    }\n",
       "</style>\n",
       "<table border=\"1\" class=\"dataframe\">\n",
       "  <thead>\n",
       "    <tr style=\"text-align: right;\">\n",
       "      <th></th>\n",
       "      <th>A</th>\n",
       "      <th>B</th>\n",
       "      <th>C</th>\n",
       "      <th>D</th>\n",
       "    </tr>\n",
       "  </thead>\n",
       "  <tbody>\n",
       "    <tr>\n",
       "      <th>0</th>\n",
       "      <td>1.0</td>\n",
       "      <td>NaN</td>\n",
       "      <td>13.0</td>\n",
       "      <td>19</td>\n",
       "    </tr>\n",
       "    <tr>\n",
       "      <th>1</th>\n",
       "      <td>2.0</td>\n",
       "      <td>8.0</td>\n",
       "      <td>14.0</td>\n",
       "      <td>20</td>\n",
       "    </tr>\n",
       "    <tr>\n",
       "      <th>2</th>\n",
       "      <td>3.0</td>\n",
       "      <td>9.0</td>\n",
       "      <td>15.0</td>\n",
       "      <td>21</td>\n",
       "    </tr>\n",
       "    <tr>\n",
       "      <th>3</th>\n",
       "      <td>4.0</td>\n",
       "      <td>NaN</td>\n",
       "      <td>NaN</td>\n",
       "      <td>22</td>\n",
       "    </tr>\n",
       "    <tr>\n",
       "      <th>4</th>\n",
       "      <td>NaN</td>\n",
       "      <td>11.0</td>\n",
       "      <td>17.0</td>\n",
       "      <td>23</td>\n",
       "    </tr>\n",
       "    <tr>\n",
       "      <th>5</th>\n",
       "      <td>6.0</td>\n",
       "      <td>12.0</td>\n",
       "      <td>NaN</td>\n",
       "      <td>24</td>\n",
       "    </tr>\n",
       "  </tbody>\n",
       "</table>\n",
       "</div>"
      ],
      "text/plain": [
       "     A     B     C   D\n",
       "0  1.0   NaN  13.0  19\n",
       "1  2.0   8.0  14.0  20\n",
       "2  3.0   9.0  15.0  21\n",
       "3  4.0   NaN   NaN  22\n",
       "4  NaN  11.0  17.0  23\n",
       "5  6.0  12.0   NaN  24"
      ]
     },
     "execution_count": 113,
     "metadata": {},
     "output_type": "execute_result"
    }
   ],
   "source": [
    "missing_df"
   ]
  },
  {
   "cell_type": "code",
   "execution_count": 114,
   "id": "5e17389b",
   "metadata": {},
   "outputs": [],
   "source": [
    "# Groupby"
   ]
  },
  {
   "cell_type": "code",
   "execution_count": 115,
   "id": "5e592dbb",
   "metadata": {},
   "outputs": [],
   "source": [
    "import pandas as pd\n",
    "\n",
    "# Sample data (fictional population counts)\n",
    "data = {\n",
    "    'Country': ['USA', 'China', 'India', 'Brazil'],\n",
    "    '2022': [333000000, 1467000000, 1449000000, 216000000],\n",
    "    '2023': [335000000, 1478000000, 1467000000, 218000000],\n",
    "    '2024': [337000000, 1489000000, 1485000000, 220000000]\n",
    "}\n",
    "\n",
    "# Create DataFrame\n",
    "group_df = pd.DataFrame(data)\n",
    "\n",
    "# Set 'Country' column as index\n",
    "group_df.set_index('Country', inplace=True)\n",
    "\n",
    "#print(df)\n"
   ]
  },
  {
   "cell_type": "code",
   "execution_count": 116,
   "id": "a216a460",
   "metadata": {},
   "outputs": [
    {
     "data": {
      "text/html": [
       "<div>\n",
       "<style scoped>\n",
       "    .dataframe tbody tr th:only-of-type {\n",
       "        vertical-align: middle;\n",
       "    }\n",
       "\n",
       "    .dataframe tbody tr th {\n",
       "        vertical-align: top;\n",
       "    }\n",
       "\n",
       "    .dataframe thead th {\n",
       "        text-align: right;\n",
       "    }\n",
       "</style>\n",
       "<table border=\"1\" class=\"dataframe\">\n",
       "  <thead>\n",
       "    <tr style=\"text-align: right;\">\n",
       "      <th></th>\n",
       "      <th>2022</th>\n",
       "      <th>2023</th>\n",
       "      <th>2024</th>\n",
       "    </tr>\n",
       "    <tr>\n",
       "      <th>Country</th>\n",
       "      <th></th>\n",
       "      <th></th>\n",
       "      <th></th>\n",
       "    </tr>\n",
       "  </thead>\n",
       "  <tbody>\n",
       "    <tr>\n",
       "      <th>USA</th>\n",
       "      <td>333000000</td>\n",
       "      <td>335000000</td>\n",
       "      <td>337000000</td>\n",
       "    </tr>\n",
       "    <tr>\n",
       "      <th>China</th>\n",
       "      <td>1467000000</td>\n",
       "      <td>1478000000</td>\n",
       "      <td>1489000000</td>\n",
       "    </tr>\n",
       "    <tr>\n",
       "      <th>India</th>\n",
       "      <td>1449000000</td>\n",
       "      <td>1467000000</td>\n",
       "      <td>1485000000</td>\n",
       "    </tr>\n",
       "    <tr>\n",
       "      <th>Brazil</th>\n",
       "      <td>216000000</td>\n",
       "      <td>218000000</td>\n",
       "      <td>220000000</td>\n",
       "    </tr>\n",
       "  </tbody>\n",
       "</table>\n",
       "</div>"
      ],
      "text/plain": [
       "               2022        2023        2024\n",
       "Country                                    \n",
       "USA       333000000   335000000   337000000\n",
       "China    1467000000  1478000000  1489000000\n",
       "India    1449000000  1467000000  1485000000\n",
       "Brazil    216000000   218000000   220000000"
      ]
     },
     "execution_count": 116,
     "metadata": {},
     "output_type": "execute_result"
    }
   ],
   "source": [
    "group_df"
   ]
  },
  {
   "cell_type": "code",
   "execution_count": 117,
   "id": "705d5c37",
   "metadata": {},
   "outputs": [],
   "source": [
    "country_dat = group_df.groupby(\"Country\")"
   ]
  },
  {
   "cell_type": "code",
   "execution_count": 118,
   "id": "e70f4aa1",
   "metadata": {},
   "outputs": [
    {
     "data": {
      "text/plain": [
       "<pandas.core.groupby.generic.DataFrameGroupBy object at 0x0000027AF69BBB10>"
      ]
     },
     "execution_count": 118,
     "metadata": {},
     "output_type": "execute_result"
    }
   ],
   "source": [
    "country_dat"
   ]
  },
  {
   "cell_type": "code",
   "execution_count": 119,
   "id": "0db35902",
   "metadata": {},
   "outputs": [
    {
     "data": {
      "text/plain": [
       "2022    1.449000e+09\n",
       "2023    1.467000e+09\n",
       "2024    1.485000e+09\n",
       "Name: India, dtype: float64"
      ]
     },
     "execution_count": 119,
     "metadata": {},
     "output_type": "execute_result"
    }
   ],
   "source": [
    "country_dat.mean().loc[\"India\"]"
   ]
  },
  {
   "cell_type": "code",
   "execution_count": 120,
   "id": "38371ec5",
   "metadata": {},
   "outputs": [
    {
     "data": {
      "text/html": [
       "<div>\n",
       "<style scoped>\n",
       "    .dataframe tbody tr th:only-of-type {\n",
       "        vertical-align: middle;\n",
       "    }\n",
       "\n",
       "    .dataframe tbody tr th {\n",
       "        vertical-align: top;\n",
       "    }\n",
       "\n",
       "    .dataframe thead th {\n",
       "        text-align: right;\n",
       "    }\n",
       "</style>\n",
       "<table border=\"1\" class=\"dataframe\">\n",
       "  <thead>\n",
       "    <tr style=\"text-align: right;\">\n",
       "      <th></th>\n",
       "      <th>2022</th>\n",
       "      <th>2023</th>\n",
       "      <th>2024</th>\n",
       "    </tr>\n",
       "    <tr>\n",
       "      <th>Country</th>\n",
       "      <th></th>\n",
       "      <th></th>\n",
       "      <th></th>\n",
       "    </tr>\n",
       "  </thead>\n",
       "  <tbody>\n",
       "    <tr>\n",
       "      <th>Brazil</th>\n",
       "      <td>216000000</td>\n",
       "      <td>218000000</td>\n",
       "      <td>220000000</td>\n",
       "    </tr>\n",
       "    <tr>\n",
       "      <th>China</th>\n",
       "      <td>1467000000</td>\n",
       "      <td>1478000000</td>\n",
       "      <td>1489000000</td>\n",
       "    </tr>\n",
       "    <tr>\n",
       "      <th>India</th>\n",
       "      <td>1449000000</td>\n",
       "      <td>1467000000</td>\n",
       "      <td>1485000000</td>\n",
       "    </tr>\n",
       "    <tr>\n",
       "      <th>USA</th>\n",
       "      <td>333000000</td>\n",
       "      <td>335000000</td>\n",
       "      <td>337000000</td>\n",
       "    </tr>\n",
       "  </tbody>\n",
       "</table>\n",
       "</div>"
      ],
      "text/plain": [
       "               2022        2023        2024\n",
       "Country                                    \n",
       "Brazil    216000000   218000000   220000000\n",
       "China    1467000000  1478000000  1489000000\n",
       "India    1449000000  1467000000  1485000000\n",
       "USA       333000000   335000000   337000000"
      ]
     },
     "execution_count": 120,
     "metadata": {},
     "output_type": "execute_result"
    }
   ],
   "source": [
    "country_dat.min()"
   ]
  },
  {
   "cell_type": "code",
   "execution_count": 121,
   "id": "c8263087",
   "metadata": {},
   "outputs": [
    {
     "name": "stdout",
     "output_type": "stream",
     "text": [
      "Country\n",
      "Brazil     216000000\n",
      "China     1467000000\n",
      "India     1449000000\n",
      "USA        333000000\n",
      "Name: 2022, dtype: int64\n"
     ]
    },
    {
     "data": {
      "text/plain": [
       "Country\n",
       "Brazil     218000000\n",
       "China     1478000000\n",
       "India     1467000000\n",
       "USA        335000000\n",
       "Name: 2023, dtype: int64"
      ]
     },
     "execution_count": 121,
     "metadata": {},
     "output_type": "execute_result"
    }
   ],
   "source": [
    "print(country_dat.max()[\"2022\"])\n",
    "country_dat.max()[\"2023\"]"
   ]
  },
  {
   "cell_type": "code",
   "execution_count": 122,
   "id": "492c8eea",
   "metadata": {},
   "outputs": [
    {
     "data": {
      "text/html": [
       "<div>\n",
       "<style scoped>\n",
       "    .dataframe tbody tr th:only-of-type {\n",
       "        vertical-align: middle;\n",
       "    }\n",
       "\n",
       "    .dataframe tbody tr th {\n",
       "        vertical-align: top;\n",
       "    }\n",
       "\n",
       "    .dataframe thead th {\n",
       "        text-align: right;\n",
       "    }\n",
       "</style>\n",
       "<table border=\"1\" class=\"dataframe\">\n",
       "  <thead>\n",
       "    <tr style=\"text-align: right;\">\n",
       "      <th></th>\n",
       "      <th>2022</th>\n",
       "      <th>2023</th>\n",
       "      <th>2024</th>\n",
       "    </tr>\n",
       "    <tr>\n",
       "      <th>Country</th>\n",
       "      <th></th>\n",
       "      <th></th>\n",
       "      <th></th>\n",
       "    </tr>\n",
       "  </thead>\n",
       "  <tbody>\n",
       "    <tr>\n",
       "      <th>USA</th>\n",
       "      <td>333000000</td>\n",
       "      <td>335000000</td>\n",
       "      <td>337000000</td>\n",
       "    </tr>\n",
       "    <tr>\n",
       "      <th>China</th>\n",
       "      <td>1467000000</td>\n",
       "      <td>1478000000</td>\n",
       "      <td>1489000000</td>\n",
       "    </tr>\n",
       "    <tr>\n",
       "      <th>India</th>\n",
       "      <td>1449000000</td>\n",
       "      <td>1467000000</td>\n",
       "      <td>1485000000</td>\n",
       "    </tr>\n",
       "    <tr>\n",
       "      <th>Brazil</th>\n",
       "      <td>216000000</td>\n",
       "      <td>218000000</td>\n",
       "      <td>220000000</td>\n",
       "    </tr>\n",
       "  </tbody>\n",
       "</table>\n",
       "</div>"
      ],
      "text/plain": [
       "               2022        2023        2024\n",
       "Country                                    \n",
       "USA       333000000   335000000   337000000\n",
       "China    1467000000  1478000000  1489000000\n",
       "India    1449000000  1467000000  1485000000\n",
       "Brazil    216000000   218000000   220000000"
      ]
     },
     "execution_count": 122,
     "metadata": {},
     "output_type": "execute_result"
    }
   ],
   "source": [
    "group_df"
   ]
  },
  {
   "cell_type": "code",
   "execution_count": 123,
   "id": "b4a0ef66",
   "metadata": {},
   "outputs": [
    {
     "data": {
      "text/html": [
       "<div>\n",
       "<style scoped>\n",
       "    .dataframe tbody tr th:only-of-type {\n",
       "        vertical-align: middle;\n",
       "    }\n",
       "\n",
       "    .dataframe tbody tr th {\n",
       "        vertical-align: top;\n",
       "    }\n",
       "\n",
       "    .dataframe thead th {\n",
       "        text-align: right;\n",
       "    }\n",
       "</style>\n",
       "<table border=\"1\" class=\"dataframe\">\n",
       "  <thead>\n",
       "    <tr style=\"text-align: right;\">\n",
       "      <th></th>\n",
       "      <th>2022</th>\n",
       "      <th>2023</th>\n",
       "    </tr>\n",
       "    <tr>\n",
       "      <th>Country</th>\n",
       "      <th></th>\n",
       "      <th></th>\n",
       "    </tr>\n",
       "  </thead>\n",
       "  <tbody>\n",
       "    <tr>\n",
       "      <th>Brazil</th>\n",
       "      <td>2.160000e+08</td>\n",
       "      <td>2.180000e+08</td>\n",
       "    </tr>\n",
       "    <tr>\n",
       "      <th>China</th>\n",
       "      <td>1.467000e+09</td>\n",
       "      <td>1.478000e+09</td>\n",
       "    </tr>\n",
       "    <tr>\n",
       "      <th>India</th>\n",
       "      <td>1.449000e+09</td>\n",
       "      <td>1.467000e+09</td>\n",
       "    </tr>\n",
       "    <tr>\n",
       "      <th>USA</th>\n",
       "      <td>3.330000e+08</td>\n",
       "      <td>3.350000e+08</td>\n",
       "    </tr>\n",
       "  </tbody>\n",
       "</table>\n",
       "</div>"
      ],
      "text/plain": [
       "                 2022          2023\n",
       "Country                            \n",
       "Brazil   2.160000e+08  2.180000e+08\n",
       "China    1.467000e+09  1.478000e+09\n",
       "India    1.449000e+09  1.467000e+09\n",
       "USA      3.330000e+08  3.350000e+08"
      ]
     },
     "execution_count": 123,
     "metadata": {},
     "output_type": "execute_result"
    }
   ],
   "source": [
    "country_dat.mean()[[\"2022\",\"2023\"]]"
   ]
  },
  {
   "cell_type": "code",
   "execution_count": 124,
   "id": "7f1787a0",
   "metadata": {},
   "outputs": [],
   "source": [
    "# Real Data"
   ]
  },
  {
   "cell_type": "code",
   "execution_count": 125,
   "id": "12e4887a",
   "metadata": {},
   "outputs": [
    {
     "data": {
      "text/html": [
       "<div>\n",
       "<style scoped>\n",
       "    .dataframe tbody tr th:only-of-type {\n",
       "        vertical-align: middle;\n",
       "    }\n",
       "\n",
       "    .dataframe tbody tr th {\n",
       "        vertical-align: top;\n",
       "    }\n",
       "\n",
       "    .dataframe thead th {\n",
       "        text-align: right;\n",
       "    }\n",
       "</style>\n",
       "<table border=\"1\" class=\"dataframe\">\n",
       "  <thead>\n",
       "    <tr style=\"text-align: right;\">\n",
       "      <th></th>\n",
       "      <th>2010</th>\n",
       "      <th>2011</th>\n",
       "      <th>2012</th>\n",
       "      <th>2013</th>\n",
       "      <th>2014</th>\n",
       "      <th>2015</th>\n",
       "      <th>2016</th>\n",
       "      <th>2017</th>\n",
       "      <th>2018</th>\n",
       "      <th>2019</th>\n",
       "      <th>2020</th>\n",
       "      <th>2021</th>\n",
       "      <th>2022</th>\n",
       "      <th>2023</th>\n",
       "      <th>2024</th>\n",
       "    </tr>\n",
       "    <tr>\n",
       "      <th>Country</th>\n",
       "      <th></th>\n",
       "      <th></th>\n",
       "      <th></th>\n",
       "      <th></th>\n",
       "      <th></th>\n",
       "      <th></th>\n",
       "      <th></th>\n",
       "      <th></th>\n",
       "      <th></th>\n",
       "      <th></th>\n",
       "      <th></th>\n",
       "      <th></th>\n",
       "      <th></th>\n",
       "      <th></th>\n",
       "      <th></th>\n",
       "    </tr>\n",
       "  </thead>\n",
       "  <tbody>\n",
       "    <tr>\n",
       "      <th>USA</th>\n",
       "      <td>309000000</td>\n",
       "      <td>311000000</td>\n",
       "      <td>313000000</td>\n",
       "      <td>315000000</td>\n",
       "      <td>317000000</td>\n",
       "      <td>319000000</td>\n",
       "      <td>321000000</td>\n",
       "      <td>323000000</td>\n",
       "      <td>325000000</td>\n",
       "      <td>327000000</td>\n",
       "      <td>329000000</td>\n",
       "      <td>331000000</td>\n",
       "      <td>333000000</td>\n",
       "      <td>335000000</td>\n",
       "      <td>337000000</td>\n",
       "    </tr>\n",
       "    <tr>\n",
       "      <th>China</th>\n",
       "      <td>1334000000</td>\n",
       "      <td>1347000000</td>\n",
       "      <td>1355000000</td>\n",
       "      <td>1368000000</td>\n",
       "      <td>1380000000</td>\n",
       "      <td>1390000000</td>\n",
       "      <td>1401000000</td>\n",
       "      <td>1412000000</td>\n",
       "      <td>1423000000</td>\n",
       "      <td>1434000000</td>\n",
       "      <td>1445000000</td>\n",
       "      <td>1456000000</td>\n",
       "      <td>1467000000</td>\n",
       "      <td>1478000000</td>\n",
       "      <td>1489000000</td>\n",
       "    </tr>\n",
       "    <tr>\n",
       "      <th>India</th>\n",
       "      <td>1234000000</td>\n",
       "      <td>1252000000</td>\n",
       "      <td>1269000000</td>\n",
       "      <td>1287000000</td>\n",
       "      <td>1305000000</td>\n",
       "      <td>1323000000</td>\n",
       "      <td>1341000000</td>\n",
       "      <td>1359000000</td>\n",
       "      <td>1377000000</td>\n",
       "      <td>1395000000</td>\n",
       "      <td>1413000000</td>\n",
       "      <td>1431000000</td>\n",
       "      <td>1449000000</td>\n",
       "      <td>1467000000</td>\n",
       "      <td>1485000000</td>\n",
       "    </tr>\n",
       "    <tr>\n",
       "      <th>Brazil</th>\n",
       "      <td>192000000</td>\n",
       "      <td>194000000</td>\n",
       "      <td>196000000</td>\n",
       "      <td>198000000</td>\n",
       "      <td>200000000</td>\n",
       "      <td>202000000</td>\n",
       "      <td>204000000</td>\n",
       "      <td>206000000</td>\n",
       "      <td>208000000</td>\n",
       "      <td>210000000</td>\n",
       "      <td>212000000</td>\n",
       "      <td>214000000</td>\n",
       "      <td>216000000</td>\n",
       "      <td>218000000</td>\n",
       "      <td>220000000</td>\n",
       "    </tr>\n",
       "  </tbody>\n",
       "</table>\n",
       "</div>"
      ],
      "text/plain": [
       "               2010        2011        2012        2013        2014  \\\n",
       "Country                                                               \n",
       "USA       309000000   311000000   313000000   315000000   317000000   \n",
       "China    1334000000  1347000000  1355000000  1368000000  1380000000   \n",
       "India    1234000000  1252000000  1269000000  1287000000  1305000000   \n",
       "Brazil    192000000   194000000   196000000   198000000   200000000   \n",
       "\n",
       "               2015        2016        2017        2018        2019  \\\n",
       "Country                                                               \n",
       "USA       319000000   321000000   323000000   325000000   327000000   \n",
       "China    1390000000  1401000000  1412000000  1423000000  1434000000   \n",
       "India    1323000000  1341000000  1359000000  1377000000  1395000000   \n",
       "Brazil    202000000   204000000   206000000   208000000   210000000   \n",
       "\n",
       "               2020        2021        2022        2023        2024  \n",
       "Country                                                              \n",
       "USA       329000000   331000000   333000000   335000000   337000000  \n",
       "China    1445000000  1456000000  1467000000  1478000000  1489000000  \n",
       "India    1413000000  1431000000  1449000000  1467000000  1485000000  \n",
       "Brazil    212000000   214000000   216000000   218000000   220000000  "
      ]
     },
     "execution_count": 125,
     "metadata": {},
     "output_type": "execute_result"
    }
   ],
   "source": [
    "import pandas as pd\n",
    "\n",
    "# Sample data (fictional population counts)\n",
    "data = {\n",
    "    'Country': ['USA', 'China', 'India', 'Brazil'],\n",
    "    '2010': [309000000, 1334000000, 1234000000, 192000000],\n",
    "    '2011': [311000000, 1347000000, 1252000000, 194000000],\n",
    "    '2012': [313000000, 1355000000, 1269000000, 196000000],\n",
    "    '2013': [315000000, 1368000000, 1287000000, 198000000],\n",
    "    '2014': [317000000, 1380000000, 1305000000, 200000000],\n",
    "    '2015': [319000000, 1390000000, 1323000000, 202000000],\n",
    "    '2016': [321000000, 1401000000, 1341000000, 204000000],\n",
    "    '2017': [323000000, 1412000000, 1359000000, 206000000],\n",
    "    '2018': [325000000, 1423000000, 1377000000, 208000000],\n",
    "    '2019': [327000000, 1434000000, 1395000000, 210000000],\n",
    "    '2020': [329000000, 1445000000, 1413000000, 212000000],\n",
    "    '2021': [331000000, 1456000000, 1431000000, 214000000],\n",
    "    '2022': [333000000, 1467000000, 1449000000, 216000000],\n",
    "    '2023': [335000000, 1478000000, 1467000000, 218000000],\n",
    "    '2024': [337000000, 1489000000, 1485000000, 220000000]\n",
    "}\n",
    "\n",
    "# Create DataFrame\n",
    "group_df_full = pd.DataFrame(data)\n",
    "\n",
    "# Set 'Country' column as index\n",
    "group_df_full.set_index('Country', inplace=True)\n",
    "\n",
    "group_df_full\n"
   ]
  },
  {
   "cell_type": "code",
   "execution_count": 126,
   "id": "fad435bf",
   "metadata": {},
   "outputs": [],
   "source": [
    "country_dat_full = group_df_full.groupby(\"Country\")"
   ]
  },
  {
   "cell_type": "code",
   "execution_count": 127,
   "id": "56372263",
   "metadata": {},
   "outputs": [
    {
     "data": {
      "text/html": [
       "<div>\n",
       "<style scoped>\n",
       "    .dataframe tbody tr th:only-of-type {\n",
       "        vertical-align: middle;\n",
       "    }\n",
       "\n",
       "    .dataframe tbody tr th {\n",
       "        vertical-align: top;\n",
       "    }\n",
       "\n",
       "    .dataframe thead th {\n",
       "        text-align: right;\n",
       "    }\n",
       "</style>\n",
       "<table border=\"1\" class=\"dataframe\">\n",
       "  <thead>\n",
       "    <tr style=\"text-align: right;\">\n",
       "      <th>Country</th>\n",
       "      <th>Brazil</th>\n",
       "      <th>China</th>\n",
       "      <th>India</th>\n",
       "      <th>USA</th>\n",
       "    </tr>\n",
       "  </thead>\n",
       "  <tbody>\n",
       "    <tr>\n",
       "      <th>2020</th>\n",
       "      <td>212000000</td>\n",
       "      <td>1445000000</td>\n",
       "      <td>1413000000</td>\n",
       "      <td>329000000</td>\n",
       "    </tr>\n",
       "    <tr>\n",
       "      <th>2018</th>\n",
       "      <td>208000000</td>\n",
       "      <td>1423000000</td>\n",
       "      <td>1377000000</td>\n",
       "      <td>325000000</td>\n",
       "    </tr>\n",
       "    <tr>\n",
       "      <th>2012</th>\n",
       "      <td>196000000</td>\n",
       "      <td>1355000000</td>\n",
       "      <td>1269000000</td>\n",
       "      <td>313000000</td>\n",
       "    </tr>\n",
       "  </tbody>\n",
       "</table>\n",
       "</div>"
      ],
      "text/plain": [
       "Country     Brazil       China       India        USA\n",
       "2020     212000000  1445000000  1413000000  329000000\n",
       "2018     208000000  1423000000  1377000000  325000000\n",
       "2012     196000000  1355000000  1269000000  313000000"
      ]
     },
     "execution_count": 127,
     "metadata": {},
     "output_type": "execute_result"
    }
   ],
   "source": [
    "country_dat_full.sum()[[\"2020\",\"2018\",\"2012\"]].transpose()"
   ]
  },
  {
   "cell_type": "code",
   "execution_count": 128,
   "id": "86e7697f",
   "metadata": {},
   "outputs": [],
   "source": [
    "year_df = group_df_full.transpose()"
   ]
  },
  {
   "cell_type": "code",
   "execution_count": 129,
   "id": "a3baaf08",
   "metadata": {},
   "outputs": [
    {
     "data": {
      "text/plain": [
       "Country\n",
       "India    20387000000\n",
       "USA       4845000000\n",
       "dtype: int64"
      ]
     },
     "execution_count": 129,
     "metadata": {},
     "output_type": "execute_result"
    }
   ],
   "source": [
    "year_df.sum()[[\"India\",\"USA\"]]"
   ]
  },
  {
   "cell_type": "code",
   "execution_count": 130,
   "id": "5dcc9231",
   "metadata": {},
   "outputs": [
    {
     "data": {
      "text/html": [
       "<div>\n",
       "<style scoped>\n",
       "    .dataframe tbody tr th:only-of-type {\n",
       "        vertical-align: middle;\n",
       "    }\n",
       "\n",
       "    .dataframe tbody tr th {\n",
       "        vertical-align: top;\n",
       "    }\n",
       "\n",
       "    .dataframe thead tr th {\n",
       "        text-align: left;\n",
       "    }\n",
       "\n",
       "    .dataframe thead tr:last-of-type th {\n",
       "        text-align: right;\n",
       "    }\n",
       "</style>\n",
       "<table border=\"1\" class=\"dataframe\">\n",
       "  <thead>\n",
       "    <tr>\n",
       "      <th></th>\n",
       "      <th colspan=\"8\" halign=\"left\">2010</th>\n",
       "      <th colspan=\"2\" halign=\"left\">2011</th>\n",
       "      <th>...</th>\n",
       "      <th colspan=\"2\" halign=\"left\">2023</th>\n",
       "      <th colspan=\"8\" halign=\"left\">2024</th>\n",
       "    </tr>\n",
       "    <tr>\n",
       "      <th></th>\n",
       "      <th>count</th>\n",
       "      <th>mean</th>\n",
       "      <th>std</th>\n",
       "      <th>min</th>\n",
       "      <th>25%</th>\n",
       "      <th>50%</th>\n",
       "      <th>75%</th>\n",
       "      <th>max</th>\n",
       "      <th>count</th>\n",
       "      <th>mean</th>\n",
       "      <th>...</th>\n",
       "      <th>75%</th>\n",
       "      <th>max</th>\n",
       "      <th>count</th>\n",
       "      <th>mean</th>\n",
       "      <th>std</th>\n",
       "      <th>min</th>\n",
       "      <th>25%</th>\n",
       "      <th>50%</th>\n",
       "      <th>75%</th>\n",
       "      <th>max</th>\n",
       "    </tr>\n",
       "    <tr>\n",
       "      <th>Country</th>\n",
       "      <th></th>\n",
       "      <th></th>\n",
       "      <th></th>\n",
       "      <th></th>\n",
       "      <th></th>\n",
       "      <th></th>\n",
       "      <th></th>\n",
       "      <th></th>\n",
       "      <th></th>\n",
       "      <th></th>\n",
       "      <th></th>\n",
       "      <th></th>\n",
       "      <th></th>\n",
       "      <th></th>\n",
       "      <th></th>\n",
       "      <th></th>\n",
       "      <th></th>\n",
       "      <th></th>\n",
       "      <th></th>\n",
       "      <th></th>\n",
       "      <th></th>\n",
       "    </tr>\n",
       "  </thead>\n",
       "  <tbody>\n",
       "    <tr>\n",
       "      <th>Brazil</th>\n",
       "      <td>1.0</td>\n",
       "      <td>1.920000e+08</td>\n",
       "      <td>NaN</td>\n",
       "      <td>1.920000e+08</td>\n",
       "      <td>1.920000e+08</td>\n",
       "      <td>1.920000e+08</td>\n",
       "      <td>1.920000e+08</td>\n",
       "      <td>1.920000e+08</td>\n",
       "      <td>1.0</td>\n",
       "      <td>1.940000e+08</td>\n",
       "      <td>...</td>\n",
       "      <td>2.180000e+08</td>\n",
       "      <td>2.180000e+08</td>\n",
       "      <td>1.0</td>\n",
       "      <td>2.200000e+08</td>\n",
       "      <td>NaN</td>\n",
       "      <td>2.200000e+08</td>\n",
       "      <td>2.200000e+08</td>\n",
       "      <td>2.200000e+08</td>\n",
       "      <td>2.200000e+08</td>\n",
       "      <td>2.200000e+08</td>\n",
       "    </tr>\n",
       "    <tr>\n",
       "      <th>China</th>\n",
       "      <td>1.0</td>\n",
       "      <td>1.334000e+09</td>\n",
       "      <td>NaN</td>\n",
       "      <td>1.334000e+09</td>\n",
       "      <td>1.334000e+09</td>\n",
       "      <td>1.334000e+09</td>\n",
       "      <td>1.334000e+09</td>\n",
       "      <td>1.334000e+09</td>\n",
       "      <td>1.0</td>\n",
       "      <td>1.347000e+09</td>\n",
       "      <td>...</td>\n",
       "      <td>1.478000e+09</td>\n",
       "      <td>1.478000e+09</td>\n",
       "      <td>1.0</td>\n",
       "      <td>1.489000e+09</td>\n",
       "      <td>NaN</td>\n",
       "      <td>1.489000e+09</td>\n",
       "      <td>1.489000e+09</td>\n",
       "      <td>1.489000e+09</td>\n",
       "      <td>1.489000e+09</td>\n",
       "      <td>1.489000e+09</td>\n",
       "    </tr>\n",
       "    <tr>\n",
       "      <th>India</th>\n",
       "      <td>1.0</td>\n",
       "      <td>1.234000e+09</td>\n",
       "      <td>NaN</td>\n",
       "      <td>1.234000e+09</td>\n",
       "      <td>1.234000e+09</td>\n",
       "      <td>1.234000e+09</td>\n",
       "      <td>1.234000e+09</td>\n",
       "      <td>1.234000e+09</td>\n",
       "      <td>1.0</td>\n",
       "      <td>1.252000e+09</td>\n",
       "      <td>...</td>\n",
       "      <td>1.467000e+09</td>\n",
       "      <td>1.467000e+09</td>\n",
       "      <td>1.0</td>\n",
       "      <td>1.485000e+09</td>\n",
       "      <td>NaN</td>\n",
       "      <td>1.485000e+09</td>\n",
       "      <td>1.485000e+09</td>\n",
       "      <td>1.485000e+09</td>\n",
       "      <td>1.485000e+09</td>\n",
       "      <td>1.485000e+09</td>\n",
       "    </tr>\n",
       "    <tr>\n",
       "      <th>USA</th>\n",
       "      <td>1.0</td>\n",
       "      <td>3.090000e+08</td>\n",
       "      <td>NaN</td>\n",
       "      <td>3.090000e+08</td>\n",
       "      <td>3.090000e+08</td>\n",
       "      <td>3.090000e+08</td>\n",
       "      <td>3.090000e+08</td>\n",
       "      <td>3.090000e+08</td>\n",
       "      <td>1.0</td>\n",
       "      <td>3.110000e+08</td>\n",
       "      <td>...</td>\n",
       "      <td>3.350000e+08</td>\n",
       "      <td>3.350000e+08</td>\n",
       "      <td>1.0</td>\n",
       "      <td>3.370000e+08</td>\n",
       "      <td>NaN</td>\n",
       "      <td>3.370000e+08</td>\n",
       "      <td>3.370000e+08</td>\n",
       "      <td>3.370000e+08</td>\n",
       "      <td>3.370000e+08</td>\n",
       "      <td>3.370000e+08</td>\n",
       "    </tr>\n",
       "  </tbody>\n",
       "</table>\n",
       "<p>4 rows × 120 columns</p>\n",
       "</div>"
      ],
      "text/plain": [
       "         2010                                                              \\\n",
       "        count          mean std           min           25%           50%   \n",
       "Country                                                                     \n",
       "Brazil    1.0  1.920000e+08 NaN  1.920000e+08  1.920000e+08  1.920000e+08   \n",
       "China     1.0  1.334000e+09 NaN  1.334000e+09  1.334000e+09  1.334000e+09   \n",
       "India     1.0  1.234000e+09 NaN  1.234000e+09  1.234000e+09  1.234000e+09   \n",
       "USA       1.0  3.090000e+08 NaN  3.090000e+08  3.090000e+08  3.090000e+08   \n",
       "\n",
       "                                     2011                ...          2023  \\\n",
       "                  75%           max count          mean  ...           75%   \n",
       "Country                                                  ...                 \n",
       "Brazil   1.920000e+08  1.920000e+08   1.0  1.940000e+08  ...  2.180000e+08   \n",
       "China    1.334000e+09  1.334000e+09   1.0  1.347000e+09  ...  1.478000e+09   \n",
       "India    1.234000e+09  1.234000e+09   1.0  1.252000e+09  ...  1.467000e+09   \n",
       "USA      3.090000e+08  3.090000e+08   1.0  3.110000e+08  ...  3.350000e+08   \n",
       "\n",
       "                       2024                                                \\\n",
       "                  max count          mean std           min           25%   \n",
       "Country                                                                     \n",
       "Brazil   2.180000e+08   1.0  2.200000e+08 NaN  2.200000e+08  2.200000e+08   \n",
       "China    1.478000e+09   1.0  1.489000e+09 NaN  1.489000e+09  1.489000e+09   \n",
       "India    1.467000e+09   1.0  1.485000e+09 NaN  1.485000e+09  1.485000e+09   \n",
       "USA      3.350000e+08   1.0  3.370000e+08 NaN  3.370000e+08  3.370000e+08   \n",
       "\n",
       "                                                   \n",
       "                  50%           75%           max  \n",
       "Country                                            \n",
       "Brazil   2.200000e+08  2.200000e+08  2.200000e+08  \n",
       "China    1.489000e+09  1.489000e+09  1.489000e+09  \n",
       "India    1.485000e+09  1.485000e+09  1.485000e+09  \n",
       "USA      3.370000e+08  3.370000e+08  3.370000e+08  \n",
       "\n",
       "[4 rows x 120 columns]"
      ]
     },
     "execution_count": 130,
     "metadata": {},
     "output_type": "execute_result"
    }
   ],
   "source": [
    "country_dat_full.describe()"
   ]
  },
  {
   "cell_type": "code",
   "execution_count": 131,
   "id": "4cd1995a",
   "metadata": {},
   "outputs": [
    {
     "data": {
      "text/html": [
       "<div>\n",
       "<style scoped>\n",
       "    .dataframe tbody tr th:only-of-type {\n",
       "        vertical-align: middle;\n",
       "    }\n",
       "\n",
       "    .dataframe tbody tr th {\n",
       "        vertical-align: top;\n",
       "    }\n",
       "\n",
       "    .dataframe thead th {\n",
       "        text-align: right;\n",
       "    }\n",
       "</style>\n",
       "<table border=\"1\" class=\"dataframe\">\n",
       "  <thead>\n",
       "    <tr style=\"text-align: right;\">\n",
       "      <th>Country</th>\n",
       "      <th>USA</th>\n",
       "      <th>China</th>\n",
       "      <th>India</th>\n",
       "      <th>Brazil</th>\n",
       "    </tr>\n",
       "  </thead>\n",
       "  <tbody>\n",
       "    <tr>\n",
       "      <th>count</th>\n",
       "      <td>1.500000e+01</td>\n",
       "      <td>1.500000e+01</td>\n",
       "      <td>1.500000e+01</td>\n",
       "      <td>1.500000e+01</td>\n",
       "    </tr>\n",
       "    <tr>\n",
       "      <th>mean</th>\n",
       "      <td>3.230000e+08</td>\n",
       "      <td>1.411933e+09</td>\n",
       "      <td>1.359133e+09</td>\n",
       "      <td>2.060000e+08</td>\n",
       "    </tr>\n",
       "    <tr>\n",
       "      <th>std</th>\n",
       "      <td>8.944272e+06</td>\n",
       "      <td>4.932613e+07</td>\n",
       "      <td>8.029131e+07</td>\n",
       "      <td>8.944272e+06</td>\n",
       "    </tr>\n",
       "    <tr>\n",
       "      <th>min</th>\n",
       "      <td>3.090000e+08</td>\n",
       "      <td>1.334000e+09</td>\n",
       "      <td>1.234000e+09</td>\n",
       "      <td>1.920000e+08</td>\n",
       "    </tr>\n",
       "    <tr>\n",
       "      <th>25%</th>\n",
       "      <td>3.160000e+08</td>\n",
       "      <td>1.374000e+09</td>\n",
       "      <td>1.296000e+09</td>\n",
       "      <td>1.990000e+08</td>\n",
       "    </tr>\n",
       "    <tr>\n",
       "      <th>50%</th>\n",
       "      <td>3.230000e+08</td>\n",
       "      <td>1.412000e+09</td>\n",
       "      <td>1.359000e+09</td>\n",
       "      <td>2.060000e+08</td>\n",
       "    </tr>\n",
       "    <tr>\n",
       "      <th>75%</th>\n",
       "      <td>3.300000e+08</td>\n",
       "      <td>1.450500e+09</td>\n",
       "      <td>1.422000e+09</td>\n",
       "      <td>2.130000e+08</td>\n",
       "    </tr>\n",
       "    <tr>\n",
       "      <th>max</th>\n",
       "      <td>3.370000e+08</td>\n",
       "      <td>1.489000e+09</td>\n",
       "      <td>1.485000e+09</td>\n",
       "      <td>2.200000e+08</td>\n",
       "    </tr>\n",
       "  </tbody>\n",
       "</table>\n",
       "</div>"
      ],
      "text/plain": [
       "Country           USA         China         India        Brazil\n",
       "count    1.500000e+01  1.500000e+01  1.500000e+01  1.500000e+01\n",
       "mean     3.230000e+08  1.411933e+09  1.359133e+09  2.060000e+08\n",
       "std      8.944272e+06  4.932613e+07  8.029131e+07  8.944272e+06\n",
       "min      3.090000e+08  1.334000e+09  1.234000e+09  1.920000e+08\n",
       "25%      3.160000e+08  1.374000e+09  1.296000e+09  1.990000e+08\n",
       "50%      3.230000e+08  1.412000e+09  1.359000e+09  2.060000e+08\n",
       "75%      3.300000e+08  1.450500e+09  1.422000e+09  2.130000e+08\n",
       "max      3.370000e+08  1.489000e+09  1.485000e+09  2.200000e+08"
      ]
     },
     "execution_count": 131,
     "metadata": {},
     "output_type": "execute_result"
    }
   ],
   "source": [
    "year_df.describe()"
   ]
  },
  {
   "cell_type": "code",
   "execution_count": 132,
   "id": "87bdf7ee",
   "metadata": {},
   "outputs": [],
   "source": [
    "#THalaiva"
   ]
  },
  {
   "cell_type": "code",
   "execution_count": 133,
   "id": "10529a0b",
   "metadata": {},
   "outputs": [],
   "source": [
    "#8--02--2024"
   ]
  },
  {
   "cell_type": "code",
   "execution_count": 134,
   "id": "5144b650",
   "metadata": {},
   "outputs": [],
   "source": [
    "import pandas as pd\n",
    "import numpy as np"
   ]
  },
  {
   "cell_type": "code",
   "execution_count": 135,
   "id": "4bf49d66",
   "metadata": {},
   "outputs": [],
   "source": [
    "import pandas as pd\n",
    "\n",
    "# Example DataFrames\n",
    "df1 = pd.DataFrame({'key': ['A', 'B', 'C', 'D'], 'value1': [1, 2, 3, 4]})\n",
    "df2 = pd.DataFrame({'key': ['B', 'C', 'D', 'E'], 'value2': [5, 6, 7, 8]})\n",
    "df3 = pd.DataFrame({'key': ['C', 'D', 'E', 'F'], 'value3': [9, 10, 11, 12]})\n",
    "\n",
    "# Concatenate DataFrames vertically\n",
    "df_concat = pd.concat([df1, df2, df3],ignore_index= True)\n"
   ]
  },
  {
   "cell_type": "code",
   "execution_count": 136,
   "id": "6ce512fe",
   "metadata": {},
   "outputs": [
    {
     "data": {
      "text/html": [
       "<div>\n",
       "<style scoped>\n",
       "    .dataframe tbody tr th:only-of-type {\n",
       "        vertical-align: middle;\n",
       "    }\n",
       "\n",
       "    .dataframe tbody tr th {\n",
       "        vertical-align: top;\n",
       "    }\n",
       "\n",
       "    .dataframe thead th {\n",
       "        text-align: right;\n",
       "    }\n",
       "</style>\n",
       "<table border=\"1\" class=\"dataframe\">\n",
       "  <thead>\n",
       "    <tr style=\"text-align: right;\">\n",
       "      <th></th>\n",
       "      <th>key</th>\n",
       "      <th>value1</th>\n",
       "      <th>value2</th>\n",
       "      <th>value3</th>\n",
       "    </tr>\n",
       "  </thead>\n",
       "  <tbody>\n",
       "    <tr>\n",
       "      <th>0</th>\n",
       "      <td>A</td>\n",
       "      <td>1.0</td>\n",
       "      <td>NaN</td>\n",
       "      <td>NaN</td>\n",
       "    </tr>\n",
       "    <tr>\n",
       "      <th>1</th>\n",
       "      <td>B</td>\n",
       "      <td>2.0</td>\n",
       "      <td>NaN</td>\n",
       "      <td>NaN</td>\n",
       "    </tr>\n",
       "    <tr>\n",
       "      <th>2</th>\n",
       "      <td>C</td>\n",
       "      <td>3.0</td>\n",
       "      <td>NaN</td>\n",
       "      <td>NaN</td>\n",
       "    </tr>\n",
       "    <tr>\n",
       "      <th>3</th>\n",
       "      <td>D</td>\n",
       "      <td>4.0</td>\n",
       "      <td>NaN</td>\n",
       "      <td>NaN</td>\n",
       "    </tr>\n",
       "    <tr>\n",
       "      <th>4</th>\n",
       "      <td>B</td>\n",
       "      <td>NaN</td>\n",
       "      <td>5.0</td>\n",
       "      <td>NaN</td>\n",
       "    </tr>\n",
       "    <tr>\n",
       "      <th>5</th>\n",
       "      <td>C</td>\n",
       "      <td>NaN</td>\n",
       "      <td>6.0</td>\n",
       "      <td>NaN</td>\n",
       "    </tr>\n",
       "    <tr>\n",
       "      <th>6</th>\n",
       "      <td>D</td>\n",
       "      <td>NaN</td>\n",
       "      <td>7.0</td>\n",
       "      <td>NaN</td>\n",
       "    </tr>\n",
       "    <tr>\n",
       "      <th>7</th>\n",
       "      <td>E</td>\n",
       "      <td>NaN</td>\n",
       "      <td>8.0</td>\n",
       "      <td>NaN</td>\n",
       "    </tr>\n",
       "    <tr>\n",
       "      <th>8</th>\n",
       "      <td>C</td>\n",
       "      <td>NaN</td>\n",
       "      <td>NaN</td>\n",
       "      <td>9.0</td>\n",
       "    </tr>\n",
       "    <tr>\n",
       "      <th>9</th>\n",
       "      <td>D</td>\n",
       "      <td>NaN</td>\n",
       "      <td>NaN</td>\n",
       "      <td>10.0</td>\n",
       "    </tr>\n",
       "    <tr>\n",
       "      <th>10</th>\n",
       "      <td>E</td>\n",
       "      <td>NaN</td>\n",
       "      <td>NaN</td>\n",
       "      <td>11.0</td>\n",
       "    </tr>\n",
       "    <tr>\n",
       "      <th>11</th>\n",
       "      <td>F</td>\n",
       "      <td>NaN</td>\n",
       "      <td>NaN</td>\n",
       "      <td>12.0</td>\n",
       "    </tr>\n",
       "  </tbody>\n",
       "</table>\n",
       "</div>"
      ],
      "text/plain": [
       "   key  value1  value2  value3\n",
       "0    A     1.0     NaN     NaN\n",
       "1    B     2.0     NaN     NaN\n",
       "2    C     3.0     NaN     NaN\n",
       "3    D     4.0     NaN     NaN\n",
       "4    B     NaN     5.0     NaN\n",
       "5    C     NaN     6.0     NaN\n",
       "6    D     NaN     7.0     NaN\n",
       "7    E     NaN     8.0     NaN\n",
       "8    C     NaN     NaN     9.0\n",
       "9    D     NaN     NaN    10.0\n",
       "10   E     NaN     NaN    11.0\n",
       "11   F     NaN     NaN    12.0"
      ]
     },
     "execution_count": 136,
     "metadata": {},
     "output_type": "execute_result"
    }
   ],
   "source": [
    "df_concat"
   ]
  },
  {
   "cell_type": "code",
   "execution_count": 137,
   "id": "e7cdbc94",
   "metadata": {},
   "outputs": [],
   "source": [
    "df_concat = pd.concat([df1, df2, df3],ignore_index= False)"
   ]
  },
  {
   "cell_type": "code",
   "execution_count": 138,
   "id": "988a120e",
   "metadata": {},
   "outputs": [
    {
     "data": {
      "text/html": [
       "<div>\n",
       "<style scoped>\n",
       "    .dataframe tbody tr th:only-of-type {\n",
       "        vertical-align: middle;\n",
       "    }\n",
       "\n",
       "    .dataframe tbody tr th {\n",
       "        vertical-align: top;\n",
       "    }\n",
       "\n",
       "    .dataframe thead th {\n",
       "        text-align: right;\n",
       "    }\n",
       "</style>\n",
       "<table border=\"1\" class=\"dataframe\">\n",
       "  <thead>\n",
       "    <tr style=\"text-align: right;\">\n",
       "      <th></th>\n",
       "      <th>key</th>\n",
       "      <th>value1</th>\n",
       "      <th>value2</th>\n",
       "      <th>value3</th>\n",
       "    </tr>\n",
       "  </thead>\n",
       "  <tbody>\n",
       "    <tr>\n",
       "      <th>0</th>\n",
       "      <td>A</td>\n",
       "      <td>1.0</td>\n",
       "      <td>NaN</td>\n",
       "      <td>NaN</td>\n",
       "    </tr>\n",
       "    <tr>\n",
       "      <th>1</th>\n",
       "      <td>B</td>\n",
       "      <td>2.0</td>\n",
       "      <td>NaN</td>\n",
       "      <td>NaN</td>\n",
       "    </tr>\n",
       "    <tr>\n",
       "      <th>2</th>\n",
       "      <td>C</td>\n",
       "      <td>3.0</td>\n",
       "      <td>NaN</td>\n",
       "      <td>NaN</td>\n",
       "    </tr>\n",
       "    <tr>\n",
       "      <th>3</th>\n",
       "      <td>D</td>\n",
       "      <td>4.0</td>\n",
       "      <td>NaN</td>\n",
       "      <td>NaN</td>\n",
       "    </tr>\n",
       "    <tr>\n",
       "      <th>0</th>\n",
       "      <td>B</td>\n",
       "      <td>NaN</td>\n",
       "      <td>5.0</td>\n",
       "      <td>NaN</td>\n",
       "    </tr>\n",
       "    <tr>\n",
       "      <th>1</th>\n",
       "      <td>C</td>\n",
       "      <td>NaN</td>\n",
       "      <td>6.0</td>\n",
       "      <td>NaN</td>\n",
       "    </tr>\n",
       "    <tr>\n",
       "      <th>2</th>\n",
       "      <td>D</td>\n",
       "      <td>NaN</td>\n",
       "      <td>7.0</td>\n",
       "      <td>NaN</td>\n",
       "    </tr>\n",
       "    <tr>\n",
       "      <th>3</th>\n",
       "      <td>E</td>\n",
       "      <td>NaN</td>\n",
       "      <td>8.0</td>\n",
       "      <td>NaN</td>\n",
       "    </tr>\n",
       "    <tr>\n",
       "      <th>0</th>\n",
       "      <td>C</td>\n",
       "      <td>NaN</td>\n",
       "      <td>NaN</td>\n",
       "      <td>9.0</td>\n",
       "    </tr>\n",
       "    <tr>\n",
       "      <th>1</th>\n",
       "      <td>D</td>\n",
       "      <td>NaN</td>\n",
       "      <td>NaN</td>\n",
       "      <td>10.0</td>\n",
       "    </tr>\n",
       "    <tr>\n",
       "      <th>2</th>\n",
       "      <td>E</td>\n",
       "      <td>NaN</td>\n",
       "      <td>NaN</td>\n",
       "      <td>11.0</td>\n",
       "    </tr>\n",
       "    <tr>\n",
       "      <th>3</th>\n",
       "      <td>F</td>\n",
       "      <td>NaN</td>\n",
       "      <td>NaN</td>\n",
       "      <td>12.0</td>\n",
       "    </tr>\n",
       "  </tbody>\n",
       "</table>\n",
       "</div>"
      ],
      "text/plain": [
       "  key  value1  value2  value3\n",
       "0   A     1.0     NaN     NaN\n",
       "1   B     2.0     NaN     NaN\n",
       "2   C     3.0     NaN     NaN\n",
       "3   D     4.0     NaN     NaN\n",
       "0   B     NaN     5.0     NaN\n",
       "1   C     NaN     6.0     NaN\n",
       "2   D     NaN     7.0     NaN\n",
       "3   E     NaN     8.0     NaN\n",
       "0   C     NaN     NaN     9.0\n",
       "1   D     NaN     NaN    10.0\n",
       "2   E     NaN     NaN    11.0\n",
       "3   F     NaN     NaN    12.0"
      ]
     },
     "execution_count": 138,
     "metadata": {},
     "output_type": "execute_result"
    }
   ],
   "source": [
    "df_concat"
   ]
  },
  {
   "cell_type": "code",
   "execution_count": 139,
   "id": "14caa41c",
   "metadata": {},
   "outputs": [],
   "source": [
    "df1 = pd.DataFrame({'A': ['A0', 'A1', 'A2', 'A3'],\n",
    "                        'B': ['B0', 'B1', 'B2', 'B3'],\n",
    "                        'C': ['C0', 'C1', 'C2', 'C3'],\n",
    "                        'D': ['D0', 'D1', 'D2', 'D3']},\n",
    "                        index=[0, 1, 2, 3])\n",
    "\n",
    "df2 = pd.DataFrame({'A': ['A4', 'A5', 'A6', 'A7'],\n",
    "                        'B': ['B4', 'B5', 'B6', 'B7'],\n",
    "                        'C': ['C4', 'C5', 'C6', 'C7'],\n",
    "                        'D': ['D4', 'D5', 'D6', 'D7']},\n",
    "                         index=[4, 5, 6, 7]) \n",
    "\n",
    "df3 = pd.DataFrame({'A': ['A8', 'A9', 'A10', 'A11'],\n",
    "                        'B': ['B8', 'B9', 'B10', 'B11'],\n",
    "                        'C': ['C8', 'C9', 'C10', 'C11'],\n",
    "                        'D': ['D8', 'D9', 'D10', 'D11']},\n",
    "                        index=[8, 9, 10, 11])"
   ]
  },
  {
   "cell_type": "code",
   "execution_count": 140,
   "id": "6626d243",
   "metadata": {},
   "outputs": [
    {
     "data": {
      "text/html": [
       "<div>\n",
       "<style scoped>\n",
       "    .dataframe tbody tr th:only-of-type {\n",
       "        vertical-align: middle;\n",
       "    }\n",
       "\n",
       "    .dataframe tbody tr th {\n",
       "        vertical-align: top;\n",
       "    }\n",
       "\n",
       "    .dataframe thead th {\n",
       "        text-align: right;\n",
       "    }\n",
       "</style>\n",
       "<table border=\"1\" class=\"dataframe\">\n",
       "  <thead>\n",
       "    <tr style=\"text-align: right;\">\n",
       "      <th></th>\n",
       "      <th>A</th>\n",
       "      <th>B</th>\n",
       "      <th>C</th>\n",
       "      <th>D</th>\n",
       "    </tr>\n",
       "  </thead>\n",
       "  <tbody>\n",
       "    <tr>\n",
       "      <th>0</th>\n",
       "      <td>A0</td>\n",
       "      <td>B0</td>\n",
       "      <td>C0</td>\n",
       "      <td>D0</td>\n",
       "    </tr>\n",
       "    <tr>\n",
       "      <th>1</th>\n",
       "      <td>A1</td>\n",
       "      <td>B1</td>\n",
       "      <td>C1</td>\n",
       "      <td>D1</td>\n",
       "    </tr>\n",
       "    <tr>\n",
       "      <th>2</th>\n",
       "      <td>A2</td>\n",
       "      <td>B2</td>\n",
       "      <td>C2</td>\n",
       "      <td>D2</td>\n",
       "    </tr>\n",
       "    <tr>\n",
       "      <th>3</th>\n",
       "      <td>A3</td>\n",
       "      <td>B3</td>\n",
       "      <td>C3</td>\n",
       "      <td>D3</td>\n",
       "    </tr>\n",
       "    <tr>\n",
       "      <th>4</th>\n",
       "      <td>A4</td>\n",
       "      <td>B4</td>\n",
       "      <td>C4</td>\n",
       "      <td>D4</td>\n",
       "    </tr>\n",
       "    <tr>\n",
       "      <th>5</th>\n",
       "      <td>A5</td>\n",
       "      <td>B5</td>\n",
       "      <td>C5</td>\n",
       "      <td>D5</td>\n",
       "    </tr>\n",
       "    <tr>\n",
       "      <th>6</th>\n",
       "      <td>A6</td>\n",
       "      <td>B6</td>\n",
       "      <td>C6</td>\n",
       "      <td>D6</td>\n",
       "    </tr>\n",
       "    <tr>\n",
       "      <th>7</th>\n",
       "      <td>A7</td>\n",
       "      <td>B7</td>\n",
       "      <td>C7</td>\n",
       "      <td>D7</td>\n",
       "    </tr>\n",
       "    <tr>\n",
       "      <th>8</th>\n",
       "      <td>A8</td>\n",
       "      <td>B8</td>\n",
       "      <td>C8</td>\n",
       "      <td>D8</td>\n",
       "    </tr>\n",
       "    <tr>\n",
       "      <th>9</th>\n",
       "      <td>A9</td>\n",
       "      <td>B9</td>\n",
       "      <td>C9</td>\n",
       "      <td>D9</td>\n",
       "    </tr>\n",
       "    <tr>\n",
       "      <th>10</th>\n",
       "      <td>A10</td>\n",
       "      <td>B10</td>\n",
       "      <td>C10</td>\n",
       "      <td>D10</td>\n",
       "    </tr>\n",
       "    <tr>\n",
       "      <th>11</th>\n",
       "      <td>A11</td>\n",
       "      <td>B11</td>\n",
       "      <td>C11</td>\n",
       "      <td>D11</td>\n",
       "    </tr>\n",
       "  </tbody>\n",
       "</table>\n",
       "</div>"
      ],
      "text/plain": [
       "      A    B    C    D\n",
       "0    A0   B0   C0   D0\n",
       "1    A1   B1   C1   D1\n",
       "2    A2   B2   C2   D2\n",
       "3    A3   B3   C3   D3\n",
       "4    A4   B4   C4   D4\n",
       "5    A5   B5   C5   D5\n",
       "6    A6   B6   C6   D6\n",
       "7    A7   B7   C7   D7\n",
       "8    A8   B8   C8   D8\n",
       "9    A9   B9   C9   D9\n",
       "10  A10  B10  C10  D10\n",
       "11  A11  B11  C11  D11"
      ]
     },
     "execution_count": 140,
     "metadata": {},
     "output_type": "execute_result"
    }
   ],
   "source": [
    "pd.concat([df1,df2,df3])"
   ]
  },
  {
   "cell_type": "code",
   "execution_count": 141,
   "id": "17f3e6e8",
   "metadata": {},
   "outputs": [
    {
     "data": {
      "text/html": [
       "<div>\n",
       "<style scoped>\n",
       "    .dataframe tbody tr th:only-of-type {\n",
       "        vertical-align: middle;\n",
       "    }\n",
       "\n",
       "    .dataframe tbody tr th {\n",
       "        vertical-align: top;\n",
       "    }\n",
       "\n",
       "    .dataframe thead th {\n",
       "        text-align: right;\n",
       "    }\n",
       "</style>\n",
       "<table border=\"1\" class=\"dataframe\">\n",
       "  <thead>\n",
       "    <tr style=\"text-align: right;\">\n",
       "      <th></th>\n",
       "      <th>A</th>\n",
       "      <th>B</th>\n",
       "      <th>C</th>\n",
       "      <th>D</th>\n",
       "      <th>A</th>\n",
       "      <th>B</th>\n",
       "      <th>C</th>\n",
       "      <th>D</th>\n",
       "      <th>A</th>\n",
       "      <th>B</th>\n",
       "      <th>C</th>\n",
       "      <th>D</th>\n",
       "    </tr>\n",
       "  </thead>\n",
       "  <tbody>\n",
       "    <tr>\n",
       "      <th>0</th>\n",
       "      <td>A0</td>\n",
       "      <td>B0</td>\n",
       "      <td>C0</td>\n",
       "      <td>D0</td>\n",
       "      <td>NaN</td>\n",
       "      <td>NaN</td>\n",
       "      <td>NaN</td>\n",
       "      <td>NaN</td>\n",
       "      <td>NaN</td>\n",
       "      <td>NaN</td>\n",
       "      <td>NaN</td>\n",
       "      <td>NaN</td>\n",
       "    </tr>\n",
       "    <tr>\n",
       "      <th>1</th>\n",
       "      <td>A1</td>\n",
       "      <td>B1</td>\n",
       "      <td>C1</td>\n",
       "      <td>D1</td>\n",
       "      <td>NaN</td>\n",
       "      <td>NaN</td>\n",
       "      <td>NaN</td>\n",
       "      <td>NaN</td>\n",
       "      <td>NaN</td>\n",
       "      <td>NaN</td>\n",
       "      <td>NaN</td>\n",
       "      <td>NaN</td>\n",
       "    </tr>\n",
       "    <tr>\n",
       "      <th>2</th>\n",
       "      <td>A2</td>\n",
       "      <td>B2</td>\n",
       "      <td>C2</td>\n",
       "      <td>D2</td>\n",
       "      <td>NaN</td>\n",
       "      <td>NaN</td>\n",
       "      <td>NaN</td>\n",
       "      <td>NaN</td>\n",
       "      <td>NaN</td>\n",
       "      <td>NaN</td>\n",
       "      <td>NaN</td>\n",
       "      <td>NaN</td>\n",
       "    </tr>\n",
       "    <tr>\n",
       "      <th>3</th>\n",
       "      <td>A3</td>\n",
       "      <td>B3</td>\n",
       "      <td>C3</td>\n",
       "      <td>D3</td>\n",
       "      <td>NaN</td>\n",
       "      <td>NaN</td>\n",
       "      <td>NaN</td>\n",
       "      <td>NaN</td>\n",
       "      <td>NaN</td>\n",
       "      <td>NaN</td>\n",
       "      <td>NaN</td>\n",
       "      <td>NaN</td>\n",
       "    </tr>\n",
       "    <tr>\n",
       "      <th>4</th>\n",
       "      <td>NaN</td>\n",
       "      <td>NaN</td>\n",
       "      <td>NaN</td>\n",
       "      <td>NaN</td>\n",
       "      <td>A4</td>\n",
       "      <td>B4</td>\n",
       "      <td>C4</td>\n",
       "      <td>D4</td>\n",
       "      <td>NaN</td>\n",
       "      <td>NaN</td>\n",
       "      <td>NaN</td>\n",
       "      <td>NaN</td>\n",
       "    </tr>\n",
       "    <tr>\n",
       "      <th>5</th>\n",
       "      <td>NaN</td>\n",
       "      <td>NaN</td>\n",
       "      <td>NaN</td>\n",
       "      <td>NaN</td>\n",
       "      <td>A5</td>\n",
       "      <td>B5</td>\n",
       "      <td>C5</td>\n",
       "      <td>D5</td>\n",
       "      <td>NaN</td>\n",
       "      <td>NaN</td>\n",
       "      <td>NaN</td>\n",
       "      <td>NaN</td>\n",
       "    </tr>\n",
       "    <tr>\n",
       "      <th>6</th>\n",
       "      <td>NaN</td>\n",
       "      <td>NaN</td>\n",
       "      <td>NaN</td>\n",
       "      <td>NaN</td>\n",
       "      <td>A6</td>\n",
       "      <td>B6</td>\n",
       "      <td>C6</td>\n",
       "      <td>D6</td>\n",
       "      <td>NaN</td>\n",
       "      <td>NaN</td>\n",
       "      <td>NaN</td>\n",
       "      <td>NaN</td>\n",
       "    </tr>\n",
       "    <tr>\n",
       "      <th>7</th>\n",
       "      <td>NaN</td>\n",
       "      <td>NaN</td>\n",
       "      <td>NaN</td>\n",
       "      <td>NaN</td>\n",
       "      <td>A7</td>\n",
       "      <td>B7</td>\n",
       "      <td>C7</td>\n",
       "      <td>D7</td>\n",
       "      <td>NaN</td>\n",
       "      <td>NaN</td>\n",
       "      <td>NaN</td>\n",
       "      <td>NaN</td>\n",
       "    </tr>\n",
       "    <tr>\n",
       "      <th>8</th>\n",
       "      <td>NaN</td>\n",
       "      <td>NaN</td>\n",
       "      <td>NaN</td>\n",
       "      <td>NaN</td>\n",
       "      <td>NaN</td>\n",
       "      <td>NaN</td>\n",
       "      <td>NaN</td>\n",
       "      <td>NaN</td>\n",
       "      <td>A8</td>\n",
       "      <td>B8</td>\n",
       "      <td>C8</td>\n",
       "      <td>D8</td>\n",
       "    </tr>\n",
       "    <tr>\n",
       "      <th>9</th>\n",
       "      <td>NaN</td>\n",
       "      <td>NaN</td>\n",
       "      <td>NaN</td>\n",
       "      <td>NaN</td>\n",
       "      <td>NaN</td>\n",
       "      <td>NaN</td>\n",
       "      <td>NaN</td>\n",
       "      <td>NaN</td>\n",
       "      <td>A9</td>\n",
       "      <td>B9</td>\n",
       "      <td>C9</td>\n",
       "      <td>D9</td>\n",
       "    </tr>\n",
       "    <tr>\n",
       "      <th>10</th>\n",
       "      <td>NaN</td>\n",
       "      <td>NaN</td>\n",
       "      <td>NaN</td>\n",
       "      <td>NaN</td>\n",
       "      <td>NaN</td>\n",
       "      <td>NaN</td>\n",
       "      <td>NaN</td>\n",
       "      <td>NaN</td>\n",
       "      <td>A10</td>\n",
       "      <td>B10</td>\n",
       "      <td>C10</td>\n",
       "      <td>D10</td>\n",
       "    </tr>\n",
       "    <tr>\n",
       "      <th>11</th>\n",
       "      <td>NaN</td>\n",
       "      <td>NaN</td>\n",
       "      <td>NaN</td>\n",
       "      <td>NaN</td>\n",
       "      <td>NaN</td>\n",
       "      <td>NaN</td>\n",
       "      <td>NaN</td>\n",
       "      <td>NaN</td>\n",
       "      <td>A11</td>\n",
       "      <td>B11</td>\n",
       "      <td>C11</td>\n",
       "      <td>D11</td>\n",
       "    </tr>\n",
       "  </tbody>\n",
       "</table>\n",
       "</div>"
      ],
      "text/plain": [
       "      A    B    C    D    A    B    C    D    A    B    C    D\n",
       "0    A0   B0   C0   D0  NaN  NaN  NaN  NaN  NaN  NaN  NaN  NaN\n",
       "1    A1   B1   C1   D1  NaN  NaN  NaN  NaN  NaN  NaN  NaN  NaN\n",
       "2    A2   B2   C2   D2  NaN  NaN  NaN  NaN  NaN  NaN  NaN  NaN\n",
       "3    A3   B3   C3   D3  NaN  NaN  NaN  NaN  NaN  NaN  NaN  NaN\n",
       "4   NaN  NaN  NaN  NaN   A4   B4   C4   D4  NaN  NaN  NaN  NaN\n",
       "5   NaN  NaN  NaN  NaN   A5   B5   C5   D5  NaN  NaN  NaN  NaN\n",
       "6   NaN  NaN  NaN  NaN   A6   B6   C6   D6  NaN  NaN  NaN  NaN\n",
       "7   NaN  NaN  NaN  NaN   A7   B7   C7   D7  NaN  NaN  NaN  NaN\n",
       "8   NaN  NaN  NaN  NaN  NaN  NaN  NaN  NaN   A8   B8   C8   D8\n",
       "9   NaN  NaN  NaN  NaN  NaN  NaN  NaN  NaN   A9   B9   C9   D9\n",
       "10  NaN  NaN  NaN  NaN  NaN  NaN  NaN  NaN  A10  B10  C10  D10\n",
       "11  NaN  NaN  NaN  NaN  NaN  NaN  NaN  NaN  A11  B11  C11  D11"
      ]
     },
     "execution_count": 141,
     "metadata": {},
     "output_type": "execute_result"
    }
   ],
   "source": [
    "pd.concat([df1,df2,df3],axis = 1)"
   ]
  },
  {
   "cell_type": "code",
   "execution_count": 142,
   "id": "bf782001",
   "metadata": {},
   "outputs": [
    {
     "name": "stdout",
     "output_type": "stream",
     "text": [
      "Inner Merge:\n",
      "  key  value1  value2\n",
      "0   B       2       5\n",
      "1   C       3       6\n",
      "2   D       4       7\n",
      "\n",
      "Outer Merge:\n",
      "  key  value1  value2\n",
      "0   A     1.0     NaN\n",
      "1   B     2.0     5.0\n",
      "2   C     3.0     6.0\n",
      "3   D     4.0     7.0\n",
      "4   E     NaN     8.0\n",
      "\n",
      "Left Merge:\n",
      "  key  value1  value2\n",
      "0   A       1     NaN\n",
      "1   B       2     5.0\n",
      "2   C       3     6.0\n",
      "3   D       4     7.0\n",
      "\n",
      "Right Merge:\n",
      "  key  value1  value2\n",
      "0   B     2.0       5\n",
      "1   C     3.0       6\n",
      "2   D     4.0       7\n",
      "3   E     NaN       8\n"
     ]
    }
   ],
   "source": [
    "import pandas as pd\n",
    "\n",
    "# Example DataFrames\n",
    "df1 = pd.DataFrame({'key': ['A', 'B', 'C', 'D'], 'value1': [1, 2, 3, 4]})\n",
    "df2 = pd.DataFrame({'key': ['B', 'C', 'D', 'E'], 'value2': [5, 6, 7, 8]})\n",
    "\n",
    "# Inner merge\n",
    "inner_merged = pd.merge(df1, df2, on='key', how='inner')\n",
    "print(\"Inner Merge:\")\n",
    "print(inner_merged)\n",
    "\n",
    "# Outer merge\n",
    "outer_merged = pd.merge(df1, df2, on='key', how='outer')\n",
    "print(\"\\nOuter Merge:\")\n",
    "print(outer_merged)\n",
    "\n",
    "# Left merge\n",
    "left_merged = pd.merge(df1, df2, on='key', how='left')\n",
    "print(\"\\nLeft Merge:\")\n",
    "print(left_merged)\n",
    "\n",
    "# Right merge\n",
    "right_merged = pd.merge(df1, df2, on='key', how='right')\n",
    "print(\"\\nRight Merge:\")\n",
    "print(right_merged)\n"
   ]
  },
  {
   "cell_type": "code",
   "execution_count": 143,
   "id": "af074974",
   "metadata": {},
   "outputs": [],
   "source": [
    "left = pd.DataFrame({'key': ['K0', 'K1', 'K2', 'K3'],\n",
    "                     'A': ['A0', 'A1', 'A2', 'A3'],\n",
    "                     'B': ['B0', 'B1', 'B2', 'B3']})\n",
    "   \n",
    "right = pd.DataFrame({'key': ['K0', 'K1', 'K2', 'K3'],\n",
    "                          'C': ['C0', 'C1', 'C2', 'C3'],\n",
    "                          'D': ['D0', 'D1', 'D2', 'D3']})    "
   ]
  },
  {
   "cell_type": "code",
   "execution_count": 144,
   "id": "0a8303a8",
   "metadata": {},
   "outputs": [
    {
     "data": {
      "text/html": [
       "<div>\n",
       "<style scoped>\n",
       "    .dataframe tbody tr th:only-of-type {\n",
       "        vertical-align: middle;\n",
       "    }\n",
       "\n",
       "    .dataframe tbody tr th {\n",
       "        vertical-align: top;\n",
       "    }\n",
       "\n",
       "    .dataframe thead th {\n",
       "        text-align: right;\n",
       "    }\n",
       "</style>\n",
       "<table border=\"1\" class=\"dataframe\">\n",
       "  <thead>\n",
       "    <tr style=\"text-align: right;\">\n",
       "      <th></th>\n",
       "      <th>key</th>\n",
       "      <th>A</th>\n",
       "      <th>B</th>\n",
       "      <th>C</th>\n",
       "      <th>D</th>\n",
       "    </tr>\n",
       "  </thead>\n",
       "  <tbody>\n",
       "    <tr>\n",
       "      <th>0</th>\n",
       "      <td>K0</td>\n",
       "      <td>A0</td>\n",
       "      <td>B0</td>\n",
       "      <td>C0</td>\n",
       "      <td>D0</td>\n",
       "    </tr>\n",
       "    <tr>\n",
       "      <th>1</th>\n",
       "      <td>K1</td>\n",
       "      <td>A1</td>\n",
       "      <td>B1</td>\n",
       "      <td>C1</td>\n",
       "      <td>D1</td>\n",
       "    </tr>\n",
       "    <tr>\n",
       "      <th>2</th>\n",
       "      <td>K2</td>\n",
       "      <td>A2</td>\n",
       "      <td>B2</td>\n",
       "      <td>C2</td>\n",
       "      <td>D2</td>\n",
       "    </tr>\n",
       "    <tr>\n",
       "      <th>3</th>\n",
       "      <td>K3</td>\n",
       "      <td>A3</td>\n",
       "      <td>B3</td>\n",
       "      <td>C3</td>\n",
       "      <td>D3</td>\n",
       "    </tr>\n",
       "  </tbody>\n",
       "</table>\n",
       "</div>"
      ],
      "text/plain": [
       "  key   A   B   C   D\n",
       "0  K0  A0  B0  C0  D0\n",
       "1  K1  A1  B1  C1  D1\n",
       "2  K2  A2  B2  C2  D2\n",
       "3  K3  A3  B3  C3  D3"
      ]
     },
     "execution_count": 144,
     "metadata": {},
     "output_type": "execute_result"
    }
   ],
   "source": [
    "pd.merge(left,right, how= \"outer\",on=\"key\" )"
   ]
  },
  {
   "cell_type": "code",
   "execution_count": 145,
   "id": "5967ee0b",
   "metadata": {},
   "outputs": [
    {
     "data": {
      "text/html": [
       "<div>\n",
       "<style scoped>\n",
       "    .dataframe tbody tr th:only-of-type {\n",
       "        vertical-align: middle;\n",
       "    }\n",
       "\n",
       "    .dataframe tbody tr th {\n",
       "        vertical-align: top;\n",
       "    }\n",
       "\n",
       "    .dataframe thead th {\n",
       "        text-align: right;\n",
       "    }\n",
       "</style>\n",
       "<table border=\"1\" class=\"dataframe\">\n",
       "  <thead>\n",
       "    <tr style=\"text-align: right;\">\n",
       "      <th></th>\n",
       "      <th>key</th>\n",
       "      <th>A</th>\n",
       "      <th>B</th>\n",
       "      <th>C</th>\n",
       "      <th>D</th>\n",
       "    </tr>\n",
       "  </thead>\n",
       "  <tbody>\n",
       "    <tr>\n",
       "      <th>0</th>\n",
       "      <td>K0</td>\n",
       "      <td>A0</td>\n",
       "      <td>B0</td>\n",
       "      <td>C0</td>\n",
       "      <td>D0</td>\n",
       "    </tr>\n",
       "    <tr>\n",
       "      <th>1</th>\n",
       "      <td>K1</td>\n",
       "      <td>A1</td>\n",
       "      <td>B1</td>\n",
       "      <td>C1</td>\n",
       "      <td>D1</td>\n",
       "    </tr>\n",
       "    <tr>\n",
       "      <th>2</th>\n",
       "      <td>K2</td>\n",
       "      <td>A2</td>\n",
       "      <td>B2</td>\n",
       "      <td>C2</td>\n",
       "      <td>D2</td>\n",
       "    </tr>\n",
       "    <tr>\n",
       "      <th>3</th>\n",
       "      <td>K3</td>\n",
       "      <td>A3</td>\n",
       "      <td>B3</td>\n",
       "      <td>C3</td>\n",
       "      <td>D3</td>\n",
       "    </tr>\n",
       "  </tbody>\n",
       "</table>\n",
       "</div>"
      ],
      "text/plain": [
       "  key   A   B   C   D\n",
       "0  K0  A0  B0  C0  D0\n",
       "1  K1  A1  B1  C1  D1\n",
       "2  K2  A2  B2  C2  D2\n",
       "3  K3  A3  B3  C3  D3"
      ]
     },
     "execution_count": 145,
     "metadata": {},
     "output_type": "execute_result"
    }
   ],
   "source": [
    "pd.merge(left,right,on=\"key\" )"
   ]
  },
  {
   "cell_type": "code",
   "execution_count": 146,
   "id": "18484e21",
   "metadata": {},
   "outputs": [
    {
     "data": {
      "text/html": [
       "<div>\n",
       "<style scoped>\n",
       "    .dataframe tbody tr th:only-of-type {\n",
       "        vertical-align: middle;\n",
       "    }\n",
       "\n",
       "    .dataframe tbody tr th {\n",
       "        vertical-align: top;\n",
       "    }\n",
       "\n",
       "    .dataframe thead th {\n",
       "        text-align: right;\n",
       "    }\n",
       "</style>\n",
       "<table border=\"1\" class=\"dataframe\">\n",
       "  <thead>\n",
       "    <tr style=\"text-align: right;\">\n",
       "      <th></th>\n",
       "      <th>key</th>\n",
       "      <th>A</th>\n",
       "      <th>B</th>\n",
       "      <th>C</th>\n",
       "      <th>D</th>\n",
       "    </tr>\n",
       "  </thead>\n",
       "  <tbody>\n",
       "    <tr>\n",
       "      <th>0</th>\n",
       "      <td>K0</td>\n",
       "      <td>A0</td>\n",
       "      <td>B0</td>\n",
       "      <td>C0</td>\n",
       "      <td>D0</td>\n",
       "    </tr>\n",
       "    <tr>\n",
       "      <th>1</th>\n",
       "      <td>K1</td>\n",
       "      <td>A1</td>\n",
       "      <td>B1</td>\n",
       "      <td>C1</td>\n",
       "      <td>D1</td>\n",
       "    </tr>\n",
       "    <tr>\n",
       "      <th>2</th>\n",
       "      <td>K2</td>\n",
       "      <td>A2</td>\n",
       "      <td>B2</td>\n",
       "      <td>C2</td>\n",
       "      <td>D2</td>\n",
       "    </tr>\n",
       "    <tr>\n",
       "      <th>3</th>\n",
       "      <td>K3</td>\n",
       "      <td>A3</td>\n",
       "      <td>B3</td>\n",
       "      <td>C3</td>\n",
       "      <td>D3</td>\n",
       "    </tr>\n",
       "  </tbody>\n",
       "</table>\n",
       "</div>"
      ],
      "text/plain": [
       "  key   A   B   C   D\n",
       "0  K0  A0  B0  C0  D0\n",
       "1  K1  A1  B1  C1  D1\n",
       "2  K2  A2  B2  C2  D2\n",
       "3  K3  A3  B3  C3  D3"
      ]
     },
     "execution_count": 146,
     "metadata": {},
     "output_type": "execute_result"
    }
   ],
   "source": [
    "pd.merge(left,right)"
   ]
  },
  {
   "cell_type": "code",
   "execution_count": 147,
   "id": "47f1850a",
   "metadata": {},
   "outputs": [],
   "source": [
    "df1 = pd.DataFrame({'key': ['A', 'B', 'C', 'D'], 'value1': [1, 2, 3, 4]})\n",
    "df2 = pd.DataFrame({'key': ['B', 'C', 'D', 'E'], 'value2': [5, 6, 7, 8]})"
   ]
  },
  {
   "cell_type": "code",
   "execution_count": 148,
   "id": "88a7c83f",
   "metadata": {},
   "outputs": [
    {
     "data": {
      "text/html": [
       "<div>\n",
       "<style scoped>\n",
       "    .dataframe tbody tr th:only-of-type {\n",
       "        vertical-align: middle;\n",
       "    }\n",
       "\n",
       "    .dataframe tbody tr th {\n",
       "        vertical-align: top;\n",
       "    }\n",
       "\n",
       "    .dataframe thead th {\n",
       "        text-align: right;\n",
       "    }\n",
       "</style>\n",
       "<table border=\"1\" class=\"dataframe\">\n",
       "  <thead>\n",
       "    <tr style=\"text-align: right;\">\n",
       "      <th></th>\n",
       "      <th>key</th>\n",
       "      <th>value1</th>\n",
       "      <th>value2</th>\n",
       "    </tr>\n",
       "  </thead>\n",
       "  <tbody>\n",
       "    <tr>\n",
       "      <th>0</th>\n",
       "      <td>B</td>\n",
       "      <td>2</td>\n",
       "      <td>5</td>\n",
       "    </tr>\n",
       "    <tr>\n",
       "      <th>1</th>\n",
       "      <td>C</td>\n",
       "      <td>3</td>\n",
       "      <td>6</td>\n",
       "    </tr>\n",
       "    <tr>\n",
       "      <th>2</th>\n",
       "      <td>D</td>\n",
       "      <td>4</td>\n",
       "      <td>7</td>\n",
       "    </tr>\n",
       "  </tbody>\n",
       "</table>\n",
       "</div>"
      ],
      "text/plain": [
       "  key  value1  value2\n",
       "0   B       2       5\n",
       "1   C       3       6\n",
       "2   D       4       7"
      ]
     },
     "execution_count": 148,
     "metadata": {},
     "output_type": "execute_result"
    }
   ],
   "source": [
    "pd.merge(df1,df2)"
   ]
  },
  {
   "cell_type": "code",
   "execution_count": 149,
   "id": "325a9b91",
   "metadata": {},
   "outputs": [
    {
     "data": {
      "text/html": [
       "<div>\n",
       "<style scoped>\n",
       "    .dataframe tbody tr th:only-of-type {\n",
       "        vertical-align: middle;\n",
       "    }\n",
       "\n",
       "    .dataframe tbody tr th {\n",
       "        vertical-align: top;\n",
       "    }\n",
       "\n",
       "    .dataframe thead th {\n",
       "        text-align: right;\n",
       "    }\n",
       "</style>\n",
       "<table border=\"1\" class=\"dataframe\">\n",
       "  <thead>\n",
       "    <tr style=\"text-align: right;\">\n",
       "      <th></th>\n",
       "      <th>key</th>\n",
       "      <th>value1</th>\n",
       "      <th>value2</th>\n",
       "    </tr>\n",
       "  </thead>\n",
       "  <tbody>\n",
       "    <tr>\n",
       "      <th>0</th>\n",
       "      <td>A</td>\n",
       "      <td>1.0</td>\n",
       "      <td>NaN</td>\n",
       "    </tr>\n",
       "    <tr>\n",
       "      <th>1</th>\n",
       "      <td>B</td>\n",
       "      <td>2.0</td>\n",
       "      <td>5.0</td>\n",
       "    </tr>\n",
       "    <tr>\n",
       "      <th>2</th>\n",
       "      <td>C</td>\n",
       "      <td>3.0</td>\n",
       "      <td>6.0</td>\n",
       "    </tr>\n",
       "    <tr>\n",
       "      <th>3</th>\n",
       "      <td>D</td>\n",
       "      <td>4.0</td>\n",
       "      <td>7.0</td>\n",
       "    </tr>\n",
       "    <tr>\n",
       "      <th>4</th>\n",
       "      <td>E</td>\n",
       "      <td>NaN</td>\n",
       "      <td>8.0</td>\n",
       "    </tr>\n",
       "  </tbody>\n",
       "</table>\n",
       "</div>"
      ],
      "text/plain": [
       "  key  value1  value2\n",
       "0   A     1.0     NaN\n",
       "1   B     2.0     5.0\n",
       "2   C     3.0     6.0\n",
       "3   D     4.0     7.0\n",
       "4   E     NaN     8.0"
      ]
     },
     "execution_count": 149,
     "metadata": {},
     "output_type": "execute_result"
    }
   ],
   "source": [
    "pd.merge(df1,df2,how=\"outer\",on=\"key\")"
   ]
  },
  {
   "cell_type": "code",
   "execution_count": 150,
   "id": "c045c44b",
   "metadata": {},
   "outputs": [
    {
     "data": {
      "text/html": [
       "<div>\n",
       "<style scoped>\n",
       "    .dataframe tbody tr th:only-of-type {\n",
       "        vertical-align: middle;\n",
       "    }\n",
       "\n",
       "    .dataframe tbody tr th {\n",
       "        vertical-align: top;\n",
       "    }\n",
       "\n",
       "    .dataframe thead th {\n",
       "        text-align: right;\n",
       "    }\n",
       "</style>\n",
       "<table border=\"1\" class=\"dataframe\">\n",
       "  <thead>\n",
       "    <tr style=\"text-align: right;\">\n",
       "      <th></th>\n",
       "      <th>key</th>\n",
       "      <th>value1</th>\n",
       "      <th>value2</th>\n",
       "    </tr>\n",
       "  </thead>\n",
       "  <tbody>\n",
       "    <tr>\n",
       "      <th>0</th>\n",
       "      <td>A</td>\n",
       "      <td>1</td>\n",
       "      <td>NaN</td>\n",
       "    </tr>\n",
       "    <tr>\n",
       "      <th>1</th>\n",
       "      <td>B</td>\n",
       "      <td>2</td>\n",
       "      <td>5.0</td>\n",
       "    </tr>\n",
       "    <tr>\n",
       "      <th>2</th>\n",
       "      <td>C</td>\n",
       "      <td>3</td>\n",
       "      <td>6.0</td>\n",
       "    </tr>\n",
       "    <tr>\n",
       "      <th>3</th>\n",
       "      <td>D</td>\n",
       "      <td>4</td>\n",
       "      <td>7.0</td>\n",
       "    </tr>\n",
       "  </tbody>\n",
       "</table>\n",
       "</div>"
      ],
      "text/plain": [
       "  key  value1  value2\n",
       "0   A       1     NaN\n",
       "1   B       2     5.0\n",
       "2   C       3     6.0\n",
       "3   D       4     7.0"
      ]
     },
     "execution_count": 150,
     "metadata": {},
     "output_type": "execute_result"
    }
   ],
   "source": [
    "pd.merge(df1,df2,how=\"left\",on=\"key\")"
   ]
  },
  {
   "cell_type": "code",
   "execution_count": 151,
   "id": "9a95d77b",
   "metadata": {},
   "outputs": [
    {
     "data": {
      "text/html": [
       "<div>\n",
       "<style scoped>\n",
       "    .dataframe tbody tr th:only-of-type {\n",
       "        vertical-align: middle;\n",
       "    }\n",
       "\n",
       "    .dataframe tbody tr th {\n",
       "        vertical-align: top;\n",
       "    }\n",
       "\n",
       "    .dataframe thead th {\n",
       "        text-align: right;\n",
       "    }\n",
       "</style>\n",
       "<table border=\"1\" class=\"dataframe\">\n",
       "  <thead>\n",
       "    <tr style=\"text-align: right;\">\n",
       "      <th></th>\n",
       "      <th>key</th>\n",
       "      <th>value1</th>\n",
       "      <th>value2</th>\n",
       "    </tr>\n",
       "  </thead>\n",
       "  <tbody>\n",
       "    <tr>\n",
       "      <th>0</th>\n",
       "      <td>B</td>\n",
       "      <td>2.0</td>\n",
       "      <td>5</td>\n",
       "    </tr>\n",
       "    <tr>\n",
       "      <th>1</th>\n",
       "      <td>C</td>\n",
       "      <td>3.0</td>\n",
       "      <td>6</td>\n",
       "    </tr>\n",
       "    <tr>\n",
       "      <th>2</th>\n",
       "      <td>D</td>\n",
       "      <td>4.0</td>\n",
       "      <td>7</td>\n",
       "    </tr>\n",
       "    <tr>\n",
       "      <th>3</th>\n",
       "      <td>E</td>\n",
       "      <td>NaN</td>\n",
       "      <td>8</td>\n",
       "    </tr>\n",
       "  </tbody>\n",
       "</table>\n",
       "</div>"
      ],
      "text/plain": [
       "  key  value1  value2\n",
       "0   B     2.0       5\n",
       "1   C     3.0       6\n",
       "2   D     4.0       7\n",
       "3   E     NaN       8"
      ]
     },
     "execution_count": 151,
     "metadata": {},
     "output_type": "execute_result"
    }
   ],
   "source": [
    "pd.merge(df1,df2,how=\"right\",on=\"key\")"
   ]
  },
  {
   "cell_type": "code",
   "execution_count": 152,
   "id": "cd2e048b",
   "metadata": {},
   "outputs": [],
   "source": [
    "left = pd.DataFrame({'A': ['A0', 'A1', 'A2'],\n",
    "                     'B': ['B0', 'B1', 'B2']},\n",
    "                      index=['K0', 'K1', 'K2']) \n",
    "\n",
    "right = pd.DataFrame({'C': ['C0', 'C2', 'C3'],\n",
    "                    'D': ['D0', 'D2', 'D3']},\n",
    "                      index=['K0', 'K2', 'K3'])"
   ]
  },
  {
   "cell_type": "code",
   "execution_count": 153,
   "id": "8afbeabb",
   "metadata": {},
   "outputs": [
    {
     "data": {
      "text/html": [
       "<div>\n",
       "<style scoped>\n",
       "    .dataframe tbody tr th:only-of-type {\n",
       "        vertical-align: middle;\n",
       "    }\n",
       "\n",
       "    .dataframe tbody tr th {\n",
       "        vertical-align: top;\n",
       "    }\n",
       "\n",
       "    .dataframe thead th {\n",
       "        text-align: right;\n",
       "    }\n",
       "</style>\n",
       "<table border=\"1\" class=\"dataframe\">\n",
       "  <thead>\n",
       "    <tr style=\"text-align: right;\">\n",
       "      <th></th>\n",
       "      <th>A</th>\n",
       "      <th>B</th>\n",
       "      <th>C</th>\n",
       "      <th>D</th>\n",
       "    </tr>\n",
       "  </thead>\n",
       "  <tbody>\n",
       "    <tr>\n",
       "      <th>K0</th>\n",
       "      <td>A0</td>\n",
       "      <td>B0</td>\n",
       "      <td>C0</td>\n",
       "      <td>D0</td>\n",
       "    </tr>\n",
       "    <tr>\n",
       "      <th>K1</th>\n",
       "      <td>A1</td>\n",
       "      <td>B1</td>\n",
       "      <td>NaN</td>\n",
       "      <td>NaN</td>\n",
       "    </tr>\n",
       "    <tr>\n",
       "      <th>K2</th>\n",
       "      <td>A2</td>\n",
       "      <td>B2</td>\n",
       "      <td>C2</td>\n",
       "      <td>D2</td>\n",
       "    </tr>\n",
       "  </tbody>\n",
       "</table>\n",
       "</div>"
      ],
      "text/plain": [
       "     A   B    C    D\n",
       "K0  A0  B0   C0   D0\n",
       "K1  A1  B1  NaN  NaN\n",
       "K2  A2  B2   C2   D2"
      ]
     },
     "execution_count": 153,
     "metadata": {},
     "output_type": "execute_result"
    }
   ],
   "source": [
    "left.join(right)"
   ]
  },
  {
   "cell_type": "code",
   "execution_count": 154,
   "id": "3fcdd3a8",
   "metadata": {},
   "outputs": [
    {
     "data": {
      "text/html": [
       "<div>\n",
       "<style scoped>\n",
       "    .dataframe tbody tr th:only-of-type {\n",
       "        vertical-align: middle;\n",
       "    }\n",
       "\n",
       "    .dataframe tbody tr th {\n",
       "        vertical-align: top;\n",
       "    }\n",
       "\n",
       "    .dataframe thead th {\n",
       "        text-align: right;\n",
       "    }\n",
       "</style>\n",
       "<table border=\"1\" class=\"dataframe\">\n",
       "  <thead>\n",
       "    <tr style=\"text-align: right;\">\n",
       "      <th></th>\n",
       "      <th>C</th>\n",
       "      <th>D</th>\n",
       "      <th>A</th>\n",
       "      <th>B</th>\n",
       "    </tr>\n",
       "  </thead>\n",
       "  <tbody>\n",
       "    <tr>\n",
       "      <th>K0</th>\n",
       "      <td>C0</td>\n",
       "      <td>D0</td>\n",
       "      <td>A0</td>\n",
       "      <td>B0</td>\n",
       "    </tr>\n",
       "    <tr>\n",
       "      <th>K2</th>\n",
       "      <td>C2</td>\n",
       "      <td>D2</td>\n",
       "      <td>A2</td>\n",
       "      <td>B2</td>\n",
       "    </tr>\n",
       "    <tr>\n",
       "      <th>K3</th>\n",
       "      <td>C3</td>\n",
       "      <td>D3</td>\n",
       "      <td>NaN</td>\n",
       "      <td>NaN</td>\n",
       "    </tr>\n",
       "  </tbody>\n",
       "</table>\n",
       "</div>"
      ],
      "text/plain": [
       "     C   D    A    B\n",
       "K0  C0  D0   A0   B0\n",
       "K2  C2  D2   A2   B2\n",
       "K3  C3  D3  NaN  NaN"
      ]
     },
     "execution_count": 154,
     "metadata": {},
     "output_type": "execute_result"
    }
   ],
   "source": [
    "right.join(left)"
   ]
  },
  {
   "cell_type": "code",
   "execution_count": 155,
   "id": "6924c538",
   "metadata": {},
   "outputs": [
    {
     "data": {
      "text/plain": [
       "C  K0    C0\n",
       "   K2    C2\n",
       "   K3    C3\n",
       "D  K0    D0\n",
       "   K2    D2\n",
       "   K3    D3\n",
       "dtype: object"
      ]
     },
     "execution_count": 155,
     "metadata": {},
     "output_type": "execute_result"
    }
   ],
   "source": [
    "right.unstack()"
   ]
  },
  {
   "cell_type": "code",
   "execution_count": 156,
   "id": "12a53977",
   "metadata": {},
   "outputs": [
    {
     "data": {
      "text/html": [
       "<div>\n",
       "<style scoped>\n",
       "    .dataframe tbody tr th:only-of-type {\n",
       "        vertical-align: middle;\n",
       "    }\n",
       "\n",
       "    .dataframe tbody tr th {\n",
       "        vertical-align: top;\n",
       "    }\n",
       "\n",
       "    .dataframe thead th {\n",
       "        text-align: right;\n",
       "    }\n",
       "</style>\n",
       "<table border=\"1\" class=\"dataframe\">\n",
       "  <thead>\n",
       "    <tr style=\"text-align: right;\">\n",
       "      <th></th>\n",
       "      <th>C</th>\n",
       "      <th>D</th>\n",
       "    </tr>\n",
       "  </thead>\n",
       "  <tbody>\n",
       "    <tr>\n",
       "      <th>K0</th>\n",
       "      <td>C0</td>\n",
       "      <td>D0</td>\n",
       "    </tr>\n",
       "    <tr>\n",
       "      <th>K2</th>\n",
       "      <td>C2</td>\n",
       "      <td>D2</td>\n",
       "    </tr>\n",
       "    <tr>\n",
       "      <th>K3</th>\n",
       "      <td>C3</td>\n",
       "      <td>D3</td>\n",
       "    </tr>\n",
       "  </tbody>\n",
       "</table>\n",
       "</div>"
      ],
      "text/plain": [
       "     C   D\n",
       "K0  C0  D0\n",
       "K2  C2  D2\n",
       "K3  C3  D3"
      ]
     },
     "execution_count": 156,
     "metadata": {},
     "output_type": "execute_result"
    }
   ],
   "source": [
    "right"
   ]
  },
  {
   "cell_type": "code",
   "execution_count": 157,
   "id": "e48a8e0e",
   "metadata": {},
   "outputs": [
    {
     "data": {
      "text/html": [
       "<div>\n",
       "<style scoped>\n",
       "    .dataframe tbody tr th:only-of-type {\n",
       "        vertical-align: middle;\n",
       "    }\n",
       "\n",
       "    .dataframe tbody tr th {\n",
       "        vertical-align: top;\n",
       "    }\n",
       "\n",
       "    .dataframe thead th {\n",
       "        text-align: right;\n",
       "    }\n",
       "</style>\n",
       "<table border=\"1\" class=\"dataframe\">\n",
       "  <thead>\n",
       "    <tr style=\"text-align: right;\">\n",
       "      <th></th>\n",
       "      <th>col1</th>\n",
       "      <th>col2</th>\n",
       "      <th>col3</th>\n",
       "    </tr>\n",
       "  </thead>\n",
       "  <tbody>\n",
       "    <tr>\n",
       "      <th>0</th>\n",
       "      <td>1</td>\n",
       "      <td>444</td>\n",
       "      <td>abc</td>\n",
       "    </tr>\n",
       "    <tr>\n",
       "      <th>1</th>\n",
       "      <td>2</td>\n",
       "      <td>555</td>\n",
       "      <td>def</td>\n",
       "    </tr>\n",
       "    <tr>\n",
       "      <th>2</th>\n",
       "      <td>3</td>\n",
       "      <td>666</td>\n",
       "      <td>ghi</td>\n",
       "    </tr>\n",
       "    <tr>\n",
       "      <th>3</th>\n",
       "      <td>4</td>\n",
       "      <td>444</td>\n",
       "      <td>xyz</td>\n",
       "    </tr>\n",
       "  </tbody>\n",
       "</table>\n",
       "</div>"
      ],
      "text/plain": [
       "   col1  col2 col3\n",
       "0     1   444  abc\n",
       "1     2   555  def\n",
       "2     3   666  ghi\n",
       "3     4   444  xyz"
      ]
     },
     "execution_count": 157,
     "metadata": {},
     "output_type": "execute_result"
    }
   ],
   "source": [
    "import pandas as pd\n",
    "df = pd.DataFrame({'col1':[1,2,3,4],'col2':[444,555,666,444],'col3':['abc','def','ghi','xyz']})\n",
    "df.head()"
   ]
  },
  {
   "cell_type": "code",
   "execution_count": 158,
   "id": "b894ce3c",
   "metadata": {},
   "outputs": [
    {
     "data": {
      "text/plain": [
       "array([1, 2, 3, 4], dtype=int64)"
      ]
     },
     "execution_count": 158,
     "metadata": {},
     "output_type": "execute_result"
    }
   ],
   "source": [
    "df[\"col1\"].unique()"
   ]
  },
  {
   "cell_type": "code",
   "execution_count": 159,
   "id": "8230d2e6",
   "metadata": {},
   "outputs": [
    {
     "data": {
      "text/plain": [
       "array([444, 555, 666], dtype=int64)"
      ]
     },
     "execution_count": 159,
     "metadata": {},
     "output_type": "execute_result"
    }
   ],
   "source": [
    "df[\"col2\"].unique()"
   ]
  },
  {
   "cell_type": "code",
   "execution_count": 160,
   "id": "39dbdee0",
   "metadata": {},
   "outputs": [
    {
     "data": {
      "text/plain": [
       "3"
      ]
     },
     "execution_count": 160,
     "metadata": {},
     "output_type": "execute_result"
    }
   ],
   "source": [
    "df[\"col2\"].nunique()"
   ]
  },
  {
   "cell_type": "code",
   "execution_count": 161,
   "id": "92951765",
   "metadata": {},
   "outputs": [
    {
     "data": {
      "text/plain": [
       "col2\n",
       "444    2\n",
       "555    1\n",
       "666    1\n",
       "Name: count, dtype: int64"
      ]
     },
     "execution_count": 161,
     "metadata": {},
     "output_type": "execute_result"
    }
   ],
   "source": [
    "df[\"col2\"].value_counts()"
   ]
  },
  {
   "cell_type": "code",
   "execution_count": 162,
   "id": "baba5f59",
   "metadata": {},
   "outputs": [],
   "source": [
    "#Select from DataFrame using criteria from multiple columns\n",
    "newdf = df[(df['col1']>2) & (df['col2']==444)]"
   ]
  },
  {
   "cell_type": "code",
   "execution_count": 163,
   "id": "7cb5be12",
   "metadata": {},
   "outputs": [
    {
     "data": {
      "text/html": [
       "<div>\n",
       "<style scoped>\n",
       "    .dataframe tbody tr th:only-of-type {\n",
       "        vertical-align: middle;\n",
       "    }\n",
       "\n",
       "    .dataframe tbody tr th {\n",
       "        vertical-align: top;\n",
       "    }\n",
       "\n",
       "    .dataframe thead th {\n",
       "        text-align: right;\n",
       "    }\n",
       "</style>\n",
       "<table border=\"1\" class=\"dataframe\">\n",
       "  <thead>\n",
       "    <tr style=\"text-align: right;\">\n",
       "      <th></th>\n",
       "      <th>col1</th>\n",
       "      <th>col2</th>\n",
       "      <th>col3</th>\n",
       "    </tr>\n",
       "  </thead>\n",
       "  <tbody>\n",
       "    <tr>\n",
       "      <th>3</th>\n",
       "      <td>4</td>\n",
       "      <td>444</td>\n",
       "      <td>xyz</td>\n",
       "    </tr>\n",
       "  </tbody>\n",
       "</table>\n",
       "</div>"
      ],
      "text/plain": [
       "   col1  col2 col3\n",
       "3     4   444  xyz"
      ]
     },
     "execution_count": 163,
     "metadata": {},
     "output_type": "execute_result"
    }
   ],
   "source": [
    "newdf"
   ]
  },
  {
   "cell_type": "code",
   "execution_count": 164,
   "id": "cb5937f2",
   "metadata": {},
   "outputs": [],
   "source": [
    "def example_fun(x):\n",
    "    return x*99"
   ]
  },
  {
   "cell_type": "code",
   "execution_count": 165,
   "id": "799b33fa",
   "metadata": {},
   "outputs": [
    {
     "data": {
      "text/plain": [
       "0     99\n",
       "1    198\n",
       "2    297\n",
       "3    396\n",
       "Name: col1, dtype: int64"
      ]
     },
     "execution_count": 165,
     "metadata": {},
     "output_type": "execute_result"
    }
   ],
   "source": [
    "df['col1'].apply(example_fun)"
   ]
  },
  {
   "cell_type": "code",
   "execution_count": 166,
   "id": "f49b5754",
   "metadata": {},
   "outputs": [],
   "source": [
    "df = df.apply(example_fun)"
   ]
  },
  {
   "cell_type": "code",
   "execution_count": 167,
   "id": "21b38f8e",
   "metadata": {},
   "outputs": [
    {
     "data": {
      "text/plain": [
       "0    297\n",
       "1    297\n",
       "2    297\n",
       "3    297\n",
       "Name: col3, dtype: int64"
      ]
     },
     "execution_count": 167,
     "metadata": {},
     "output_type": "execute_result"
    }
   ],
   "source": [
    "df[\"col3\"].apply(len)"
   ]
  },
  {
   "cell_type": "code",
   "execution_count": 168,
   "id": "196a95c2",
   "metadata": {},
   "outputs": [
    {
     "data": {
      "text/plain": [
       "990"
      ]
     },
     "execution_count": 168,
     "metadata": {},
     "output_type": "execute_result"
    }
   ],
   "source": [
    "df['col1'].sum()"
   ]
  },
  {
   "cell_type": "code",
   "execution_count": 169,
   "id": "da131be3",
   "metadata": {},
   "outputs": [
    {
     "data": {
      "text/plain": [
       "Index(['col1', 'col2', 'col3'], dtype='object')"
      ]
     },
     "execution_count": 169,
     "metadata": {},
     "output_type": "execute_result"
    }
   ],
   "source": [
    "df.columns"
   ]
  },
  {
   "cell_type": "code",
   "execution_count": 170,
   "id": "ef71fb7a",
   "metadata": {},
   "outputs": [
    {
     "data": {
      "text/plain": [
       "RangeIndex(start=0, stop=4, step=1)"
      ]
     },
     "execution_count": 170,
     "metadata": {},
     "output_type": "execute_result"
    }
   ],
   "source": [
    "df.index"
   ]
  },
  {
   "cell_type": "code",
   "execution_count": 171,
   "id": "91788017",
   "metadata": {},
   "outputs": [
    {
     "data": {
      "text/html": [
       "<div>\n",
       "<style scoped>\n",
       "    .dataframe tbody tr th:only-of-type {\n",
       "        vertical-align: middle;\n",
       "    }\n",
       "\n",
       "    .dataframe tbody tr th {\n",
       "        vertical-align: top;\n",
       "    }\n",
       "\n",
       "    .dataframe thead th {\n",
       "        text-align: right;\n",
       "    }\n",
       "</style>\n",
       "<table border=\"1\" class=\"dataframe\">\n",
       "  <thead>\n",
       "    <tr style=\"text-align: right;\">\n",
       "      <th></th>\n",
       "      <th>col1</th>\n",
       "      <th>col2</th>\n",
       "      <th>col3</th>\n",
       "    </tr>\n",
       "  </thead>\n",
       "  <tbody>\n",
       "    <tr>\n",
       "      <th>0</th>\n",
       "      <td>99</td>\n",
       "      <td>43956</td>\n",
       "      <td>abcabcabcabcabcabcabcabcabcabcabcabcabcabcabca...</td>\n",
       "    </tr>\n",
       "    <tr>\n",
       "      <th>1</th>\n",
       "      <td>198</td>\n",
       "      <td>54945</td>\n",
       "      <td>defdefdefdefdefdefdefdefdefdefdefdefdefdefdefd...</td>\n",
       "    </tr>\n",
       "    <tr>\n",
       "      <th>2</th>\n",
       "      <td>297</td>\n",
       "      <td>65934</td>\n",
       "      <td>ghighighighighighighighighighighighighighighig...</td>\n",
       "    </tr>\n",
       "    <tr>\n",
       "      <th>3</th>\n",
       "      <td>396</td>\n",
       "      <td>43956</td>\n",
       "      <td>xyzxyzxyzxyzxyzxyzxyzxyzxyzxyzxyzxyzxyzxyzxyzx...</td>\n",
       "    </tr>\n",
       "  </tbody>\n",
       "</table>\n",
       "</div>"
      ],
      "text/plain": [
       "   col1   col2                                               col3\n",
       "0    99  43956  abcabcabcabcabcabcabcabcabcabcabcabcabcabcabca...\n",
       "1   198  54945  defdefdefdefdefdefdefdefdefdefdefdefdefdefdefd...\n",
       "2   297  65934  ghighighighighighighighighighighighighighighig...\n",
       "3   396  43956  xyzxyzxyzxyzxyzxyzxyzxyzxyzxyzxyzxyzxyzxyzxyzx..."
      ]
     },
     "execution_count": 171,
     "metadata": {},
     "output_type": "execute_result"
    }
   ],
   "source": [
    "df"
   ]
  },
  {
   "cell_type": "code",
   "execution_count": 174,
   "id": "d9587a16",
   "metadata": {},
   "outputs": [
    {
     "data": {
      "text/plain": [
       "['One', 'Two', 'Three', 'Four', 'Five', 'Six', 'Seven', 'Eight']"
      ]
     },
     "execution_count": 174,
     "metadata": {},
     "output_type": "execute_result"
    }
   ],
   "source": [
    "labels"
   ]
  },
  {
   "cell_type": "code",
   "execution_count": 175,
   "id": "716636ec",
   "metadata": {},
   "outputs": [
    {
     "data": {
      "text/html": [
       "<div>\n",
       "<style scoped>\n",
       "    .dataframe tbody tr th:only-of-type {\n",
       "        vertical-align: middle;\n",
       "    }\n",
       "\n",
       "    .dataframe tbody tr th {\n",
       "        vertical-align: top;\n",
       "    }\n",
       "\n",
       "    .dataframe thead th {\n",
       "        text-align: right;\n",
       "    }\n",
       "</style>\n",
       "<table border=\"1\" class=\"dataframe\">\n",
       "  <thead>\n",
       "    <tr style=\"text-align: right;\">\n",
       "      <th></th>\n",
       "      <th>2022</th>\n",
       "      <th>2023</th>\n",
       "      <th>2024</th>\n",
       "    </tr>\n",
       "    <tr>\n",
       "      <th>Country</th>\n",
       "      <th></th>\n",
       "      <th></th>\n",
       "      <th></th>\n",
       "    </tr>\n",
       "  </thead>\n",
       "  <tbody>\n",
       "    <tr>\n",
       "      <th>USA</th>\n",
       "      <td>333000000</td>\n",
       "      <td>335000000</td>\n",
       "      <td>337000000</td>\n",
       "    </tr>\n",
       "    <tr>\n",
       "      <th>China</th>\n",
       "      <td>1467000000</td>\n",
       "      <td>1478000000</td>\n",
       "      <td>1489000000</td>\n",
       "    </tr>\n",
       "    <tr>\n",
       "      <th>India</th>\n",
       "      <td>1449000000</td>\n",
       "      <td>1467000000</td>\n",
       "      <td>1485000000</td>\n",
       "    </tr>\n",
       "    <tr>\n",
       "      <th>Brazil</th>\n",
       "      <td>216000000</td>\n",
       "      <td>218000000</td>\n",
       "      <td>220000000</td>\n",
       "    </tr>\n",
       "  </tbody>\n",
       "</table>\n",
       "</div>"
      ],
      "text/plain": [
       "               2022        2023        2024\n",
       "Country                                    \n",
       "USA       333000000   335000000   337000000\n",
       "China    1467000000  1478000000  1489000000\n",
       "India    1449000000  1467000000  1485000000\n",
       "Brazil    216000000   218000000   220000000"
      ]
     },
     "execution_count": 175,
     "metadata": {},
     "output_type": "execute_result"
    }
   ],
   "source": [
    "group_df"
   ]
  },
  {
   "cell_type": "code",
   "execution_count": 176,
   "id": "57cc39ad",
   "metadata": {},
   "outputs": [
    {
     "data": {
      "text/html": [
       "<div>\n",
       "<style scoped>\n",
       "    .dataframe tbody tr th:only-of-type {\n",
       "        vertical-align: middle;\n",
       "    }\n",
       "\n",
       "    .dataframe tbody tr th {\n",
       "        vertical-align: top;\n",
       "    }\n",
       "\n",
       "    .dataframe thead th {\n",
       "        text-align: right;\n",
       "    }\n",
       "</style>\n",
       "<table border=\"1\" class=\"dataframe\">\n",
       "  <thead>\n",
       "    <tr style=\"text-align: right;\">\n",
       "      <th></th>\n",
       "      <th>2010</th>\n",
       "      <th>2011</th>\n",
       "      <th>2012</th>\n",
       "      <th>2013</th>\n",
       "      <th>2014</th>\n",
       "      <th>2015</th>\n",
       "      <th>2016</th>\n",
       "      <th>2017</th>\n",
       "      <th>2018</th>\n",
       "      <th>2019</th>\n",
       "      <th>2020</th>\n",
       "      <th>2021</th>\n",
       "      <th>2022</th>\n",
       "      <th>2023</th>\n",
       "      <th>2024</th>\n",
       "    </tr>\n",
       "    <tr>\n",
       "      <th>Country</th>\n",
       "      <th></th>\n",
       "      <th></th>\n",
       "      <th></th>\n",
       "      <th></th>\n",
       "      <th></th>\n",
       "      <th></th>\n",
       "      <th></th>\n",
       "      <th></th>\n",
       "      <th></th>\n",
       "      <th></th>\n",
       "      <th></th>\n",
       "      <th></th>\n",
       "      <th></th>\n",
       "      <th></th>\n",
       "      <th></th>\n",
       "    </tr>\n",
       "  </thead>\n",
       "  <tbody>\n",
       "    <tr>\n",
       "      <th>USA</th>\n",
       "      <td>309000000</td>\n",
       "      <td>311000000</td>\n",
       "      <td>313000000</td>\n",
       "      <td>315000000</td>\n",
       "      <td>317000000</td>\n",
       "      <td>319000000</td>\n",
       "      <td>321000000</td>\n",
       "      <td>323000000</td>\n",
       "      <td>325000000</td>\n",
       "      <td>327000000</td>\n",
       "      <td>329000000</td>\n",
       "      <td>331000000</td>\n",
       "      <td>333000000</td>\n",
       "      <td>335000000</td>\n",
       "      <td>337000000</td>\n",
       "    </tr>\n",
       "    <tr>\n",
       "      <th>China</th>\n",
       "      <td>1334000000</td>\n",
       "      <td>1347000000</td>\n",
       "      <td>1355000000</td>\n",
       "      <td>1368000000</td>\n",
       "      <td>1380000000</td>\n",
       "      <td>1390000000</td>\n",
       "      <td>1401000000</td>\n",
       "      <td>1412000000</td>\n",
       "      <td>1423000000</td>\n",
       "      <td>1434000000</td>\n",
       "      <td>1445000000</td>\n",
       "      <td>1456000000</td>\n",
       "      <td>1467000000</td>\n",
       "      <td>1478000000</td>\n",
       "      <td>1489000000</td>\n",
       "    </tr>\n",
       "    <tr>\n",
       "      <th>India</th>\n",
       "      <td>1234000000</td>\n",
       "      <td>1252000000</td>\n",
       "      <td>1269000000</td>\n",
       "      <td>1287000000</td>\n",
       "      <td>1305000000</td>\n",
       "      <td>1323000000</td>\n",
       "      <td>1341000000</td>\n",
       "      <td>1359000000</td>\n",
       "      <td>1377000000</td>\n",
       "      <td>1395000000</td>\n",
       "      <td>1413000000</td>\n",
       "      <td>1431000000</td>\n",
       "      <td>1449000000</td>\n",
       "      <td>1467000000</td>\n",
       "      <td>1485000000</td>\n",
       "    </tr>\n",
       "    <tr>\n",
       "      <th>Brazil</th>\n",
       "      <td>192000000</td>\n",
       "      <td>194000000</td>\n",
       "      <td>196000000</td>\n",
       "      <td>198000000</td>\n",
       "      <td>200000000</td>\n",
       "      <td>202000000</td>\n",
       "      <td>204000000</td>\n",
       "      <td>206000000</td>\n",
       "      <td>208000000</td>\n",
       "      <td>210000000</td>\n",
       "      <td>212000000</td>\n",
       "      <td>214000000</td>\n",
       "      <td>216000000</td>\n",
       "      <td>218000000</td>\n",
       "      <td>220000000</td>\n",
       "    </tr>\n",
       "  </tbody>\n",
       "</table>\n",
       "</div>"
      ],
      "text/plain": [
       "               2010        2011        2012        2013        2014  \\\n",
       "Country                                                               \n",
       "USA       309000000   311000000   313000000   315000000   317000000   \n",
       "China    1334000000  1347000000  1355000000  1368000000  1380000000   \n",
       "India    1234000000  1252000000  1269000000  1287000000  1305000000   \n",
       "Brazil    192000000   194000000   196000000   198000000   200000000   \n",
       "\n",
       "               2015        2016        2017        2018        2019  \\\n",
       "Country                                                               \n",
       "USA       319000000   321000000   323000000   325000000   327000000   \n",
       "China    1390000000  1401000000  1412000000  1423000000  1434000000   \n",
       "India    1323000000  1341000000  1359000000  1377000000  1395000000   \n",
       "Brazil    202000000   204000000   206000000   208000000   210000000   \n",
       "\n",
       "               2020        2021        2022        2023        2024  \n",
       "Country                                                              \n",
       "USA       329000000   331000000   333000000   335000000   337000000  \n",
       "China    1445000000  1456000000  1467000000  1478000000  1489000000  \n",
       "India    1413000000  1431000000  1449000000  1467000000  1485000000  \n",
       "Brazil    212000000   214000000   216000000   218000000   220000000  "
      ]
     },
     "execution_count": 176,
     "metadata": {},
     "output_type": "execute_result"
    }
   ],
   "source": [
    "group_df_full"
   ]
  },
  {
   "cell_type": "code",
   "execution_count": 179,
   "id": "a990c85b",
   "metadata": {},
   "outputs": [
    {
     "data": {
      "text/html": [
       "<div>\n",
       "<style scoped>\n",
       "    .dataframe tbody tr th:only-of-type {\n",
       "        vertical-align: middle;\n",
       "    }\n",
       "\n",
       "    .dataframe tbody tr th {\n",
       "        vertical-align: top;\n",
       "    }\n",
       "\n",
       "    .dataframe thead th {\n",
       "        text-align: right;\n",
       "    }\n",
       "</style>\n",
       "<table border=\"1\" class=\"dataframe\">\n",
       "  <thead>\n",
       "    <tr style=\"text-align: right;\">\n",
       "      <th>Country</th>\n",
       "      <th>USA</th>\n",
       "      <th>China</th>\n",
       "      <th>India</th>\n",
       "      <th>Brazil</th>\n",
       "    </tr>\n",
       "  </thead>\n",
       "  <tbody>\n",
       "    <tr>\n",
       "      <th>2010</th>\n",
       "      <td>309000000</td>\n",
       "      <td>1334000000</td>\n",
       "      <td>1234000000</td>\n",
       "      <td>192000000</td>\n",
       "    </tr>\n",
       "    <tr>\n",
       "      <th>2011</th>\n",
       "      <td>311000000</td>\n",
       "      <td>1347000000</td>\n",
       "      <td>1252000000</td>\n",
       "      <td>194000000</td>\n",
       "    </tr>\n",
       "    <tr>\n",
       "      <th>2012</th>\n",
       "      <td>313000000</td>\n",
       "      <td>1355000000</td>\n",
       "      <td>1269000000</td>\n",
       "      <td>196000000</td>\n",
       "    </tr>\n",
       "    <tr>\n",
       "      <th>2013</th>\n",
       "      <td>315000000</td>\n",
       "      <td>1368000000</td>\n",
       "      <td>1287000000</td>\n",
       "      <td>198000000</td>\n",
       "    </tr>\n",
       "    <tr>\n",
       "      <th>2014</th>\n",
       "      <td>317000000</td>\n",
       "      <td>1380000000</td>\n",
       "      <td>1305000000</td>\n",
       "      <td>200000000</td>\n",
       "    </tr>\n",
       "    <tr>\n",
       "      <th>2015</th>\n",
       "      <td>319000000</td>\n",
       "      <td>1390000000</td>\n",
       "      <td>1323000000</td>\n",
       "      <td>202000000</td>\n",
       "    </tr>\n",
       "    <tr>\n",
       "      <th>2016</th>\n",
       "      <td>321000000</td>\n",
       "      <td>1401000000</td>\n",
       "      <td>1341000000</td>\n",
       "      <td>204000000</td>\n",
       "    </tr>\n",
       "    <tr>\n",
       "      <th>2017</th>\n",
       "      <td>323000000</td>\n",
       "      <td>1412000000</td>\n",
       "      <td>1359000000</td>\n",
       "      <td>206000000</td>\n",
       "    </tr>\n",
       "    <tr>\n",
       "      <th>2018</th>\n",
       "      <td>325000000</td>\n",
       "      <td>1423000000</td>\n",
       "      <td>1377000000</td>\n",
       "      <td>208000000</td>\n",
       "    </tr>\n",
       "    <tr>\n",
       "      <th>2019</th>\n",
       "      <td>327000000</td>\n",
       "      <td>1434000000</td>\n",
       "      <td>1395000000</td>\n",
       "      <td>210000000</td>\n",
       "    </tr>\n",
       "    <tr>\n",
       "      <th>2020</th>\n",
       "      <td>329000000</td>\n",
       "      <td>1445000000</td>\n",
       "      <td>1413000000</td>\n",
       "      <td>212000000</td>\n",
       "    </tr>\n",
       "    <tr>\n",
       "      <th>2021</th>\n",
       "      <td>331000000</td>\n",
       "      <td>1456000000</td>\n",
       "      <td>1431000000</td>\n",
       "      <td>214000000</td>\n",
       "    </tr>\n",
       "    <tr>\n",
       "      <th>2022</th>\n",
       "      <td>333000000</td>\n",
       "      <td>1467000000</td>\n",
       "      <td>1449000000</td>\n",
       "      <td>216000000</td>\n",
       "    </tr>\n",
       "    <tr>\n",
       "      <th>2023</th>\n",
       "      <td>335000000</td>\n",
       "      <td>1478000000</td>\n",
       "      <td>1467000000</td>\n",
       "      <td>218000000</td>\n",
       "    </tr>\n",
       "    <tr>\n",
       "      <th>2024</th>\n",
       "      <td>337000000</td>\n",
       "      <td>1489000000</td>\n",
       "      <td>1485000000</td>\n",
       "      <td>220000000</td>\n",
       "    </tr>\n",
       "  </tbody>\n",
       "</table>\n",
       "</div>"
      ],
      "text/plain": [
       "Country        USA       China       India     Brazil\n",
       "2010     309000000  1334000000  1234000000  192000000\n",
       "2011     311000000  1347000000  1252000000  194000000\n",
       "2012     313000000  1355000000  1269000000  196000000\n",
       "2013     315000000  1368000000  1287000000  198000000\n",
       "2014     317000000  1380000000  1305000000  200000000\n",
       "2015     319000000  1390000000  1323000000  202000000\n",
       "2016     321000000  1401000000  1341000000  204000000\n",
       "2017     323000000  1412000000  1359000000  206000000\n",
       "2018     325000000  1423000000  1377000000  208000000\n",
       "2019     327000000  1434000000  1395000000  210000000\n",
       "2020     329000000  1445000000  1413000000  212000000\n",
       "2021     331000000  1456000000  1431000000  214000000\n",
       "2022     333000000  1467000000  1449000000  216000000\n",
       "2023     335000000  1478000000  1467000000  218000000\n",
       "2024     337000000  1489000000  1485000000  220000000"
      ]
     },
     "execution_count": 179,
     "metadata": {},
     "output_type": "execute_result"
    }
   ],
   "source": [
    "year_df"
   ]
  },
  {
   "cell_type": "code",
   "execution_count": 1,
   "id": "78352555",
   "metadata": {},
   "outputs": [],
   "source": [
    "# 20 2 2024"
   ]
  },
  {
   "cell_type": "code",
   "execution_count": 2,
   "id": "67952e29",
   "metadata": {},
   "outputs": [
    {
     "data": {
      "text/html": [
       "<div>\n",
       "<style scoped>\n",
       "    .dataframe tbody tr th:only-of-type {\n",
       "        vertical-align: middle;\n",
       "    }\n",
       "\n",
       "    .dataframe tbody tr th {\n",
       "        vertical-align: top;\n",
       "    }\n",
       "\n",
       "    .dataframe thead th {\n",
       "        text-align: right;\n",
       "    }\n",
       "</style>\n",
       "<table border=\"1\" class=\"dataframe\">\n",
       "  <thead>\n",
       "    <tr style=\"text-align: right;\">\n",
       "      <th></th>\n",
       "      <th>col1</th>\n",
       "      <th>col2</th>\n",
       "      <th>col3</th>\n",
       "    </tr>\n",
       "  </thead>\n",
       "  <tbody>\n",
       "    <tr>\n",
       "      <th>0</th>\n",
       "      <td>1</td>\n",
       "      <td>444</td>\n",
       "      <td>abc</td>\n",
       "    </tr>\n",
       "    <tr>\n",
       "      <th>1</th>\n",
       "      <td>2</td>\n",
       "      <td>555</td>\n",
       "      <td>def</td>\n",
       "    </tr>\n",
       "    <tr>\n",
       "      <th>2</th>\n",
       "      <td>3</td>\n",
       "      <td>666</td>\n",
       "      <td>ghi</td>\n",
       "    </tr>\n",
       "    <tr>\n",
       "      <th>3</th>\n",
       "      <td>4</td>\n",
       "      <td>444</td>\n",
       "      <td>xyz</td>\n",
       "    </tr>\n",
       "  </tbody>\n",
       "</table>\n",
       "</div>"
      ],
      "text/plain": [
       "   col1  col2 col3\n",
       "0     1   444  abc\n",
       "1     2   555  def\n",
       "2     3   666  ghi\n",
       "3     4   444  xyz"
      ]
     },
     "execution_count": 2,
     "metadata": {},
     "output_type": "execute_result"
    }
   ],
   "source": [
    "import pandas as pd\n",
    "df = pd.DataFrame({'col1':[1,2,3,4],'col2':[444,555,666,444],'col3':['abc','def','ghi','xyz']})\n",
    "df.head()"
   ]
  },
  {
   "cell_type": "code",
   "execution_count": 8,
   "id": "deb1344e",
   "metadata": {},
   "outputs": [
    {
     "data": {
      "text/plain": [
       "col1      4\n",
       "col2    666\n",
       "col3    xyz\n",
       "dtype: object"
      ]
     },
     "execution_count": 8,
     "metadata": {},
     "output_type": "execute_result"
    }
   ],
   "source": [
    "df.max(axis=0)"
   ]
  },
  {
   "cell_type": "code",
   "execution_count": 10,
   "id": "f84db9ac",
   "metadata": {},
   "outputs": [
    {
     "data": {
      "text/plain": [
       "array([444, 555, 666], dtype=int64)"
      ]
     },
     "execution_count": 10,
     "metadata": {},
     "output_type": "execute_result"
    }
   ],
   "source": [
    "df.col2.unique()"
   ]
  },
  {
   "cell_type": "code",
   "execution_count": null,
   "id": "08196668",
   "metadata": {},
   "outputs": [],
   "source": []
  }
 ],
 "metadata": {
  "kernelspec": {
   "display_name": "Python 3 (ipykernel)",
   "language": "python",
   "name": "python3"
  },
  "language_info": {
   "codemirror_mode": {
    "name": "ipython",
    "version": 3
   },
   "file_extension": ".py",
   "mimetype": "text/x-python",
   "name": "python",
   "nbconvert_exporter": "python",
   "pygments_lexer": "ipython3",
   "version": "3.11.5"
  }
 },
 "nbformat": 4,
 "nbformat_minor": 5
}

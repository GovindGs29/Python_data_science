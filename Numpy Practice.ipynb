{
 "cells": [
  {
   "cell_type": "code",
   "execution_count": 69,
   "id": "2728d422",
   "metadata": {},
   "outputs": [],
   "source": [
    "#Numpy"
   ]
  },
  {
   "cell_type": "markdown",
   "id": "e29b8879",
   "metadata": {},
   "source": [
    "This is an example for markdown"
   ]
  },
  {
   "cell_type": "code",
   "execution_count": 2,
   "id": "c22d567b",
   "metadata": {},
   "outputs": [],
   "source": [
    "# NUmpy Basics"
   ]
  },
  {
   "cell_type": "code",
   "execution_count": 3,
   "id": "800341db",
   "metadata": {},
   "outputs": [],
   "source": [
    "import numpy as np"
   ]
  },
  {
   "cell_type": "code",
   "execution_count": 4,
   "id": "9343de42",
   "metadata": {},
   "outputs": [],
   "source": [
    "list1 = [1,2,3,4]"
   ]
  },
  {
   "cell_type": "code",
   "execution_count": 5,
   "id": "320a65b2",
   "metadata": {},
   "outputs": [
    {
     "data": {
      "text/plain": [
       "array([1, 2, 3, 4])"
      ]
     },
     "execution_count": 5,
     "metadata": {},
     "output_type": "execute_result"
    }
   ],
   "source": [
    "np.array(list1)"
   ]
  },
  {
   "cell_type": "code",
   "execution_count": 6,
   "id": "045ffdb2",
   "metadata": {},
   "outputs": [],
   "source": [
    "arr1 = np.array(list1)"
   ]
  },
  {
   "cell_type": "code",
   "execution_count": 7,
   "id": "bb15bbd7",
   "metadata": {},
   "outputs": [
    {
     "data": {
      "text/plain": [
       "array([1, 2, 3, 4])"
      ]
     },
     "execution_count": 7,
     "metadata": {},
     "output_type": "execute_result"
    }
   ],
   "source": [
    "arr1"
   ]
  },
  {
   "cell_type": "code",
   "execution_count": 12,
   "id": "14dd548b",
   "metadata": {},
   "outputs": [
    {
     "data": {
      "text/plain": [
       "array([ 0,  1,  2,  3,  4,  5,  6,  7,  8,  9, 10, 11, 12, 13, 14, 15, 16,\n",
       "       17, 18, 19, 20, 21, 22, 23, 24, 25, 26, 27, 28, 29, 30, 31, 32, 33,\n",
       "       34, 35, 36, 37, 38, 39, 40, 41, 42, 43, 44, 45, 46, 47, 48, 49, 50,\n",
       "       51, 52, 53, 54, 55, 56, 57, 58, 59])"
      ]
     },
     "execution_count": 12,
     "metadata": {},
     "output_type": "execute_result"
    }
   ],
   "source": [
    "np.arange(0,60,1)"
   ]
  },
  {
   "cell_type": "code",
   "execution_count": 13,
   "id": "c9e71a97",
   "metadata": {},
   "outputs": [
    {
     "data": {
      "text/plain": [
       "array([ 0,  1,  2,  3,  4,  5,  6,  7,  8,  9, 10, 11, 12, 13, 14, 15, 16,\n",
       "       17, 18, 19, 20, 21, 22, 23, 24, 25])"
      ]
     },
     "execution_count": 13,
     "metadata": {},
     "output_type": "execute_result"
    }
   ],
   "source": [
    "np.arange(26)"
   ]
  },
  {
   "cell_type": "code",
   "execution_count": 27,
   "id": "343f0621",
   "metadata": {},
   "outputs": [
    {
     "data": {
      "text/plain": [
       "array([[0., 0.],\n",
       "       [0., 0.]])"
      ]
     },
     "execution_count": 27,
     "metadata": {},
     "output_type": "execute_result"
    }
   ],
   "source": [
    "np.zeros((2,2))"
   ]
  },
  {
   "cell_type": "code",
   "execution_count": 21,
   "id": "caac2667",
   "metadata": {},
   "outputs": [
    {
     "data": {
      "text/plain": [
       "array([[1., 0., 0.],\n",
       "       [0., 1., 0.],\n",
       "       [0., 0., 1.]])"
      ]
     },
     "execution_count": 21,
     "metadata": {},
     "output_type": "execute_result"
    }
   ],
   "source": [
    "np.eye(3)"
   ]
  },
  {
   "cell_type": "code",
   "execution_count": 26,
   "id": "dddfbd52",
   "metadata": {},
   "outputs": [
    {
     "data": {
      "text/plain": [
       "array([[1., 1., 1., 1., 1.],\n",
       "       [1., 1., 1., 1., 1.],\n",
       "       [1., 1., 1., 1., 1.],\n",
       "       [1., 1., 1., 1., 1.]])"
      ]
     },
     "execution_count": 26,
     "metadata": {},
     "output_type": "execute_result"
    }
   ],
   "source": [
    "np.ones((4,5))"
   ]
  },
  {
   "cell_type": "code",
   "execution_count": 30,
   "id": "236e5586",
   "metadata": {},
   "outputs": [
    {
     "data": {
      "text/plain": [
       "array([ 0.        ,  0.51020408,  1.02040816,  1.53061224,  2.04081633,\n",
       "        2.55102041,  3.06122449,  3.57142857,  4.08163265,  4.59183673,\n",
       "        5.10204082,  5.6122449 ,  6.12244898,  6.63265306,  7.14285714,\n",
       "        7.65306122,  8.16326531,  8.67346939,  9.18367347,  9.69387755,\n",
       "       10.20408163, 10.71428571, 11.2244898 , 11.73469388, 12.24489796,\n",
       "       12.75510204, 13.26530612, 13.7755102 , 14.28571429, 14.79591837,\n",
       "       15.30612245, 15.81632653, 16.32653061, 16.83673469, 17.34693878,\n",
       "       17.85714286, 18.36734694, 18.87755102, 19.3877551 , 19.89795918,\n",
       "       20.40816327, 20.91836735, 21.42857143, 21.93877551, 22.44897959,\n",
       "       22.95918367, 23.46938776, 23.97959184, 24.48979592, 25.        ,\n",
       "       25.51020408, 26.02040816, 26.53061224, 27.04081633, 27.55102041,\n",
       "       28.06122449, 28.57142857, 29.08163265, 29.59183673, 30.10204082,\n",
       "       30.6122449 , 31.12244898, 31.63265306, 32.14285714, 32.65306122,\n",
       "       33.16326531, 33.67346939, 34.18367347, 34.69387755, 35.20408163,\n",
       "       35.71428571, 36.2244898 , 36.73469388, 37.24489796, 37.75510204,\n",
       "       38.26530612, 38.7755102 , 39.28571429, 39.79591837, 40.30612245,\n",
       "       40.81632653, 41.32653061, 41.83673469, 42.34693878, 42.85714286,\n",
       "       43.36734694, 43.87755102, 44.3877551 , 44.89795918, 45.40816327,\n",
       "       45.91836735, 46.42857143, 46.93877551, 47.44897959, 47.95918367,\n",
       "       48.46938776, 48.97959184, 49.48979592, 50.        ])"
      ]
     },
     "execution_count": 30,
     "metadata": {},
     "output_type": "execute_result"
    }
   ],
   "source": [
    "np.linspace(0,50,99)"
   ]
  },
  {
   "cell_type": "code",
   "execution_count": 31,
   "id": "933a5a74",
   "metadata": {},
   "outputs": [
    {
     "data": {
      "text/plain": [
       "array([0.98666632, 0.64248371, 0.76231803, 0.2124434 , 0.59782661,\n",
       "       0.88733223, 0.85092623])"
      ]
     },
     "execution_count": 31,
     "metadata": {},
     "output_type": "execute_result"
    }
   ],
   "source": [
    "np.random.rand(7)"
   ]
  },
  {
   "cell_type": "code",
   "execution_count": 33,
   "id": "bf4e7b50",
   "metadata": {},
   "outputs": [
    {
     "data": {
      "text/plain": [
       "array([0.95056682, 0.81986053, 0.89781118, 0.39213305, 0.1414346 ,\n",
       "       0.19094363, 0.04348324, 0.81764491, 0.68818112])"
      ]
     },
     "execution_count": 33,
     "metadata": {},
     "output_type": "execute_result"
    }
   ],
   "source": [
    "np.random.rand(9)"
   ]
  },
  {
   "cell_type": "code",
   "execution_count": 38,
   "id": "037f21bb",
   "metadata": {},
   "outputs": [
    {
     "data": {
      "text/plain": [
       "array([ 0.56860416, -1.06420747, -0.02040055,  1.76562385, -0.7061177 ,\n",
       "       -0.24536394, -1.14225001,  0.00859032,  1.82013319])"
      ]
     },
     "execution_count": 38,
     "metadata": {},
     "output_type": "execute_result"
    }
   ],
   "source": [
    "np.random.randn(9)"
   ]
  },
  {
   "cell_type": "code",
   "execution_count": 39,
   "id": "b5ba4d7b",
   "metadata": {},
   "outputs": [
    {
     "data": {
      "text/plain": [
       "array([ 39, 419, 309, 242, 937, 215, 178, 615, 237, 171, 550,  36, 963,\n",
       "       878, 421, 786, 877, 375, 629, 721, 439, 343, 430, 480, 858, 759,\n",
       "       304, 149, 163, 303, 525, 420, 468,  42, 307, 510, 571, 626, 934,\n",
       "       575, 918, 776, 353, 787, 986, 492, 278, 734, 536, 232, 142, 643,\n",
       "       413, 594, 582, 987, 640, 663, 795,  18, 223,  14, 761, 344, 804,\n",
       "       547, 149, 256, 341, 178])"
      ]
     },
     "execution_count": 39,
     "metadata": {},
     "output_type": "execute_result"
    }
   ],
   "source": [
    "np.random.randint(10,1000,70)"
   ]
  },
  {
   "cell_type": "code",
   "execution_count": 40,
   "id": "989b8e9a",
   "metadata": {},
   "outputs": [
    {
     "data": {
      "text/plain": [
       "array([127248,  26635])"
      ]
     },
     "execution_count": 40,
     "metadata": {},
     "output_type": "execute_result"
    }
   ],
   "source": [
    "np.random.randint(0,199999,2)"
   ]
  },
  {
   "cell_type": "markdown",
   "id": "6946698c",
   "metadata": {},
   "source": [
    "BELOW CELLS ARE METHODS!!"
   ]
  },
  {
   "cell_type": "code",
   "execution_count": 41,
   "id": "70f6e2df",
   "metadata": {},
   "outputs": [],
   "source": [
    "# Methods"
   ]
  },
  {
   "cell_type": "code",
   "execution_count": 42,
   "id": "33bdc055",
   "metadata": {},
   "outputs": [],
   "source": [
    "example_arr = np.arange(25)"
   ]
  },
  {
   "cell_type": "code",
   "execution_count": 43,
   "id": "d054b6aa",
   "metadata": {},
   "outputs": [
    {
     "data": {
      "text/plain": [
       "array([ 0,  1,  2,  3,  4,  5,  6,  7,  8,  9, 10, 11, 12, 13, 14, 15, 16,\n",
       "       17, 18, 19, 20, 21, 22, 23, 24])"
      ]
     },
     "execution_count": 43,
     "metadata": {},
     "output_type": "execute_result"
    }
   ],
   "source": [
    "example_arr"
   ]
  },
  {
   "cell_type": "code",
   "execution_count": 55,
   "id": "f9036a63",
   "metadata": {},
   "outputs": [],
   "source": [
    "random_arr = np.random.randint(0,100,26)\n"
   ]
  },
  {
   "cell_type": "code",
   "execution_count": 56,
   "id": "476e6a4b",
   "metadata": {},
   "outputs": [
    {
     "data": {
      "text/plain": [
       "array([54, 38,  7, 63, 87, 42, 41, 80,  1, 89, 77, 10, 46, 77, 47, 48, 42,\n",
       "       40, 61, 28, 75,  2,  5, 37, 93, 29])"
      ]
     },
     "execution_count": 56,
     "metadata": {},
     "output_type": "execute_result"
    }
   ],
   "source": [
    "random_arr"
   ]
  },
  {
   "cell_type": "code",
   "execution_count": 57,
   "id": "58145f12",
   "metadata": {},
   "outputs": [
    {
     "data": {
      "text/plain": [
       "93"
      ]
     },
     "execution_count": 57,
     "metadata": {},
     "output_type": "execute_result"
    }
   ],
   "source": [
    "random_arr.max()"
   ]
  },
  {
   "cell_type": "code",
   "execution_count": 58,
   "id": "9a9b9e70",
   "metadata": {},
   "outputs": [
    {
     "data": {
      "text/plain": [
       "1"
      ]
     },
     "execution_count": 58,
     "metadata": {},
     "output_type": "execute_result"
    }
   ],
   "source": [
    "random_arr.min()"
   ]
  },
  {
   "cell_type": "code",
   "execution_count": 59,
   "id": "a122955a",
   "metadata": {},
   "outputs": [
    {
     "data": {
      "text/plain": [
       "24"
      ]
     },
     "execution_count": 59,
     "metadata": {},
     "output_type": "execute_result"
    }
   ],
   "source": [
    "random_arr.argmax()"
   ]
  },
  {
   "cell_type": "code",
   "execution_count": 60,
   "id": "bd14c7f3",
   "metadata": {},
   "outputs": [
    {
     "data": {
      "text/plain": [
       "8"
      ]
     },
     "execution_count": 60,
     "metadata": {},
     "output_type": "execute_result"
    }
   ],
   "source": [
    "random_arr.argmin()"
   ]
  },
  {
   "cell_type": "code",
   "execution_count": 61,
   "id": "059ae7b0",
   "metadata": {},
   "outputs": [
    {
     "data": {
      "text/plain": [
       "(26,)"
      ]
     },
     "execution_count": 61,
     "metadata": {},
     "output_type": "execute_result"
    }
   ],
   "source": [
    "random_arr.shape"
   ]
  },
  {
   "cell_type": "code",
   "execution_count": 63,
   "id": "31c3bd63",
   "metadata": {},
   "outputs": [
    {
     "data": {
      "text/plain": [
       "array([[54, 38],\n",
       "       [ 7, 63],\n",
       "       [87, 42],\n",
       "       [41, 80],\n",
       "       [ 1, 89],\n",
       "       [77, 10],\n",
       "       [46, 77],\n",
       "       [47, 48],\n",
       "       [42, 40],\n",
       "       [61, 28],\n",
       "       [75,  2],\n",
       "       [ 5, 37],\n",
       "       [93, 29]])"
      ]
     },
     "execution_count": 63,
     "metadata": {},
     "output_type": "execute_result"
    }
   ],
   "source": [
    "random_arr.reshape(13,2)"
   ]
  },
  {
   "cell_type": "code",
   "execution_count": 64,
   "id": "095324c2",
   "metadata": {},
   "outputs": [
    {
     "data": {
      "text/plain": [
       "array([[54, 38,  7, 63, 87, 42, 41, 80,  1, 89, 77, 10, 46],\n",
       "       [77, 47, 48, 42, 40, 61, 28, 75,  2,  5, 37, 93, 29]])"
      ]
     },
     "execution_count": 64,
     "metadata": {},
     "output_type": "execute_result"
    }
   ],
   "source": [
    "random_arr.reshape(2,13)"
   ]
  },
  {
   "cell_type": "code",
   "execution_count": 65,
   "id": "cbe09239",
   "metadata": {},
   "outputs": [
    {
     "data": {
      "text/plain": [
       "array([[54],\n",
       "       [38],\n",
       "       [ 7],\n",
       "       [63],\n",
       "       [87],\n",
       "       [42],\n",
       "       [41],\n",
       "       [80],\n",
       "       [ 1],\n",
       "       [89],\n",
       "       [77],\n",
       "       [10],\n",
       "       [46],\n",
       "       [77],\n",
       "       [47],\n",
       "       [48],\n",
       "       [42],\n",
       "       [40],\n",
       "       [61],\n",
       "       [28],\n",
       "       [75],\n",
       "       [ 2],\n",
       "       [ 5],\n",
       "       [37],\n",
       "       [93],\n",
       "       [29]])"
      ]
     },
     "execution_count": 65,
     "metadata": {},
     "output_type": "execute_result"
    }
   ],
   "source": [
    "random_arr.reshape(26,1)"
   ]
  },
  {
   "cell_type": "code",
   "execution_count": 66,
   "id": "9b1addae",
   "metadata": {},
   "outputs": [
    {
     "data": {
      "text/plain": [
       "array([[54, 38,  7, 63, 87, 42, 41, 80,  1, 89, 77, 10, 46, 77, 47, 48,\n",
       "        42, 40, 61, 28, 75,  2,  5, 37, 93, 29]])"
      ]
     },
     "execution_count": 66,
     "metadata": {},
     "output_type": "execute_result"
    }
   ],
   "source": [
    "random_arr.reshape(1,26)"
   ]
  },
  {
   "cell_type": "code",
   "execution_count": 68,
   "id": "58eeb894",
   "metadata": {},
   "outputs": [
    {
     "data": {
      "text/plain": [
       "dtype('int32')"
      ]
     },
     "execution_count": 68,
     "metadata": {},
     "output_type": "execute_result"
    }
   ],
   "source": [
    "random_arr.dtype"
   ]
  },
  {
   "cell_type": "code",
   "execution_count": null,
   "id": "0fb9cd9f",
   "metadata": {},
   "outputs": [],
   "source": []
  }
 ],
 "metadata": {
  "celltoolbar": "Raw Cell Format",
  "kernelspec": {
   "display_name": "Python 3 (ipykernel)",
   "language": "python",
   "name": "python3"
  },
  "language_info": {
   "codemirror_mode": {
    "name": "ipython",
    "version": 3
   },
   "file_extension": ".py",
   "mimetype": "text/x-python",
   "name": "python",
   "nbconvert_exporter": "python",
   "pygments_lexer": "ipython3",
   "version": "3.11.5"
  }
 },
 "nbformat": 4,
 "nbformat_minor": 5
}
